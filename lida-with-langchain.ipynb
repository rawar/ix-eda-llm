{
  "cells": [
    {
      "cell_type": "markdown",
      "metadata": {
        "id": "QQXoiOiogm2C"
      },
      "source": [
        "# Microsoft LIDA approach with Langchain\n",
        "\n",
        "The [Paper](https://arxiv.org/abs/2303.02927) __LIDA: Automatic Generation of Visualizations and Infographics using Large Language Models__ by [Victor Dibia](https://github.com/victordibia) shows how LLMs can be used to generate automatic data visualizations. Unfortunately, the [GitHub](https://github.com/microsoft/lida) repository is not up-to-date and cannot be run with the supported LLMs due to version conflicts and dependencies.\n",
        "\n",
        "In order to be able to use different language models, [Victor Dibia](https://github.com/victordibia) has also implemented his own abstraction framework [LLMX](https://github.com/victordibia/llmx), which is unfortunately no longer usable due to a newer OpenAI API version.\n",
        "\n",
        "For this reason, I have copied parts of the framework within this notebook in order to be able to better control the LIDA process. This implementation uses Langchain for the LLM handling."
      ]
    },
    {
      "cell_type": "markdown",
      "metadata": {
        "id": "7pHXh-hdSx0W"
      },
      "source": [
        "## Install required packages"
      ]
    },
    {
      "cell_type": "code",
      "execution_count": 4,
      "metadata": {
        "id": "hHmX2o4xi641"
      },
      "outputs": [],
      "source": [
        "!pip install --quiet langchain\n",
        "!pip install --quiet openai"
      ]
    },
    {
      "cell_type": "markdown",
      "metadata": {
        "id": "MAjWEiqES3l5"
      },
      "source": [
        "### Import required modules and classes"
      ]
    },
    {
      "cell_type": "code",
      "execution_count": 5,
      "metadata": {
        "id": "9tzq0kXYhXHh"
      },
      "outputs": [],
      "source": [
        "import os\n",
        "import logging\n",
        "import sys\n",
        "import textwrap\n",
        "import pprint\n",
        "import pandas as pd\n",
        "from langchain.docstore.document import Document\n",
        "from langchain.document_loaders import TextLoader\n",
        "from langchain.embeddings.azure_openai import AzureOpenAIEmbeddings\n",
        "from langchain_community.chat_models import AzureChatOpenAI\n",
        "from langchain.llms import AzureOpenAI\n",
        "from langchain.prompts import ChatPromptTemplate\n",
        "from langchain.prompts import PromptTemplate\n",
        "from langchain.schema import HumanMessage\n",
        "import getpass\n",
        "import json\n",
        "import re\n",
        "import warnings\n",
        "import importlib\n",
        "import ast\n",
        "import matplotlib.pyplot as plt"
      ]
    },
    {
      "cell_type": "code",
      "execution_count": 6,
      "metadata": {
        "id": "7yA53rY2k-Z4"
      },
      "outputs": [],
      "source": [
        "logger = logging.getLogger(__name__)"
      ]
    },
    {
      "cell_type": "markdown",
      "metadata": {
        "id": "FTX4bvf7S-yS"
      },
      "source": [
        "### Enter your Azure OpenAI GPT-4 key and endpoint URL"
      ]
    },
    {
      "cell_type": "code",
      "execution_count": 7,
      "metadata": {
        "colab": {
          "base_uri": "https://localhost:8080/"
        },
        "id": "yhQkkEYMgmCL",
        "outputId": "978bb314-dad0-470a-a61e-c5cf26b07410"
      },
      "outputs": [
        {
          "name": "stdout",
          "output_type": "stream",
          "text": [
            "Enter AZURE_OPENAI_API_KEY:\n",
            "··········\n"
          ]
        }
      ],
      "source": [
        "print('Enter AZURE_OPENAI_API_KEY:')\n",
        "os.environ[\"AZURE_OPENAI_API_KEY\"] = getpass.getpass()"
      ]
    },
    {
      "cell_type": "code",
      "execution_count": 8,
      "metadata": {
        "colab": {
          "base_uri": "https://localhost:8080/"
        },
        "id": "a5D6JBd7ikQ_",
        "outputId": "7481ca6e-0cd9-488c-c3f5-3de7efcee762"
      },
      "outputs": [
        {
          "name": "stdout",
          "output_type": "stream",
          "text": [
            "Enter AZURE_OPENAI_ENDPOINT:\n",
            "··········\n"
          ]
        }
      ],
      "source": [
        "print('Enter AZURE_OPENAI_ENDPOINT:')\n",
        "os.environ[\"AZURE_OPENAI_ENDPOINT\"] = getpass.getpass()"
      ]
    },
    {
      "cell_type": "markdown",
      "metadata": {
        "id": "EKhDdeKNTLGq"
      },
      "source": [
        "### Some helper functions"
      ]
    },
    {
      "cell_type": "code",
      "execution_count": 9,
      "metadata": {
        "id": "Xu0j5j16xOKI"
      },
      "outputs": [],
      "source": [
        "def clean_code_snippet(code_string):\n",
        "    # Extract code snippet using regex\n",
        "    cleaned_snippet = re.search(r'```(?:\\w+)?\\s*([\\s\\S]*?)\\s*```', code_string)\n",
        "\n",
        "    if cleaned_snippet:\n",
        "        cleaned_snippet = cleaned_snippet.group(1)\n",
        "    else:\n",
        "        cleaned_snippet = code_string\n",
        "\n",
        "    # remove non-printable characters\n",
        "    # cleaned_snippet = re.sub(r'[\\x00-\\x1F]+', ' ', cleaned_snippet)\n",
        "\n",
        "    return cleaned_snippet"
      ]
    },
    {
      "cell_type": "code",
      "execution_count": 10,
      "metadata": {
        "id": "nbFMbPLVplFz"
      },
      "outputs": [],
      "source": [
        "def clean_column_names(df):\n",
        "    # create a copy of the dataframe to avoid modifying the original data\n",
        "    cleaned_df = df.copy()\n",
        "\n",
        "    # iterate over column names in the dataframe\n",
        "    for col in cleaned_df.columns:\n",
        "        # check if column name contains any special characters or spaces\n",
        "        if re.search('[^0-9a-zA-Z_]', col):\n",
        "            # replace special characters and spaces with underscores\n",
        "            new_col = re.sub('[^0-9a-zA-Z_]', '_', col)\n",
        "            # rename the column in the cleaned dataframe\n",
        "            cleaned_df.rename(columns={col: new_col}, inplace=True)\n",
        "\n",
        "    # return the cleaned dataframe\n",
        "    return cleaned_df"
      ]
    },
    {
      "cell_type": "code",
      "execution_count": 11,
      "metadata": {
        "id": "fkTWCyfnnI5U"
      },
      "outputs": [],
      "source": [
        "def read_dataframe(file_location):\n",
        "    file_extension = file_location.split('.')[-1]\n",
        "    if file_extension == 'json':\n",
        "        try:\n",
        "            df = pd.read_json(file_location, orient='records')\n",
        "        except ValueError:\n",
        "            df = pd.read_json(file_location, orient='table')\n",
        "    elif file_extension == 'csv':\n",
        "        df = pd.read_csv(file_location)\n",
        "    elif file_extension in ['xls', 'xlsx']:\n",
        "        df = pd.read_excel(file_location)\n",
        "    elif file_extension == 'parquet':\n",
        "        df = pd.read_parquet(file_location)\n",
        "    elif file_extension == 'feather':\n",
        "        df = pd.read_feather(file_location)\n",
        "    elif file_extension == \"tsv\":\n",
        "        df = pd.read_csv(file_location, sep=\"\\t\")\n",
        "    elif file_extension == \"txt\":\n",
        "        df = pd.read_csv(file_location)\n",
        "    else:\n",
        "        raise ValueError('Unsupported file type')\n",
        "\n",
        "    # clean column names and check if they have changed\n",
        "    cleaned_df = clean_column_names(df)\n",
        "    if cleaned_df.columns.tolist() != df.columns.tolist() or len(df) > 4500:\n",
        "        if len(df) > 4500:\n",
        "            logger.info(f\"Dataframe has more than 4500 rows. We will sample 4500 rows.\")\n",
        "            cleaned_df = cleaned_df.sample(4500)\n",
        "        # write the cleaned DataFrame to the original file on disk\n",
        "        if file_extension == 'csv':\n",
        "            cleaned_df.to_csv(file_location, index=False)\n",
        "        elif file_extension == 'txt':\n",
        "            cleaned_df.to_csv(file_location, index=False)\n",
        "        elif file_extension in ['xls', 'xlsx']:\n",
        "            cleaned_df.to_excel(file_location, index=False)\n",
        "        elif file_extension == 'parquet':\n",
        "            cleaned_df.to_parquet(file_location, index=False)\n",
        "        elif file_extension == 'feather':\n",
        "            cleaned_df.to_feather(file_location, index=False)\n",
        "        elif file_extension == 'json':\n",
        "            with open(file_location, 'w') as f:\n",
        "                f.write(cleaned_df.to_json(orient='records'))\n",
        "        else:\n",
        "            raise ValueError('Unsupported file type')\n",
        "\n",
        "    return cleaned_df"
      ]
    },
    {
      "cell_type": "code",
      "execution_count": 12,
      "metadata": {
        "id": "zaTc_5uIqd9F"
      },
      "outputs": [],
      "source": [
        "def check_type(dtype: str, value):\n",
        "        \"\"\"Cast value to right type to ensure it is JSON serializable\"\"\"\n",
        "        if \"float\" in str(dtype):\n",
        "            return float(value)\n",
        "        elif \"int\" in str(dtype):\n",
        "            return int(value)\n",
        "        else:\n",
        "            return value"
      ]
    },
    {
      "cell_type": "code",
      "execution_count": 13,
      "metadata": {
        "id": "DCom61eGp4dF"
      },
      "outputs": [],
      "source": [
        "def get_column_properties(df: pd.DataFrame, n_samples: int = 3) -> list[dict]:\n",
        "  \"\"\"Get properties of each column in a pandas DataFrame\"\"\"\n",
        "  properties_list = []\n",
        "  for column in df.columns:\n",
        "      dtype = df[column].dtype\n",
        "      properties = {}\n",
        "      if dtype in [int, float, complex]:\n",
        "          properties[\"dtype\"] = \"number\"\n",
        "          properties[\"std\"] = check_type(dtype, df[column].std())\n",
        "          properties[\"min\"] = check_type(dtype, df[column].min())\n",
        "          properties[\"max\"] = check_type(dtype, df[column].max())\n",
        "\n",
        "      elif dtype == bool:\n",
        "          properties[\"dtype\"] = \"boolean\"\n",
        "      elif dtype == object:\n",
        "          # Check if the string column can be cast to a valid datetime\n",
        "          try:\n",
        "              with warnings.catch_warnings():\n",
        "                  warnings.simplefilter(\"ignore\")\n",
        "                  pd.to_datetime(df[column], errors='raise')\n",
        "                  properties[\"dtype\"] = \"date\"\n",
        "          except ValueError:\n",
        "              # Check if the string column has a limited number of values\n",
        "              if df[column].nunique() / len(df[column]) < 0.5:\n",
        "                  properties[\"dtype\"] = \"category\"\n",
        "              else:\n",
        "                  properties[\"dtype\"] = \"string\"\n",
        "      elif pd.api.types.is_categorical_dtype(df[column]):\n",
        "          properties[\"dtype\"] = \"category\"\n",
        "      elif pd.api.types.is_datetime64_any_dtype(df[column]):\n",
        "          properties[\"dtype\"] = \"date\"\n",
        "      else:\n",
        "          properties[\"dtype\"] = str(dtype)\n",
        "\n",
        "      # add min max if dtype is date\n",
        "      if properties[\"dtype\"] == \"date\":\n",
        "          try:\n",
        "              properties[\"min\"] = df[column].min()\n",
        "              properties[\"max\"] = df[column].max()\n",
        "          except TypeError:\n",
        "              cast_date_col = pd.to_datetime(df[column], errors='coerce')\n",
        "              properties[\"min\"] = cast_date_col.min()\n",
        "              properties[\"max\"] = cast_date_col.max()\n",
        "      # Add additional properties to the output dictionary\n",
        "      nunique = df[column].nunique()\n",
        "      if \"samples\" not in properties:\n",
        "          non_null_values = df[column][df[column].notnull()].unique()\n",
        "          n_samples = min(n_samples, len(non_null_values))\n",
        "          samples = pd.Series(non_null_values).sample(n_samples, random_state=42).tolist()\n",
        "          properties[\"samples\"] = samples\n",
        "      properties[\"num_unique_values\"] = nunique\n",
        "      properties[\"semantic_type\"] = \"\"\n",
        "      properties[\"description\"] = \"\"\n",
        "      properties_list.append({\"column\": column, \"properties\": properties})\n",
        "\n",
        "  return properties_list"
      ]
    },
    {
      "cell_type": "code",
      "execution_count": 14,
      "metadata": {
        "id": "rAtMqmhnKwPG"
      },
      "outputs": [],
      "source": [
        "def preprocess_code(code: str) -> str:\n",
        "    \"\"\"Preprocess code to remove any preamble and explanation text\"\"\"\n",
        "\n",
        "    code = code.replace(\"<imports>\", \"\")\n",
        "    code = code.replace(\"<stub>\", \"\")\n",
        "    code = code.replace(\"<transforms>\", \"\")\n",
        "\n",
        "    # remove all text after chart = plot(data)\n",
        "    if \"chart = plot(data)\" in code:\n",
        "        # print(code)\n",
        "        index = code.find(\"chart = plot(data)\")\n",
        "        if index != -1:\n",
        "            code = code[: index + len(\"chart = plot(data)\")]\n",
        "\n",
        "    if \"```\" in code:\n",
        "        pattern = r\"```(?:\\w+\\n)?([\\s\\S]+?)```\"\n",
        "        matches = re.findall(pattern, code)\n",
        "        if matches:\n",
        "            code = matches[0]\n",
        "        # code = code.replace(\"```\", \"\")\n",
        "        # return code\n",
        "\n",
        "    if \"import\" in code:\n",
        "        # return only text after the first import statement\n",
        "        index = code.find(\"import\")\n",
        "        if index != -1:\n",
        "            code = code[index:]\n",
        "\n",
        "    code = code.replace(\"```\", \"\")\n",
        "    if \"chart = plot(data)\" not in code:\n",
        "        code = code + \"\\nchart = plot(data)\"\n",
        "    return code"
      ]
    },
    {
      "cell_type": "code",
      "execution_count": 15,
      "metadata": {
        "id": "gykNWMuhQQ_Z"
      },
      "outputs": [],
      "source": [
        "def get_globals_dict(code_string, data):\n",
        "    # Parse the code string into an AST\n",
        "    tree = ast.parse(code_string)\n",
        "    # Extract the names of the imported modules and their aliases\n",
        "    imported_modules = []\n",
        "    for node in tree.body:\n",
        "        if isinstance(node, ast.Import):\n",
        "            for alias in node.names:\n",
        "                module = importlib.import_module(alias.name)\n",
        "                imported_modules.append((alias.name, alias.asname, module))\n",
        "        elif isinstance(node, ast.ImportFrom):\n",
        "            module = importlib.import_module(node.module)\n",
        "            for alias in node.names:\n",
        "                obj = getattr(module, alias.name)\n",
        "                imported_modules.append(\n",
        "                    (f\"{node.module}.{alias.name}\", alias.asname, obj)\n",
        "                )\n",
        "\n",
        "    # Import the required modules into a dictionary\n",
        "    globals_dict = {}\n",
        "    for module_name, alias, obj in imported_modules:\n",
        "        if alias:\n",
        "            globals_dict[alias] = obj\n",
        "        else:\n",
        "            globals_dict[module_name.split(\".\")[-1]] = obj\n",
        "\n",
        "    ex_dicts = {\"pd\": pd, \"data\": data, \"plt\": plt}\n",
        "    globals_dict.update(ex_dicts)\n",
        "    return globals_dict"
      ]
    },
    {
      "cell_type": "code",
      "execution_count": 16,
      "metadata": {
        "id": "l0-i8zoQlD36"
      },
      "outputs": [],
      "source": [
        "chat_llm = AzureChatOpenAI(\n",
        "    temperature=0,\n",
        "    openai_api_version=\"2023-05-15\",\n",
        "    deployment_name=\"gpt-4\",\n",
        ")"
      ]
    },
    {
      "cell_type": "markdown",
      "metadata": {
        "id": "sZbyYM2_0FT0"
      },
      "source": [
        "### Generating the data SUMMARY"
      ]
    },
    {
      "cell_type": "code",
      "execution_count": 17,
      "metadata": {
        "id": "lc1hZhubzZyd"
      },
      "outputs": [],
      "source": [
        "#filename = \"https://raw.githubusercontent.com/uwdata/draco/master/data/cars.csv\"\n",
        "filename = \"https://raw.githubusercontent.com/manavpatel1092/EDA-of-Telecom-Churn-rate/master/churn1.txt\""
      ]
    },
    {
      "cell_type": "code",
      "execution_count": 18,
      "metadata": {
        "id": "CuTxBN1qmv4C"
      },
      "outputs": [],
      "source": [
        "data = read_dataframe(filename)"
      ]
    },
    {
      "cell_type": "code",
      "execution_count": 20,
      "metadata": {
        "colab": {
          "base_uri": "https://localhost:8080/",
          "height": 342
        },
        "id": "f-VoJZNJpr-K",
        "outputId": "f3d67063-9cfa-4002-84fe-18271aa12a3a"
      },
      "outputs": [
        {
          "data": {
            "text/html": [
              "\n",
              "  <div id=\"df-75b21a77-c3bd-4919-939a-b498a5b7bc6d\" class=\"colab-df-container\">\n",
              "    <div>\n",
              "<style scoped>\n",
              "    .dataframe tbody tr th:only-of-type {\n",
              "        vertical-align: middle;\n",
              "    }\n",
              "\n",
              "    .dataframe tbody tr th {\n",
              "        vertical-align: top;\n",
              "    }\n",
              "\n",
              "    .dataframe thead th {\n",
              "        text-align: right;\n",
              "    }\n",
              "</style>\n",
              "<table border=\"1\" class=\"dataframe\">\n",
              "  <thead>\n",
              "    <tr style=\"text-align: right;\">\n",
              "      <th></th>\n",
              "      <th>State</th>\n",
              "      <th>Account_Length</th>\n",
              "      <th>Area_Code</th>\n",
              "      <th>Phone</th>\n",
              "      <th>Int_l_Plan</th>\n",
              "      <th>VMail_Plan</th>\n",
              "      <th>VMail_Message</th>\n",
              "      <th>Day_Mins</th>\n",
              "      <th>Day_Calls</th>\n",
              "      <th>Day_Charge</th>\n",
              "      <th>...</th>\n",
              "      <th>Eve_Calls</th>\n",
              "      <th>Eve_Charge</th>\n",
              "      <th>Night_Mins</th>\n",
              "      <th>Night_Calls</th>\n",
              "      <th>Night_Charge</th>\n",
              "      <th>Intl_Mins</th>\n",
              "      <th>Intl_Calls</th>\n",
              "      <th>Intl_Charge</th>\n",
              "      <th>CustServ_Calls</th>\n",
              "      <th>Churn_</th>\n",
              "    </tr>\n",
              "  </thead>\n",
              "  <tbody>\n",
              "    <tr>\n",
              "      <th>0</th>\n",
              "      <td>KS</td>\n",
              "      <td>128</td>\n",
              "      <td>415</td>\n",
              "      <td>382-4657</td>\n",
              "      <td>no</td>\n",
              "      <td>yes</td>\n",
              "      <td>25</td>\n",
              "      <td>265.1</td>\n",
              "      <td>110</td>\n",
              "      <td>45.07</td>\n",
              "      <td>...</td>\n",
              "      <td>99</td>\n",
              "      <td>16.78</td>\n",
              "      <td>244.7</td>\n",
              "      <td>91</td>\n",
              "      <td>11.01</td>\n",
              "      <td>10.0</td>\n",
              "      <td>3</td>\n",
              "      <td>2.70</td>\n",
              "      <td>1</td>\n",
              "      <td>False.</td>\n",
              "    </tr>\n",
              "    <tr>\n",
              "      <th>1</th>\n",
              "      <td>OH</td>\n",
              "      <td>107</td>\n",
              "      <td>415</td>\n",
              "      <td>371-7191</td>\n",
              "      <td>no</td>\n",
              "      <td>yes</td>\n",
              "      <td>26</td>\n",
              "      <td>161.6</td>\n",
              "      <td>123</td>\n",
              "      <td>27.47</td>\n",
              "      <td>...</td>\n",
              "      <td>103</td>\n",
              "      <td>16.62</td>\n",
              "      <td>254.4</td>\n",
              "      <td>103</td>\n",
              "      <td>11.45</td>\n",
              "      <td>13.7</td>\n",
              "      <td>3</td>\n",
              "      <td>3.70</td>\n",
              "      <td>1</td>\n",
              "      <td>False.</td>\n",
              "    </tr>\n",
              "    <tr>\n",
              "      <th>2</th>\n",
              "      <td>NJ</td>\n",
              "      <td>137</td>\n",
              "      <td>415</td>\n",
              "      <td>358-1921</td>\n",
              "      <td>no</td>\n",
              "      <td>no</td>\n",
              "      <td>0</td>\n",
              "      <td>243.4</td>\n",
              "      <td>114</td>\n",
              "      <td>41.38</td>\n",
              "      <td>...</td>\n",
              "      <td>110</td>\n",
              "      <td>10.30</td>\n",
              "      <td>162.6</td>\n",
              "      <td>104</td>\n",
              "      <td>7.32</td>\n",
              "      <td>12.2</td>\n",
              "      <td>5</td>\n",
              "      <td>3.29</td>\n",
              "      <td>0</td>\n",
              "      <td>False.</td>\n",
              "    </tr>\n",
              "    <tr>\n",
              "      <th>3</th>\n",
              "      <td>OH</td>\n",
              "      <td>84</td>\n",
              "      <td>408</td>\n",
              "      <td>375-9999</td>\n",
              "      <td>yes</td>\n",
              "      <td>no</td>\n",
              "      <td>0</td>\n",
              "      <td>299.4</td>\n",
              "      <td>71</td>\n",
              "      <td>50.90</td>\n",
              "      <td>...</td>\n",
              "      <td>88</td>\n",
              "      <td>5.26</td>\n",
              "      <td>196.9</td>\n",
              "      <td>89</td>\n",
              "      <td>8.86</td>\n",
              "      <td>6.6</td>\n",
              "      <td>7</td>\n",
              "      <td>1.78</td>\n",
              "      <td>2</td>\n",
              "      <td>False.</td>\n",
              "    </tr>\n",
              "    <tr>\n",
              "      <th>4</th>\n",
              "      <td>OK</td>\n",
              "      <td>75</td>\n",
              "      <td>415</td>\n",
              "      <td>330-6626</td>\n",
              "      <td>yes</td>\n",
              "      <td>no</td>\n",
              "      <td>0</td>\n",
              "      <td>166.7</td>\n",
              "      <td>113</td>\n",
              "      <td>28.34</td>\n",
              "      <td>...</td>\n",
              "      <td>122</td>\n",
              "      <td>12.61</td>\n",
              "      <td>186.9</td>\n",
              "      <td>121</td>\n",
              "      <td>8.41</td>\n",
              "      <td>10.1</td>\n",
              "      <td>3</td>\n",
              "      <td>2.73</td>\n",
              "      <td>3</td>\n",
              "      <td>False.</td>\n",
              "    </tr>\n",
              "  </tbody>\n",
              "</table>\n",
              "<p>5 rows × 21 columns</p>\n",
              "</div>\n",
              "    <div class=\"colab-df-buttons\">\n",
              "\n",
              "  <div class=\"colab-df-container\">\n",
              "    <button class=\"colab-df-convert\" onclick=\"convertToInteractive('df-75b21a77-c3bd-4919-939a-b498a5b7bc6d')\"\n",
              "            title=\"Convert this dataframe to an interactive table.\"\n",
              "            style=\"display:none;\">\n",
              "\n",
              "  <svg xmlns=\"http://www.w3.org/2000/svg\" height=\"24px\" viewBox=\"0 -960 960 960\">\n",
              "    <path d=\"M120-120v-720h720v720H120Zm60-500h600v-160H180v160Zm220 220h160v-160H400v160Zm0 220h160v-160H400v160ZM180-400h160v-160H180v160Zm440 0h160v-160H620v160ZM180-180h160v-160H180v160Zm440 0h160v-160H620v160Z\"/>\n",
              "  </svg>\n",
              "    </button>\n",
              "\n",
              "  <style>\n",
              "    .colab-df-container {\n",
              "      display:flex;\n",
              "      gap: 12px;\n",
              "    }\n",
              "\n",
              "    .colab-df-convert {\n",
              "      background-color: #E8F0FE;\n",
              "      border: none;\n",
              "      border-radius: 50%;\n",
              "      cursor: pointer;\n",
              "      display: none;\n",
              "      fill: #1967D2;\n",
              "      height: 32px;\n",
              "      padding: 0 0 0 0;\n",
              "      width: 32px;\n",
              "    }\n",
              "\n",
              "    .colab-df-convert:hover {\n",
              "      background-color: #E2EBFA;\n",
              "      box-shadow: 0px 1px 2px rgba(60, 64, 67, 0.3), 0px 1px 3px 1px rgba(60, 64, 67, 0.15);\n",
              "      fill: #174EA6;\n",
              "    }\n",
              "\n",
              "    .colab-df-buttons div {\n",
              "      margin-bottom: 4px;\n",
              "    }\n",
              "\n",
              "    [theme=dark] .colab-df-convert {\n",
              "      background-color: #3B4455;\n",
              "      fill: #D2E3FC;\n",
              "    }\n",
              "\n",
              "    [theme=dark] .colab-df-convert:hover {\n",
              "      background-color: #434B5C;\n",
              "      box-shadow: 0px 1px 3px 1px rgba(0, 0, 0, 0.15);\n",
              "      filter: drop-shadow(0px 1px 2px rgba(0, 0, 0, 0.3));\n",
              "      fill: #FFFFFF;\n",
              "    }\n",
              "  </style>\n",
              "\n",
              "    <script>\n",
              "      const buttonEl =\n",
              "        document.querySelector('#df-75b21a77-c3bd-4919-939a-b498a5b7bc6d button.colab-df-convert');\n",
              "      buttonEl.style.display =\n",
              "        google.colab.kernel.accessAllowed ? 'block' : 'none';\n",
              "\n",
              "      async function convertToInteractive(key) {\n",
              "        const element = document.querySelector('#df-75b21a77-c3bd-4919-939a-b498a5b7bc6d');\n",
              "        const dataTable =\n",
              "          await google.colab.kernel.invokeFunction('convertToInteractive',\n",
              "                                                    [key], {});\n",
              "        if (!dataTable) return;\n",
              "\n",
              "        const docLinkHtml = 'Like what you see? Visit the ' +\n",
              "          '<a target=\"_blank\" href=https://colab.research.google.com/notebooks/data_table.ipynb>data table notebook</a>'\n",
              "          + ' to learn more about interactive tables.';\n",
              "        element.innerHTML = '';\n",
              "        dataTable['output_type'] = 'display_data';\n",
              "        await google.colab.output.renderOutput(dataTable, element);\n",
              "        const docLink = document.createElement('div');\n",
              "        docLink.innerHTML = docLinkHtml;\n",
              "        element.appendChild(docLink);\n",
              "      }\n",
              "    </script>\n",
              "  </div>\n",
              "\n",
              "\n",
              "<div id=\"df-18f6f523-e810-483d-9a2f-6d8b15a792d2\">\n",
              "  <button class=\"colab-df-quickchart\" onclick=\"quickchart('df-18f6f523-e810-483d-9a2f-6d8b15a792d2')\"\n",
              "            title=\"Suggest charts\"\n",
              "            style=\"display:none;\">\n",
              "\n",
              "<svg xmlns=\"http://www.w3.org/2000/svg\" height=\"24px\"viewBox=\"0 0 24 24\"\n",
              "     width=\"24px\">\n",
              "    <g>\n",
              "        <path d=\"M19 3H5c-1.1 0-2 .9-2 2v14c0 1.1.9 2 2 2h14c1.1 0 2-.9 2-2V5c0-1.1-.9-2-2-2zM9 17H7v-7h2v7zm4 0h-2V7h2v10zm4 0h-2v-4h2v4z\"/>\n",
              "    </g>\n",
              "</svg>\n",
              "  </button>\n",
              "\n",
              "<style>\n",
              "  .colab-df-quickchart {\n",
              "      --bg-color: #E8F0FE;\n",
              "      --fill-color: #1967D2;\n",
              "      --hover-bg-color: #E2EBFA;\n",
              "      --hover-fill-color: #174EA6;\n",
              "      --disabled-fill-color: #AAA;\n",
              "      --disabled-bg-color: #DDD;\n",
              "  }\n",
              "\n",
              "  [theme=dark] .colab-df-quickchart {\n",
              "      --bg-color: #3B4455;\n",
              "      --fill-color: #D2E3FC;\n",
              "      --hover-bg-color: #434B5C;\n",
              "      --hover-fill-color: #FFFFFF;\n",
              "      --disabled-bg-color: #3B4455;\n",
              "      --disabled-fill-color: #666;\n",
              "  }\n",
              "\n",
              "  .colab-df-quickchart {\n",
              "    background-color: var(--bg-color);\n",
              "    border: none;\n",
              "    border-radius: 50%;\n",
              "    cursor: pointer;\n",
              "    display: none;\n",
              "    fill: var(--fill-color);\n",
              "    height: 32px;\n",
              "    padding: 0;\n",
              "    width: 32px;\n",
              "  }\n",
              "\n",
              "  .colab-df-quickchart:hover {\n",
              "    background-color: var(--hover-bg-color);\n",
              "    box-shadow: 0 1px 2px rgba(60, 64, 67, 0.3), 0 1px 3px 1px rgba(60, 64, 67, 0.15);\n",
              "    fill: var(--button-hover-fill-color);\n",
              "  }\n",
              "\n",
              "  .colab-df-quickchart-complete:disabled,\n",
              "  .colab-df-quickchart-complete:disabled:hover {\n",
              "    background-color: var(--disabled-bg-color);\n",
              "    fill: var(--disabled-fill-color);\n",
              "    box-shadow: none;\n",
              "  }\n",
              "\n",
              "  .colab-df-spinner {\n",
              "    border: 2px solid var(--fill-color);\n",
              "    border-color: transparent;\n",
              "    border-bottom-color: var(--fill-color);\n",
              "    animation:\n",
              "      spin 1s steps(1) infinite;\n",
              "  }\n",
              "\n",
              "  @keyframes spin {\n",
              "    0% {\n",
              "      border-color: transparent;\n",
              "      border-bottom-color: var(--fill-color);\n",
              "      border-left-color: var(--fill-color);\n",
              "    }\n",
              "    20% {\n",
              "      border-color: transparent;\n",
              "      border-left-color: var(--fill-color);\n",
              "      border-top-color: var(--fill-color);\n",
              "    }\n",
              "    30% {\n",
              "      border-color: transparent;\n",
              "      border-left-color: var(--fill-color);\n",
              "      border-top-color: var(--fill-color);\n",
              "      border-right-color: var(--fill-color);\n",
              "    }\n",
              "    40% {\n",
              "      border-color: transparent;\n",
              "      border-right-color: var(--fill-color);\n",
              "      border-top-color: var(--fill-color);\n",
              "    }\n",
              "    60% {\n",
              "      border-color: transparent;\n",
              "      border-right-color: var(--fill-color);\n",
              "    }\n",
              "    80% {\n",
              "      border-color: transparent;\n",
              "      border-right-color: var(--fill-color);\n",
              "      border-bottom-color: var(--fill-color);\n",
              "    }\n",
              "    90% {\n",
              "      border-color: transparent;\n",
              "      border-bottom-color: var(--fill-color);\n",
              "    }\n",
              "  }\n",
              "</style>\n",
              "\n",
              "  <script>\n",
              "    async function quickchart(key) {\n",
              "      const quickchartButtonEl =\n",
              "        document.querySelector('#' + key + ' button');\n",
              "      quickchartButtonEl.disabled = true;  // To prevent multiple clicks.\n",
              "      quickchartButtonEl.classList.add('colab-df-spinner');\n",
              "      try {\n",
              "        const charts = await google.colab.kernel.invokeFunction(\n",
              "            'suggestCharts', [key], {});\n",
              "      } catch (error) {\n",
              "        console.error('Error during call to suggestCharts:', error);\n",
              "      }\n",
              "      quickchartButtonEl.classList.remove('colab-df-spinner');\n",
              "      quickchartButtonEl.classList.add('colab-df-quickchart-complete');\n",
              "    }\n",
              "    (() => {\n",
              "      let quickchartButtonEl =\n",
              "        document.querySelector('#df-18f6f523-e810-483d-9a2f-6d8b15a792d2 button');\n",
              "      quickchartButtonEl.style.display =\n",
              "        google.colab.kernel.accessAllowed ? 'block' : 'none';\n",
              "    })();\n",
              "  </script>\n",
              "</div>\n",
              "    </div>\n",
              "  </div>\n"
            ],
            "text/plain": [
              "  State  Account_Length  Area_Code     Phone Int_l_Plan VMail_Plan  \\\n",
              "0    KS             128        415  382-4657         no        yes   \n",
              "1    OH             107        415  371-7191         no        yes   \n",
              "2    NJ             137        415  358-1921         no         no   \n",
              "3    OH              84        408  375-9999        yes         no   \n",
              "4    OK              75        415  330-6626        yes         no   \n",
              "\n",
              "   VMail_Message  Day_Mins  Day_Calls  Day_Charge  ...  Eve_Calls  Eve_Charge  \\\n",
              "0             25     265.1        110       45.07  ...         99       16.78   \n",
              "1             26     161.6        123       27.47  ...        103       16.62   \n",
              "2              0     243.4        114       41.38  ...        110       10.30   \n",
              "3              0     299.4         71       50.90  ...         88        5.26   \n",
              "4              0     166.7        113       28.34  ...        122       12.61   \n",
              "\n",
              "   Night_Mins  Night_Calls  Night_Charge  Intl_Mins  Intl_Calls  Intl_Charge  \\\n",
              "0       244.7           91         11.01       10.0           3         2.70   \n",
              "1       254.4          103         11.45       13.7           3         3.70   \n",
              "2       162.6          104          7.32       12.2           5         3.29   \n",
              "3       196.9           89          8.86        6.6           7         1.78   \n",
              "4       186.9          121          8.41       10.1           3         2.73   \n",
              "\n",
              "   CustServ_Calls  Churn_  \n",
              "0               1  False.  \n",
              "1               1  False.  \n",
              "2               0  False.  \n",
              "3               2  False.  \n",
              "4               3  False.  \n",
              "\n",
              "[5 rows x 21 columns]"
            ]
          },
          "execution_count": 20,
          "metadata": {},
          "output_type": "execute_result"
        }
      ],
      "source": [
        "data.head()"
      ]
    },
    {
      "cell_type": "code",
      "execution_count": 21,
      "metadata": {
        "id": "yAa0hofdqBD3"
      },
      "outputs": [],
      "source": [
        "data_properties = get_column_properties(data, 3)"
      ]
    },
    {
      "cell_type": "code",
      "execution_count": 22,
      "metadata": {
        "colab": {
          "base_uri": "https://localhost:8080/"
        },
        "id": "Xf7yEpdSqlFj",
        "outputId": "efe890ee-7646-42c7-d1e7-5594be4367e4"
      },
      "outputs": [
        {
          "data": {
            "text/plain": [
              "[{'column': 'State',\n",
              "  'properties': {'dtype': 'category',\n",
              "   'samples': ['DC', 'WA', 'MS'],\n",
              "   'num_unique_values': 51,\n",
              "   'semantic_type': '',\n",
              "   'description': ''}},\n",
              " {'column': 'Account_Length',\n",
              "  'properties': {'dtype': 'number',\n",
              "   'std': 39,\n",
              "   'min': 1,\n",
              "   'max': 243,\n",
              "   'samples': [172, 189, 44],\n",
              "   'num_unique_values': 212,\n",
              "   'semantic_type': '',\n",
              "   'description': ''}},\n",
              " {'column': 'Area_Code',\n",
              "  'properties': {'dtype': 'number',\n",
              "   'std': 42,\n",
              "   'min': 408,\n",
              "   'max': 510,\n",
              "   'samples': [415, 408, 510],\n",
              "   'num_unique_values': 3,\n",
              "   'semantic_type': '',\n",
              "   'description': ''}},\n",
              " {'column': 'Phone',\n",
              "  'properties': {'dtype': 'string',\n",
              "   'samples': ['352-6573', '369-4377', '392-2555'],\n",
              "   'num_unique_values': 3333,\n",
              "   'semantic_type': '',\n",
              "   'description': ''}},\n",
              " {'column': 'Int_l_Plan',\n",
              "  'properties': {'dtype': 'category',\n",
              "   'samples': ['yes', 'no'],\n",
              "   'num_unique_values': 2,\n",
              "   'semantic_type': '',\n",
              "   'description': ''}},\n",
              " {'column': 'VMail_Plan',\n",
              "  'properties': {'dtype': 'category',\n",
              "   'samples': ['no', 'yes'],\n",
              "   'num_unique_values': 2,\n",
              "   'semantic_type': '',\n",
              "   'description': ''}},\n",
              " {'column': 'VMail_Message',\n",
              "  'properties': {'dtype': 'number',\n",
              "   'std': 13,\n",
              "   'min': 0,\n",
              "   'max': 51,\n",
              "   'samples': [44, 48],\n",
              "   'num_unique_values': 46,\n",
              "   'semantic_type': '',\n",
              "   'description': ''}},\n",
              " {'column': 'Day_Mins',\n",
              "  'properties': {'dtype': 'number',\n",
              "   'std': 54.46738920237137,\n",
              "   'min': 0.0,\n",
              "   'max': 350.8,\n",
              "   'samples': [87.6, 115.7],\n",
              "   'num_unique_values': 1667,\n",
              "   'semantic_type': '',\n",
              "   'description': ''}},\n",
              " {'column': 'Day_Calls',\n",
              "  'properties': {'dtype': 'number',\n",
              "   'std': 20,\n",
              "   'min': 0,\n",
              "   'max': 165,\n",
              "   'samples': [125, 59],\n",
              "   'num_unique_values': 119,\n",
              "   'semantic_type': '',\n",
              "   'description': ''}},\n",
              " {'column': 'Day_Charge',\n",
              "  'properties': {'dtype': 'number',\n",
              "   'std': 9.2594345539305,\n",
              "   'min': 0.0,\n",
              "   'max': 59.64,\n",
              "   'samples': [14.89, 19.67],\n",
              "   'num_unique_values': 1667,\n",
              "   'semantic_type': '',\n",
              "   'description': ''}},\n",
              " {'column': 'Eve_Mins',\n",
              "  'properties': {'dtype': 'number',\n",
              "   'std': 50.713844425812,\n",
              "   'min': 0.0,\n",
              "   'max': 363.7,\n",
              "   'samples': [215.1, 219.1],\n",
              "   'num_unique_values': 1611,\n",
              "   'semantic_type': '',\n",
              "   'description': ''}},\n",
              " {'column': 'Eve_Calls',\n",
              "  'properties': {'dtype': 'number',\n",
              "   'std': 19,\n",
              "   'min': 0,\n",
              "   'max': 170,\n",
              "   'samples': [93, 142],\n",
              "   'num_unique_values': 123,\n",
              "   'semantic_type': '',\n",
              "   'description': ''}},\n",
              " {'column': 'Eve_Charge',\n",
              "  'properties': {'dtype': 'number',\n",
              "   'std': 4.310667643110341,\n",
              "   'min': 0.0,\n",
              "   'max': 30.91,\n",
              "   'samples': [24.85, 14.19],\n",
              "   'num_unique_values': 1440,\n",
              "   'semantic_type': '',\n",
              "   'description': ''}},\n",
              " {'column': 'Night_Mins',\n",
              "  'properties': {'dtype': 'number',\n",
              "   'std': 50.57384701365836,\n",
              "   'min': 23.2,\n",
              "   'max': 395.0,\n",
              "   'samples': [311.1, 179.1],\n",
              "   'num_unique_values': 1591,\n",
              "   'semantic_type': '',\n",
              "   'description': ''}},\n",
              " {'column': 'Night_Calls',\n",
              "  'properties': {'dtype': 'number',\n",
              "   'std': 19,\n",
              "   'min': 33,\n",
              "   'max': 175,\n",
              "   'samples': [60, 73],\n",
              "   'num_unique_values': 120,\n",
              "   'semantic_type': '',\n",
              "   'description': ''}},\n",
              " {'column': 'Night_Charge',\n",
              "  'properties': {'dtype': 'number',\n",
              "   'std': 2.275872837660029,\n",
              "   'min': 1.04,\n",
              "   'max': 17.77,\n",
              "   'samples': [6.2, 6.86],\n",
              "   'num_unique_values': 933,\n",
              "   'semantic_type': '',\n",
              "   'description': ''}},\n",
              " {'column': 'Intl_Mins',\n",
              "  'properties': {'dtype': 'number',\n",
              "   'std': 2.791839548408416,\n",
              "   'min': 0.0,\n",
              "   'max': 20.0,\n",
              "   'samples': [16.6, 14.8],\n",
              "   'num_unique_values': 162,\n",
              "   'semantic_type': '',\n",
              "   'description': ''}},\n",
              " {'column': 'Intl_Calls',\n",
              "  'properties': {'dtype': 'number',\n",
              "   'std': 2,\n",
              "   'min': 0,\n",
              "   'max': 20,\n",
              "   'samples': [3, 14],\n",
              "   'num_unique_values': 21,\n",
              "   'semantic_type': '',\n",
              "   'description': ''}},\n",
              " {'column': 'Intl_Charge',\n",
              "  'properties': {'dtype': 'number',\n",
              "   'std': 0.753772612663046,\n",
              "   'min': 0.0,\n",
              "   'max': 5.4,\n",
              "   'samples': [4.48, 4.0],\n",
              "   'num_unique_values': 162,\n",
              "   'semantic_type': '',\n",
              "   'description': ''}},\n",
              " {'column': 'CustServ_Calls',\n",
              "  'properties': {'dtype': 'number',\n",
              "   'std': 1,\n",
              "   'min': 0,\n",
              "   'max': 9,\n",
              "   'samples': [6, 0],\n",
              "   'num_unique_values': 10,\n",
              "   'semantic_type': '',\n",
              "   'description': ''}},\n",
              " {'column': 'Churn_',\n",
              "  'properties': {'dtype': 'category',\n",
              "   'samples': ['True.', 'False.'],\n",
              "   'num_unique_values': 2,\n",
              "   'semantic_type': '',\n",
              "   'description': ''}}]"
            ]
          },
          "execution_count": 22,
          "metadata": {},
          "output_type": "execute_result"
        }
      ],
      "source": [
        "data_properties"
      ]
    },
    {
      "cell_type": "code",
      "execution_count": 23,
      "metadata": {
        "id": "TNoDmNQPrRLa"
      },
      "outputs": [],
      "source": [
        "system_prompt = \"\"\"\n",
        "You are an experienced data analyst that can annotate datasets. Your instructions are as follows:\n",
        "1. ALWAYS generate the name of the dataset and the dataset_description\n",
        "2. ALWAYS generate a field description.\n",
        "3. ALWAYS generate a semantic_type (a single word) for each field given its values e.g. company, city, number, supplier, location, gender, longitude, latitude, url, ip address, zip code, email, etc\n",
        "You must return an updated JSON dictionary without any preamble or explanation.\n",
        "\"\"\"\n",
        "\n",
        "base_summary = {\n",
        "    \"file_name\": filename,\n",
        "    \"fields\": data_properties\n",
        "}\n",
        "\n",
        "chat_template = ChatPromptTemplate.from_messages(\n",
        "    [\n",
        "        (\"system\", \"{system_prompt}.\"),\n",
        "        (\"human\", \"Annotate the dictionary below. Only return a JSON object. {base_summary}\"),\n",
        "    ]\n",
        ")\n",
        "\n",
        "messages = chat_template.format_messages(system_prompt=system_prompt, base_summary=base_summary)"
      ]
    },
    {
      "cell_type": "code",
      "execution_count": 24,
      "metadata": {
        "colab": {
          "base_uri": "https://localhost:8080/"
        },
        "id": "n5VtHBrkszFc",
        "outputId": "4b8031b1-c490-4fc6-ff2f-c8cde9f4d5f2"
      },
      "outputs": [
        {
          "name": "stdout",
          "output_type": "stream",
          "text": [
            "[SystemMessage(content='\\nYou are an experienced data analyst that can annotate datasets. Your instructions are as follows:\\n1. ALWAYS generate the name of the dataset and the dataset_description\\n2. ALWAYS generate a field description.\\n3. ALWAYS generate a semantic_type (a single word) for each field given its values e.g. company, city, number, supplier, location, gender, longitude, latitude, url, ip address, zip code, email, etc\\nYou must return an updated JSON dictionary without any preamble or explanation.\\n.'), HumanMessage(content=\"Annotate the dictionary below. Only return a JSON object. {'file_name': 'https://raw.githubusercontent.com/manavpatel1092/EDA-of-Telecom-Churn-rate/master/churn1.txt', 'fields': [{'column': 'State', 'properties': {'dtype': 'category', 'samples': ['DC', 'WA', 'MS'], 'num_unique_values': 51, 'semantic_type': '', 'description': ''}}, {'column': 'Account_Length', 'properties': {'dtype': 'number', 'std': 39, 'min': 1, 'max': 243, 'samples': [172, 189, 44], 'num_unique_values': 212, 'semantic_type': '', 'description': ''}}, {'column': 'Area_Code', 'properties': {'dtype': 'number', 'std': 42, 'min': 408, 'max': 510, 'samples': [415, 408, 510], 'num_unique_values': 3, 'semantic_type': '', 'description': ''}}, {'column': 'Phone', 'properties': {'dtype': 'string', 'samples': ['352-6573', '369-4377', '392-2555'], 'num_unique_values': 3333, 'semantic_type': '', 'description': ''}}, {'column': 'Int_l_Plan', 'properties': {'dtype': 'category', 'samples': ['yes', 'no'], 'num_unique_values': 2, 'semantic_type': '', 'description': ''}}, {'column': 'VMail_Plan', 'properties': {'dtype': 'category', 'samples': ['no', 'yes'], 'num_unique_values': 2, 'semantic_type': '', 'description': ''}}, {'column': 'VMail_Message', 'properties': {'dtype': 'number', 'std': 13, 'min': 0, 'max': 51, 'samples': [44, 48], 'num_unique_values': 46, 'semantic_type': '', 'description': ''}}, {'column': 'Day_Mins', 'properties': {'dtype': 'number', 'std': 54.46738920237137, 'min': 0.0, 'max': 350.8, 'samples': [87.6, 115.7], 'num_unique_values': 1667, 'semantic_type': '', 'description': ''}}, {'column': 'Day_Calls', 'properties': {'dtype': 'number', 'std': 20, 'min': 0, 'max': 165, 'samples': [125, 59], 'num_unique_values': 119, 'semantic_type': '', 'description': ''}}, {'column': 'Day_Charge', 'properties': {'dtype': 'number', 'std': 9.2594345539305, 'min': 0.0, 'max': 59.64, 'samples': [14.89, 19.67], 'num_unique_values': 1667, 'semantic_type': '', 'description': ''}}, {'column': 'Eve_Mins', 'properties': {'dtype': 'number', 'std': 50.713844425812, 'min': 0.0, 'max': 363.7, 'samples': [215.1, 219.1], 'num_unique_values': 1611, 'semantic_type': '', 'description': ''}}, {'column': 'Eve_Calls', 'properties': {'dtype': 'number', 'std': 19, 'min': 0, 'max': 170, 'samples': [93, 142], 'num_unique_values': 123, 'semantic_type': '', 'description': ''}}, {'column': 'Eve_Charge', 'properties': {'dtype': 'number', 'std': 4.310667643110341, 'min': 0.0, 'max': 30.91, 'samples': [24.85, 14.19], 'num_unique_values': 1440, 'semantic_type': '', 'description': ''}}, {'column': 'Night_Mins', 'properties': {'dtype': 'number', 'std': 50.57384701365836, 'min': 23.2, 'max': 395.0, 'samples': [311.1, 179.1], 'num_unique_values': 1591, 'semantic_type': '', 'description': ''}}, {'column': 'Night_Calls', 'properties': {'dtype': 'number', 'std': 19, 'min': 33, 'max': 175, 'samples': [60, 73], 'num_unique_values': 120, 'semantic_type': '', 'description': ''}}, {'column': 'Night_Charge', 'properties': {'dtype': 'number', 'std': 2.275872837660029, 'min': 1.04, 'max': 17.77, 'samples': [6.2, 6.86], 'num_unique_values': 933, 'semantic_type': '', 'description': ''}}, {'column': 'Intl_Mins', 'properties': {'dtype': 'number', 'std': 2.791839548408416, 'min': 0.0, 'max': 20.0, 'samples': [16.6, 14.8], 'num_unique_values': 162, 'semantic_type': '', 'description': ''}}, {'column': 'Intl_Calls', 'properties': {'dtype': 'number', 'std': 2, 'min': 0, 'max': 20, 'samples': [3, 14], 'num_unique_values': 21, 'semantic_type': '', 'description': ''}}, {'column': 'Intl_Charge', 'properties': {'dtype': 'number', 'std': 0.753772612663046, 'min': 0.0, 'max': 5.4, 'samples': [4.48, 4.0], 'num_unique_values': 162, 'semantic_type': '', 'description': ''}}, {'column': 'CustServ_Calls', 'properties': {'dtype': 'number', 'std': 1, 'min': 0, 'max': 9, 'samples': [6, 0], 'num_unique_values': 10, 'semantic_type': '', 'description': ''}}, {'column': 'Churn_', 'properties': {'dtype': 'category', 'samples': ['True.', 'False.'], 'num_unique_values': 2, 'semantic_type': '', 'description': ''}}]}\")]\n"
          ]
        }
      ],
      "source": [
        "print(messages)"
      ]
    },
    {
      "cell_type": "code",
      "execution_count": 25,
      "metadata": {
        "id": "gJN8cjnSs_JT"
      },
      "outputs": [],
      "source": [
        "res = chat_llm.invoke(messages)"
      ]
    },
    {
      "cell_type": "code",
      "execution_count": 26,
      "metadata": {
        "id": "5Tu3rukBw_n5"
      },
      "outputs": [],
      "source": [
        "try:\n",
        "  json_string = clean_code_snippet(res.content)\n",
        "  enriched_summary = json.loads(json_string)\n",
        "except json.decoder.JSONDecodeError:\n",
        "  error_msg = f\"The model did not return a valid JSON object while attempting to generate an enriched data summary. Consider using a default summary or a larger model with higher max token length. | {res.content}\"\n",
        "  logger.info(error_msg)\n"
      ]
    },
    {
      "cell_type": "code",
      "execution_count": 27,
      "metadata": {
        "id": "zQOy-OhQzi8G"
      },
      "outputs": [],
      "source": [
        "data_summary = enriched_summary\n",
        "data_summary[\"field_names\"] = data.columns.tolist()\n",
        "data_summary[\"file_name\"] = filename"
      ]
    },
    {
      "cell_type": "code",
      "execution_count": 28,
      "metadata": {
        "colab": {
          "base_uri": "https://localhost:8080/"
        },
        "id": "ri-2UzSNz0Bm",
        "outputId": "41fc056c-cea5-4051-a57d-e68f961f9f8c"
      },
      "outputs": [
        {
          "data": {
            "text/plain": [
              "{'dataset_name': 'Telecom Churn Rate Dataset',\n",
              " 'dataset_description': 'This dataset contains information about telecom customers, their usage statistics, and whether they have churned or not.',\n",
              " 'fields': [{'column': 'State',\n",
              "   'properties': {'dtype': 'category',\n",
              "    'samples': ['DC', 'WA', 'MS'],\n",
              "    'num_unique_values': 51,\n",
              "    'semantic_type': 'state',\n",
              "    'description': 'The state where the customer resides.'}},\n",
              "  {'column': 'Account_Length',\n",
              "   'properties': {'dtype': 'number',\n",
              "    'std': 39,\n",
              "    'min': 1,\n",
              "    'max': 243,\n",
              "    'samples': [172, 189, 44],\n",
              "    'num_unique_values': 212,\n",
              "    'semantic_type': 'number',\n",
              "    'description': \"The length of the customer's account in days.\"}},\n",
              "  {'column': 'Area_Code',\n",
              "   'properties': {'dtype': 'number',\n",
              "    'std': 42,\n",
              "    'min': 408,\n",
              "    'max': 510,\n",
              "    'samples': [415, 408, 510],\n",
              "    'num_unique_values': 3,\n",
              "    'semantic_type': 'area_code',\n",
              "    'description': \"The area code of the customer's phone number.\"}},\n",
              "  {'column': 'Phone',\n",
              "   'properties': {'dtype': 'string',\n",
              "    'samples': ['352-6573', '369-4377', '392-2555'],\n",
              "    'num_unique_values': 3333,\n",
              "    'semantic_type': 'phone_number',\n",
              "    'description': \"The customer's phone number.\"}},\n",
              "  {'column': 'Int_l_Plan',\n",
              "   'properties': {'dtype': 'category',\n",
              "    'samples': ['yes', 'no'],\n",
              "    'num_unique_values': 2,\n",
              "    'semantic_type': 'boolean',\n",
              "    'description': 'Whether the customer has an international plan or not.'}},\n",
              "  {'column': 'VMail_Plan',\n",
              "   'properties': {'dtype': 'category',\n",
              "    'samples': ['no', 'yes'],\n",
              "    'num_unique_values': 2,\n",
              "    'semantic_type': 'boolean',\n",
              "    'description': 'Whether the customer has a voicemail plan or not.'}},\n",
              "  {'column': 'VMail_Message',\n",
              "   'properties': {'dtype': 'number',\n",
              "    'std': 13,\n",
              "    'min': 0,\n",
              "    'max': 51,\n",
              "    'samples': [44, 48],\n",
              "    'num_unique_values': 46,\n",
              "    'semantic_type': 'number',\n",
              "    'description': 'The number of voicemail messages the customer has.'}},\n",
              "  {'column': 'Day_Mins',\n",
              "   'properties': {'dtype': 'number',\n",
              "    'std': 54.46738920237137,\n",
              "    'min': 0.0,\n",
              "    'max': 350.8,\n",
              "    'samples': [87.6, 115.7],\n",
              "    'num_unique_values': 1667,\n",
              "    'semantic_type': 'number',\n",
              "    'description': 'The total minutes of day calls by the customer.'}},\n",
              "  {'column': 'Day_Calls',\n",
              "   'properties': {'dtype': 'number',\n",
              "    'std': 20,\n",
              "    'min': 0,\n",
              "    'max': 165,\n",
              "    'samples': [125, 59],\n",
              "    'num_unique_values': 119,\n",
              "    'semantic_type': 'number',\n",
              "    'description': 'The total number of day calls made by the customer.'}},\n",
              "  {'column': 'Day_Charge',\n",
              "   'properties': {'dtype': 'number',\n",
              "    'std': 9.2594345539305,\n",
              "    'min': 0.0,\n",
              "    'max': 59.64,\n",
              "    'samples': [14.89, 19.67],\n",
              "    'num_unique_values': 1667,\n",
              "    'semantic_type': 'number',\n",
              "    'description': \"The total charge for the customer's day calls.\"}},\n",
              "  {'column': 'Eve_Mins',\n",
              "   'properties': {'dtype': 'number',\n",
              "    'std': 50.713844425812,\n",
              "    'min': 0.0,\n",
              "    'max': 363.7,\n",
              "    'samples': [215.1, 219.1],\n",
              "    'num_unique_values': 1611,\n",
              "    'semantic_type': 'number',\n",
              "    'description': 'The total minutes of evening calls by the customer.'}},\n",
              "  {'column': 'Eve_Calls',\n",
              "   'properties': {'dtype': 'number',\n",
              "    'std': 19,\n",
              "    'min': 0,\n",
              "    'max': 170,\n",
              "    'samples': [93, 142],\n",
              "    'num_unique_values': 123,\n",
              "    'semantic_type': 'number',\n",
              "    'description': 'The total number of evening calls made by the customer.'}},\n",
              "  {'column': 'Eve_Charge',\n",
              "   'properties': {'dtype': 'number',\n",
              "    'std': 4.310667643110341,\n",
              "    'min': 0.0,\n",
              "    'max': 30.91,\n",
              "    'samples': [24.85, 14.19],\n",
              "    'num_unique_values': 1440,\n",
              "    'semantic_type': 'number',\n",
              "    'description': \"The total charge for the customer's evening calls.\"}},\n",
              "  {'column': 'Night_Mins',\n",
              "   'properties': {'dtype': 'number',\n",
              "    'std': 50.57384701365836,\n",
              "    'min': 23.2,\n",
              "    'max': 395.0,\n",
              "    'samples': [311.1, 179.1],\n",
              "    'num_unique_values': 1591,\n",
              "    'semantic_type': 'number',\n",
              "    'description': 'The total minutes of night calls by the customer.'}},\n",
              "  {'column': 'Night_Calls',\n",
              "   'properties': {'dtype': 'number',\n",
              "    'std': 19,\n",
              "    'min': 33,\n",
              "    'max': 175,\n",
              "    'samples': [60, 73],\n",
              "    'num_unique_values': 120,\n",
              "    'semantic_type': 'number',\n",
              "    'description': 'The total number of night calls made by the customer.'}},\n",
              "  {'column': 'Night_Charge',\n",
              "   'properties': {'dtype': 'number',\n",
              "    'std': 2.275872837660029,\n",
              "    'min': 1.04,\n",
              "    'max': 17.77,\n",
              "    'samples': [6.2, 6.86],\n",
              "    'num_unique_values': 933,\n",
              "    'semantic_type': 'number',\n",
              "    'description': \"The total charge for the customer's night calls.\"}},\n",
              "  {'column': 'Intl_Mins',\n",
              "   'properties': {'dtype': 'number',\n",
              "    'std': 2.791839548408416,\n",
              "    'min': 0.0,\n",
              "    'max': 20.0,\n",
              "    'samples': [16.6, 14.8],\n",
              "    'num_unique_values': 162,\n",
              "    'semantic_type': 'number',\n",
              "    'description': 'The total minutes of international calls by the customer.'}},\n",
              "  {'column': 'Intl_Calls',\n",
              "   'properties': {'dtype': 'number',\n",
              "    'std': 2,\n",
              "    'min': 0,\n",
              "    'max': 20,\n",
              "    'samples': [3, 14],\n",
              "    'num_unique_values': 21,\n",
              "    'semantic_type': 'number',\n",
              "    'description': 'The total number of international calls made by the customer.'}},\n",
              "  {'column': 'Intl_Charge',\n",
              "   'properties': {'dtype': 'number',\n",
              "    'std': 0.753772612663046,\n",
              "    'min': 0.0,\n",
              "    'max': 5.4,\n",
              "    'samples': [4.48, 4.0],\n",
              "    'num_unique_values': 162,\n",
              "    'semantic_type': 'number',\n",
              "    'description': \"The total charge for the customer's international calls.\"}},\n",
              "  {'column': 'CustServ_Calls',\n",
              "   'properties': {'dtype': 'number',\n",
              "    'std': 1,\n",
              "    'min': 0,\n",
              "    'max': 9,\n",
              "    'samples': [6, 0],\n",
              "    'num_unique_values': 10,\n",
              "    'semantic_type': 'number',\n",
              "    'description': 'The number of customer service calls made by the customer.'}},\n",
              "  {'column': 'Churn_',\n",
              "   'properties': {'dtype': 'category',\n",
              "    'samples': ['True.', 'False.'],\n",
              "    'num_unique_values': 2,\n",
              "    'semantic_type': 'boolean',\n",
              "    'description': 'Whether the customer has churned or not.'}}],\n",
              " 'field_names': ['State',\n",
              "  'Account_Length',\n",
              "  'Area_Code',\n",
              "  'Phone',\n",
              "  'Int_l_Plan',\n",
              "  'VMail_Plan',\n",
              "  'VMail_Message',\n",
              "  'Day_Mins',\n",
              "  'Day_Calls',\n",
              "  'Day_Charge',\n",
              "  'Eve_Mins',\n",
              "  'Eve_Calls',\n",
              "  'Eve_Charge',\n",
              "  'Night_Mins',\n",
              "  'Night_Calls',\n",
              "  'Night_Charge',\n",
              "  'Intl_Mins',\n",
              "  'Intl_Calls',\n",
              "  'Intl_Charge',\n",
              "  'CustServ_Calls',\n",
              "  'Churn_'],\n",
              " 'file_name': 'https://raw.githubusercontent.com/manavpatel1092/EDA-of-Telecom-Churn-rate/master/churn1.txt'}"
            ]
          },
          "execution_count": 28,
          "metadata": {},
          "output_type": "execute_result"
        }
      ],
      "source": [
        "data_summary"
      ]
    },
    {
      "cell_type": "markdown",
      "metadata": {
        "id": "IvfvwZuG0QUA"
      },
      "source": [
        "### Generating the GOAL(s)"
      ]
    },
    {
      "cell_type": "code",
      "execution_count": 29,
      "metadata": {
        "id": "A005DMWB0Sql"
      },
      "outputs": [],
      "source": [
        "goal_system_prompt = \"\"\"\n",
        "You are a an experienced data analyst who can generate a given number of insightful GOALS about data, when given a summary of the data,\n",
        "and a specified persona. The VISUALIZATIONS YOU RECOMMEND MUST FOLLOW VISUALIZATION BEST PRACTICES (e.g., must use bar charts instead of pie charts for\n",
        "comparing quantities) AND BE MEANINGFUL (e.g., plot longitude and latitude on maps where appropriate). They must also be relevant to the specified persona.\n",
        "Each goal must include a question, a visualization (THE VISUALIZATION MUST REFERENCE THE EXACT COLUMN FIELDS FROM THE SUMMARY), and a rationale (JUSTIFICATION FOR WHICH dataset\n",
        "FIELDS ARE USED and what we will learn from the visualization). Each goal MUST mention the exact fields from the dataset summary above\n",
        "\"\"\"\n",
        "\n",
        "goal_format_instruction_prompt = \"\"\"\n",
        "THE OUTPUT MUST BE A CODE SNIPPET OF A VALID LIST OF JSON OBJECTS. IT MUST USE THE FOLLOWING FORMAT:\n",
        "\n",
        "```[\n",
        "    { \"index\": 0,  \"question\": \"What is the distribution of X\", \"visualization\": \"histogram of X\", \"rationale\": \"This tells about \"} ..\n",
        "    ]\n",
        "```\n",
        "THE OUTPUT SHOULD ONLY USE THE JSON FORMAT ABOVE.\n",
        "\"\"\"\n",
        "\n",
        "goal_user_prompt = \"\"\"\n",
        "The number of GOALS to generate is {number_of_goals}. The goals should be based on the data summary below, \\n\\n.\n",
        "\"\"\"\n",
        "\n",
        "goal_chat_template = ChatPromptTemplate.from_messages(\n",
        "    [\n",
        "        (\"system\", \"{goal_system_prompt}.\"),\n",
        "        (\"human\", \"The number of GOALS to generate is {number_of_goals}. The goals should be based on the data summary below, \\n\\n {data_summary} \\n\\n {goal_format_instruction_prompt}. The generated {number_of_goals} goals are: \\n\"),\n",
        "    ]\n",
        ")\n",
        "\n",
        "goal_messages = goal_chat_template.format_messages(\n",
        "    goal_system_prompt=goal_system_prompt,\n",
        "    number_of_goals=10,\n",
        "    data_summary=data_summary,\n",
        "    goal_format_instruction_prompt=goal_format_instruction_prompt\n",
        ")"
      ]
    },
    {
      "cell_type": "code",
      "execution_count": 30,
      "metadata": {
        "colab": {
          "base_uri": "https://localhost:8080/"
        },
        "id": "h5DpP3OA0t1l",
        "outputId": "f1cc3652-a5e3-4011-c427-ec24dc45d34d"
      },
      "outputs": [
        {
          "name": "stdout",
          "output_type": "stream",
          "text": [
            "[SystemMessage(content='\\nYou are a an experienced data analyst who can generate a given number of insightful GOALS about data, when given a summary of the data,\\nand a specified persona. The VISUALIZATIONS YOU RECOMMEND MUST FOLLOW VISUALIZATION BEST PRACTICES (e.g., must use bar charts instead of pie charts for\\ncomparing quantities) AND BE MEANINGFUL (e.g., plot longitude and latitude on maps where appropriate). They must also be relevant to the specified persona.\\nEach goal must include a question, a visualization (THE VISUALIZATION MUST REFERENCE THE EXACT COLUMN FIELDS FROM THE SUMMARY), and a rationale (JUSTIFICATION FOR WHICH dataset\\nFIELDS ARE USED and what we will learn from the visualization). Each goal MUST mention the exact fields from the dataset summary above\\n.'), HumanMessage(content='The number of GOALS to generate is 10. The goals should be based on the data summary below, \\n\\n {\\'dataset_name\\': \\'Telecom Churn Rate Dataset\\', \\'dataset_description\\': \\'This dataset contains information about telecom customers, their usage statistics, and whether they have churned or not.\\', \\'fields\\': [{\\'column\\': \\'State\\', \\'properties\\': {\\'dtype\\': \\'category\\', \\'samples\\': [\\'DC\\', \\'WA\\', \\'MS\\'], \\'num_unique_values\\': 51, \\'semantic_type\\': \\'state\\', \\'description\\': \\'The state where the customer resides.\\'}}, {\\'column\\': \\'Account_Length\\', \\'properties\\': {\\'dtype\\': \\'number\\', \\'std\\': 39, \\'min\\': 1, \\'max\\': 243, \\'samples\\': [172, 189, 44], \\'num_unique_values\\': 212, \\'semantic_type\\': \\'number\\', \\'description\\': \"The length of the customer\\'s account in days.\"}}, {\\'column\\': \\'Area_Code\\', \\'properties\\': {\\'dtype\\': \\'number\\', \\'std\\': 42, \\'min\\': 408, \\'max\\': 510, \\'samples\\': [415, 408, 510], \\'num_unique_values\\': 3, \\'semantic_type\\': \\'area_code\\', \\'description\\': \"The area code of the customer\\'s phone number.\"}}, {\\'column\\': \\'Phone\\', \\'properties\\': {\\'dtype\\': \\'string\\', \\'samples\\': [\\'352-6573\\', \\'369-4377\\', \\'392-2555\\'], \\'num_unique_values\\': 3333, \\'semantic_type\\': \\'phone_number\\', \\'description\\': \"The customer\\'s phone number.\"}}, {\\'column\\': \\'Int_l_Plan\\', \\'properties\\': {\\'dtype\\': \\'category\\', \\'samples\\': [\\'yes\\', \\'no\\'], \\'num_unique_values\\': 2, \\'semantic_type\\': \\'boolean\\', \\'description\\': \\'Whether the customer has an international plan or not.\\'}}, {\\'column\\': \\'VMail_Plan\\', \\'properties\\': {\\'dtype\\': \\'category\\', \\'samples\\': [\\'no\\', \\'yes\\'], \\'num_unique_values\\': 2, \\'semantic_type\\': \\'boolean\\', \\'description\\': \\'Whether the customer has a voicemail plan or not.\\'}}, {\\'column\\': \\'VMail_Message\\', \\'properties\\': {\\'dtype\\': \\'number\\', \\'std\\': 13, \\'min\\': 0, \\'max\\': 51, \\'samples\\': [44, 48], \\'num_unique_values\\': 46, \\'semantic_type\\': \\'number\\', \\'description\\': \\'The number of voicemail messages the customer has.\\'}}, {\\'column\\': \\'Day_Mins\\', \\'properties\\': {\\'dtype\\': \\'number\\', \\'std\\': 54.46738920237137, \\'min\\': 0.0, \\'max\\': 350.8, \\'samples\\': [87.6, 115.7], \\'num_unique_values\\': 1667, \\'semantic_type\\': \\'number\\', \\'description\\': \\'The total minutes of day calls by the customer.\\'}}, {\\'column\\': \\'Day_Calls\\', \\'properties\\': {\\'dtype\\': \\'number\\', \\'std\\': 20, \\'min\\': 0, \\'max\\': 165, \\'samples\\': [125, 59], \\'num_unique_values\\': 119, \\'semantic_type\\': \\'number\\', \\'description\\': \\'The total number of day calls made by the customer.\\'}}, {\\'column\\': \\'Day_Charge\\', \\'properties\\': {\\'dtype\\': \\'number\\', \\'std\\': 9.2594345539305, \\'min\\': 0.0, \\'max\\': 59.64, \\'samples\\': [14.89, 19.67], \\'num_unique_values\\': 1667, \\'semantic_type\\': \\'number\\', \\'description\\': \"The total charge for the customer\\'s day calls.\"}}, {\\'column\\': \\'Eve_Mins\\', \\'properties\\': {\\'dtype\\': \\'number\\', \\'std\\': 50.713844425812, \\'min\\': 0.0, \\'max\\': 363.7, \\'samples\\': [215.1, 219.1], \\'num_unique_values\\': 1611, \\'semantic_type\\': \\'number\\', \\'description\\': \\'The total minutes of evening calls by the customer.\\'}}, {\\'column\\': \\'Eve_Calls\\', \\'properties\\': {\\'dtype\\': \\'number\\', \\'std\\': 19, \\'min\\': 0, \\'max\\': 170, \\'samples\\': [93, 142], \\'num_unique_values\\': 123, \\'semantic_type\\': \\'number\\', \\'description\\': \\'The total number of evening calls made by the customer.\\'}}, {\\'column\\': \\'Eve_Charge\\', \\'properties\\': {\\'dtype\\': \\'number\\', \\'std\\': 4.310667643110341, \\'min\\': 0.0, \\'max\\': 30.91, \\'samples\\': [24.85, 14.19], \\'num_unique_values\\': 1440, \\'semantic_type\\': \\'number\\', \\'description\\': \"The total charge for the customer\\'s evening calls.\"}}, {\\'column\\': \\'Night_Mins\\', \\'properties\\': {\\'dtype\\': \\'number\\', \\'std\\': 50.57384701365836, \\'min\\': 23.2, \\'max\\': 395.0, \\'samples\\': [311.1, 179.1], \\'num_unique_values\\': 1591, \\'semantic_type\\': \\'number\\', \\'description\\': \\'The total minutes of night calls by the customer.\\'}}, {\\'column\\': \\'Night_Calls\\', \\'properties\\': {\\'dtype\\': \\'number\\', \\'std\\': 19, \\'min\\': 33, \\'max\\': 175, \\'samples\\': [60, 73], \\'num_unique_values\\': 120, \\'semantic_type\\': \\'number\\', \\'description\\': \\'The total number of night calls made by the customer.\\'}}, {\\'column\\': \\'Night_Charge\\', \\'properties\\': {\\'dtype\\': \\'number\\', \\'std\\': 2.275872837660029, \\'min\\': 1.04, \\'max\\': 17.77, \\'samples\\': [6.2, 6.86], \\'num_unique_values\\': 933, \\'semantic_type\\': \\'number\\', \\'description\\': \"The total charge for the customer\\'s night calls.\"}}, {\\'column\\': \\'Intl_Mins\\', \\'properties\\': {\\'dtype\\': \\'number\\', \\'std\\': 2.791839548408416, \\'min\\': 0.0, \\'max\\': 20.0, \\'samples\\': [16.6, 14.8], \\'num_unique_values\\': 162, \\'semantic_type\\': \\'number\\', \\'description\\': \\'The total minutes of international calls by the customer.\\'}}, {\\'column\\': \\'Intl_Calls\\', \\'properties\\': {\\'dtype\\': \\'number\\', \\'std\\': 2, \\'min\\': 0, \\'max\\': 20, \\'samples\\': [3, 14], \\'num_unique_values\\': 21, \\'semantic_type\\': \\'number\\', \\'description\\': \\'The total number of international calls made by the customer.\\'}}, {\\'column\\': \\'Intl_Charge\\', \\'properties\\': {\\'dtype\\': \\'number\\', \\'std\\': 0.753772612663046, \\'min\\': 0.0, \\'max\\': 5.4, \\'samples\\': [4.48, 4.0], \\'num_unique_values\\': 162, \\'semantic_type\\': \\'number\\', \\'description\\': \"The total charge for the customer\\'s international calls.\"}}, {\\'column\\': \\'CustServ_Calls\\', \\'properties\\': {\\'dtype\\': \\'number\\', \\'std\\': 1, \\'min\\': 0, \\'max\\': 9, \\'samples\\': [6, 0], \\'num_unique_values\\': 10, \\'semantic_type\\': \\'number\\', \\'description\\': \\'The number of customer service calls made by the customer.\\'}}, {\\'column\\': \\'Churn_\\', \\'properties\\': {\\'dtype\\': \\'category\\', \\'samples\\': [\\'True.\\', \\'False.\\'], \\'num_unique_values\\': 2, \\'semantic_type\\': \\'boolean\\', \\'description\\': \\'Whether the customer has churned or not.\\'}}], \\'field_names\\': [\\'State\\', \\'Account_Length\\', \\'Area_Code\\', \\'Phone\\', \\'Int_l_Plan\\', \\'VMail_Plan\\', \\'VMail_Message\\', \\'Day_Mins\\', \\'Day_Calls\\', \\'Day_Charge\\', \\'Eve_Mins\\', \\'Eve_Calls\\', \\'Eve_Charge\\', \\'Night_Mins\\', \\'Night_Calls\\', \\'Night_Charge\\', \\'Intl_Mins\\', \\'Intl_Calls\\', \\'Intl_Charge\\', \\'CustServ_Calls\\', \\'Churn_\\'], \\'file_name\\': \\'https://raw.githubusercontent.com/manavpatel1092/EDA-of-Telecom-Churn-rate/master/churn1.txt\\'} \\n\\n \\nTHE OUTPUT MUST BE A CODE SNIPPET OF A VALID LIST OF JSON OBJECTS. IT MUST USE THE FOLLOWING FORMAT:\\n\\n```[\\n    { \"index\": 0,  \"question\": \"What is the distribution of X\", \"visualization\": \"histogram of X\", \"rationale\": \"This tells about \"} ..\\n    ]\\n```\\nTHE OUTPUT SHOULD ONLY USE THE JSON FORMAT ABOVE.\\n. The generated 10 goals are: \\n')]\n"
          ]
        }
      ],
      "source": [
        "print(goal_messages)"
      ]
    },
    {
      "cell_type": "code",
      "execution_count": 31,
      "metadata": {
        "id": "IBUhAgGw4JIy"
      },
      "outputs": [],
      "source": [
        "goal_res = chat_llm.invoke(goal_messages)"
      ]
    },
    {
      "cell_type": "code",
      "execution_count": 32,
      "metadata": {
        "colab": {
          "base_uri": "https://localhost:8080/",
          "height": 122
        },
        "id": "89stDvHH9ZOE",
        "outputId": "b9854663-39c5-4376-e313-4ab7a97bd82d"
      },
      "outputs": [
        {
          "data": {
            "application/vnd.google.colaboratory.intrinsic+json": {
              "type": "string"
            },
            "text/plain": [
              "'```[\\n    { \"index\": 0,  \"question\": \"What is the distribution of account lengths?\", \"visualization\": \"Histogram of Account_Length\", \"rationale\": \"This tells us about the range and frequency of account lengths, which can help us understand the typical duration a customer stays with the telecom company.\" },\\n    { \"index\": 1,  \"question\": \"What is the churn rate per state?\", \"visualization\": \"Bar chart of Churn_ grouped by State\", \"rationale\": \"This can help us identify if there are any geographical patterns to customer churn.\" },\\n    { \"index\": 2,  \"question\": \"How does the number of customer service calls relate to churn?\", \"visualization\": \"Box plot of CustServ_Calls for each category of Churn_\", \"rationale\": \"This can help us understand if there is a relationship between the number of customer service calls and customer churn.\" },\\n    { \"index\": 3,  \"question\": \"What is the relationship between day minutes and day charge?\", \"visualization\": \"Scatter plot of Day_Mins vs Day_Charge\", \"rationale\": \"This can help us understand if there is a linear relationship between the minutes of day calls and the charge for these calls.\" },\\n    { \"index\": 4,  \"question\": \"How does having an international plan relate to churn?\", \"visualization\": \"Bar chart of Churn_ grouped by Int_l_Plan\", \"rationale\": \"This can help us understand if having an international plan influences customer churn.\" },\\n    { \"index\": 5,  \"question\": \"What is the distribution of evening call minutes?\", \"visualization\": \"Histogram of Eve_Mins\", \"rationale\": \"This tells us about the range and frequency of evening call minutes, which can help us understand customer calling habits.\" },\\n    { \"index\": 6,  \"question\": \"What is the relationship between international minutes and international charge?\", \"visualization\": \"Scatter plot of Intl_Mins vs Intl_Charge\", \"rationale\": \"This can help us understand if there is a linear relationship between the minutes of international calls and the charge for these calls.\" },\\n    { \"index\": 7,  \"question\": \"How does the number of voicemail messages relate to churn?\", \"visualization\": \"Box plot of VMail_Message for each category of Churn_\", \"rationale\": \"This can help us understand if there is a relationship between the number of voicemail messages and customer churn.\" },\\n    { \"index\": 8,  \"question\": \"What is the churn rate per area code?\", \"visualization\": \"Bar chart of Churn_ grouped by Area_Code\", \"rationale\": \"This can help us identify if there are any patterns in customer churn based on the area code.\" },\\n    { \"index\": 9,  \"question\": \"What is the distribution of night call charges?\", \"visualization\": \"Histogram of Night_Charge\", \"rationale\": \"This tells us about the range and frequency of night call charges, which can help us understand customer calling habits and their cost implications.\" }\\n]\\n```'"
            ]
          },
          "execution_count": 32,
          "metadata": {},
          "output_type": "execute_result"
        }
      ],
      "source": [
        "goal_res.content"
      ]
    },
    {
      "cell_type": "code",
      "execution_count": 33,
      "metadata": {
        "id": "5lIH_v3i4RSW"
      },
      "outputs": [],
      "source": [
        "try:\n",
        "  json_string = clean_code_snippet(goal_res.content)\n",
        "  result = json.loads(json_string)\n",
        "  if isinstance(result, dict):\n",
        "    result = [result]\n",
        "except json.decoder.JSONDecodeError:\n",
        "  logger.info(f\"Error decoding JSON: {goal_res.content}\")\n",
        "  print(f\"Error decoding JSON: {goal_res.content}\")"
      ]
    },
    {
      "cell_type": "code",
      "execution_count": 34,
      "metadata": {
        "colab": {
          "base_uri": "https://localhost:8080/"
        },
        "id": "L3a60nqc9rbG",
        "outputId": "baa3581c-7f28-4d87-da94-c029af1ec9db"
      },
      "outputs": [
        {
          "data": {
            "text/plain": [
              "[{'index': 0,\n",
              "  'question': 'What is the distribution of account lengths?',\n",
              "  'visualization': 'Histogram of Account_Length',\n",
              "  'rationale': 'This tells us about the range and frequency of account lengths, which can help us understand the typical duration a customer stays with the telecom company.'},\n",
              " {'index': 1,\n",
              "  'question': 'What is the churn rate per state?',\n",
              "  'visualization': 'Bar chart of Churn_ grouped by State',\n",
              "  'rationale': 'This can help us identify if there are any geographical patterns to customer churn.'},\n",
              " {'index': 2,\n",
              "  'question': 'How does the number of customer service calls relate to churn?',\n",
              "  'visualization': 'Box plot of CustServ_Calls for each category of Churn_',\n",
              "  'rationale': 'This can help us understand if there is a relationship between the number of customer service calls and customer churn.'},\n",
              " {'index': 3,\n",
              "  'question': 'What is the relationship between day minutes and day charge?',\n",
              "  'visualization': 'Scatter plot of Day_Mins vs Day_Charge',\n",
              "  'rationale': 'This can help us understand if there is a linear relationship between the minutes of day calls and the charge for these calls.'},\n",
              " {'index': 4,\n",
              "  'question': 'How does having an international plan relate to churn?',\n",
              "  'visualization': 'Bar chart of Churn_ grouped by Int_l_Plan',\n",
              "  'rationale': 'This can help us understand if having an international plan influences customer churn.'},\n",
              " {'index': 5,\n",
              "  'question': 'What is the distribution of evening call minutes?',\n",
              "  'visualization': 'Histogram of Eve_Mins',\n",
              "  'rationale': 'This tells us about the range and frequency of evening call minutes, which can help us understand customer calling habits.'},\n",
              " {'index': 6,\n",
              "  'question': 'What is the relationship between international minutes and international charge?',\n",
              "  'visualization': 'Scatter plot of Intl_Mins vs Intl_Charge',\n",
              "  'rationale': 'This can help us understand if there is a linear relationship between the minutes of international calls and the charge for these calls.'},\n",
              " {'index': 7,\n",
              "  'question': 'How does the number of voicemail messages relate to churn?',\n",
              "  'visualization': 'Box plot of VMail_Message for each category of Churn_',\n",
              "  'rationale': 'This can help us understand if there is a relationship between the number of voicemail messages and customer churn.'},\n",
              " {'index': 8,\n",
              "  'question': 'What is the churn rate per area code?',\n",
              "  'visualization': 'Bar chart of Churn_ grouped by Area_Code',\n",
              "  'rationale': 'This can help us identify if there are any patterns in customer churn based on the area code.'},\n",
              " {'index': 9,\n",
              "  'question': 'What is the distribution of night call charges?',\n",
              "  'visualization': 'Histogram of Night_Charge',\n",
              "  'rationale': 'This tells us about the range and frequency of night call charges, which can help us understand customer calling habits and their cost implications.'}]"
            ]
          },
          "execution_count": 34,
          "metadata": {},
          "output_type": "execute_result"
        }
      ],
      "source": [
        "result"
      ]
    },
    {
      "cell_type": "code",
      "execution_count": 35,
      "metadata": {
        "colab": {
          "base_uri": "https://localhost:8080/"
        },
        "id": "Xwe1_daMJO3d",
        "outputId": "be54d37f-501e-4a21-efd7-3d95f19a866f"
      },
      "outputs": [
        {
          "data": {
            "text/plain": [
              "{'index': 7,\n",
              " 'question': 'How does the number of voicemail messages relate to churn?',\n",
              " 'visualization': 'Box plot of VMail_Message for each category of Churn_',\n",
              " 'rationale': 'This can help us understand if there is a relationship between the number of voicemail messages and customer churn.'}"
            ]
          },
          "execution_count": 35,
          "metadata": {},
          "output_type": "execute_result"
        }
      ],
      "source": [
        "result[7]"
      ]
    },
    {
      "cell_type": "markdown",
      "metadata": {
        "id": "qBr-Q_Q6-bjT"
      },
      "source": [
        "### Visualize"
      ]
    },
    {
      "cell_type": "code",
      "execution_count": 36,
      "metadata": {
        "id": "Ui1otNgIDBh5"
      },
      "outputs": [],
      "source": [
        "# library_template, library_instructions = self.scaffold.get_template(goal, library)\n",
        "\n",
        "library = \"plotly\"\n",
        "\n",
        "library_template = \"\"\"\n",
        "import plotly.express as px\n",
        "<imports>\n",
        "def plot(data: pd.DataFrame):\n",
        "    fig = <stub> # only modify this section\n",
        "\n",
        "    return chart\n",
        "chart = plot(data) # variable data already contains the data to be plotted and should not be loaded again.  Always include this line. No additional code beyond this line..\n",
        "\"\"\"\n",
        "\n",
        "viz_chat_template = ChatPromptTemplate.from_messages(\n",
        "    [\n",
        "        (\"system\", \"You are a helpful assistant highly skilled in writing PERFECT code for visualizations. Given some code template, you complete the template to generate a visualization given the dataset and the goal described. The code you write MUST FOLLOW VISUALIZATION BEST PRACTICES ie. meet the specified goal, apply the right transformation, use the right visualization type, use the right data encoding, and use the right aesthetics (e.g., ensure axis are legible). The transformations you apply MUST be correct and the fields you use MUST be correct. The visualization CODE MUST BE CORRECT and MUST NOT CONTAIN ANY SYNTAX OR LOGIC ERRORS (e.g., it must consider the field types and use them correctly). You MUST first generate a brief plan for how you would solve the task e.g. what transformations you would apply e.g. if you need to construct a new column, what fields you would use, what visualization type you would use, what aesthetics you would use, etc. The dataset summary is : {data_summary}. You are a helpful assistant highly skilled in writing PERFECT code for visualizations. Given some code template, you complete the template to generate a visualization given the dataset and the goal described. The code you write MUST FOLLOW VISUALIZATION BEST PRACTICES ie. meet the specified goal, apply the right transformation, use the right visualization type, use the right data encoding, and use the right aesthetics (e.g., ensure axis are legible). The transformations you apply MUST be correct and the fields you use MUST be correct. The visualization CODE MUST BE CORRECT and MUST NOT CONTAIN ANY SYNTAX OR LOGIC ERRORS (e.g., it must consider the field types and use them correctly). You MUST first generate a brief plan for how you would solve the task e.g. what transformations you would apply e.g. if you need to construct a new column, what fields you would use, what visualization type you would use, what aesthetics you would use, etc.If the solution requires a single value (e.g. max, min, median, first, last etc), ALWAYS add a line (axvline or axhline) to the chart, ALWAYS with a legend containing the single value (formatted with 0.2F). If using a <field> where semantic_type=date, YOU MUST APPLY the following transform before using that column i) convert date fields to date types using data[''] = pd.to_datetime(data[<field>], errors='coerce'), ALWAYS use  errors='coerce' ii) drop the rows with NaT values data = data[pd.notna(data[<field>])] iii) convert field to right time format for plotting.  ALWAYS make sure the x-axis labels are legible (e.g., rotate when needed). Solve the task  carefully by completing ONLY the <imports> AND <stub> section. Given the dataset summary, the plot(data) method should generate a {library} chart ({goal_visualization}) that addresses this goal: {goal_question}. DO NOT WRITE ANY CODE TO LOAD THE DATA. The data is already loaded and available in the variable data. If calculating metrics such as mean, median, mode, etc. ALWAYS use the option 'numeric_only=True' when applicable and available, AVOID visualizations that require nbformat library. DO NOT inlcude fig.show(). The plot method must return an plotly figure object (fig)`. Think step by step. \\n.\"),\n",
        "        (\"human\", \"Always add a legend with various colors where appropriate. The visualization code MUST only use data fields that exist in the dataset (field_names) or fields that are transformations based on existing field_names). Only use variables that have been defined in the code or are in the dataset summary. You MUST return a FULL PYTHON PROGRAM ENCLOSED IN BACKTICKS ``` that starts with an import statement. DO NOT add any explanation. \\n\\n THE GENERATED CODE SOLUTION SHOULD BE CREATED BY MODIFYING THE SPECIFIED PARTS OF THE TEMPLATE BELOW \\n\\n {library_template} \\n\\n.The FINAL COMPLETED CODE BASED ON THE TEMPLATE above is ... \\n\\n\")\n",
        "    ]\n",
        ")\n",
        "\n",
        "viz_messages = viz_chat_template.format_messages(\n",
        "    library=library,\n",
        "    library_template=library_template,\n",
        "    data_summary=data_summary,\n",
        "    goal_question=result[7]['question'],\n",
        "    goal_visualization=result[7]['visualization']\n",
        ")\n"
      ]
    },
    {
      "cell_type": "code",
      "execution_count": 37,
      "metadata": {
        "id": "OHifPSmu-dfz"
      },
      "outputs": [],
      "source": [
        "viz_res = chat_llm.invoke(viz_messages)\n"
      ]
    },
    {
      "cell_type": "code",
      "execution_count": 38,
      "metadata": {
        "colab": {
          "base_uri": "https://localhost:8080/",
          "height": 70
        },
        "id": "hbioegwDRkB5",
        "outputId": "76656c4e-a774-4f88-c9c6-c9c4e54905c4"
      },
      "outputs": [
        {
          "data": {
            "application/vnd.google.colaboratory.intrinsic+json": {
              "type": "string"
            },
            "text/plain": [
              "\"```python\\nimport plotly.express as px\\nimport pandas as pd\\n\\ndef plot(data: pd.DataFrame):\\n    fig = px.box(data, x='Churn_', y='VMail_Message', color='Churn_', \\n                 labels={'Churn_':'Churn', 'VMail_Message':'Number of Voicemail Messages'},\\n                 title='Box plot of VMail_Message for each category of Churn')\\n    return fig\\nchart = plot(data)\\n```\""
            ]
          },
          "execution_count": 38,
          "metadata": {},
          "output_type": "execute_result"
        }
      ],
      "source": [
        "viz_res.content"
      ]
    },
    {
      "cell_type": "code",
      "execution_count": 39,
      "metadata": {
        "id": "mfFupcYzSXNW"
      },
      "outputs": [],
      "source": [
        "code = viz_res.content.replace(\"```python\", '')\n",
        "code = code.replace(\"```\", '')\n"
      ]
    },
    {
      "cell_type": "code",
      "execution_count": 40,
      "metadata": {
        "id": "V-3X65efQBQ7"
      },
      "outputs": [],
      "source": [
        "ex_locals = get_globals_dict(code, data)"
      ]
    },
    {
      "cell_type": "code",
      "execution_count": 41,
      "metadata": {
        "id": "DwwCC559R8le"
      },
      "outputs": [],
      "source": [
        "exec(code, ex_locals)"
      ]
    },
    {
      "cell_type": "code",
      "execution_count": 42,
      "metadata": {
        "id": "5YLv_DkFSDeI"
      },
      "outputs": [],
      "source": [
        "chart = ex_locals[\"chart\"]"
      ]
    },
    {
      "cell_type": "code",
      "execution_count": 43,
      "metadata": {
        "colab": {
          "base_uri": "https://localhost:8080/",
          "height": 542
        },
        "id": "OPR8rVSYSFI5",
        "outputId": "ed125058-5057-430c-e037-42629ae946f1"
      },
      "outputs": [
        {
          "data": {
            "text/html": [
              "<html>\n",
              "<head><meta charset=\"utf-8\" /></head>\n",
              "<body>\n",
              "    <div>            <script src=\"https://cdnjs.cloudflare.com/ajax/libs/mathjax/2.7.5/MathJax.js?config=TeX-AMS-MML_SVG\"></script><script type=\"text/javascript\">if (window.MathJax && window.MathJax.Hub && window.MathJax.Hub.Config) {window.MathJax.Hub.Config({SVG: {font: \"STIX-Web\"}});}</script>                <script type=\"text/javascript\">window.PlotlyConfig = {MathJaxConfig: 'local'};</script>\n",
              "        <script charset=\"utf-8\" src=\"https://cdn.plot.ly/plotly-2.24.1.min.js\"></script>                <div id=\"b3a1114f-3ebd-40b0-a018-dbee779d23e9\" class=\"plotly-graph-div\" style=\"height:525px; width:100%;\"></div>            <script type=\"text/javascript\">                                    window.PLOTLYENV=window.PLOTLYENV || {};                                    if (document.getElementById(\"b3a1114f-3ebd-40b0-a018-dbee779d23e9\")) {                    Plotly.newPlot(                        \"b3a1114f-3ebd-40b0-a018-dbee779d23e9\",                        [{\"alignmentgroup\":\"True\",\"hovertemplate\":\"Churn=%{x}\\u003cbr\\u003eNumber of Voicemail Messages=%{y}\\u003cextra\\u003e\\u003c\\u002fextra\\u003e\",\"legendgroup\":\"False.\",\"marker\":{\"color\":\"#636efa\"},\"name\":\"False.\",\"notched\":false,\"offsetgroup\":\"False.\",\"orientation\":\"v\",\"showlegend\":true,\"x\":[\"False.\",\"False.\",\"False.\",\"False.\",\"False.\",\"False.\",\"False.\",\"False.\",\"False.\",\"False.\",\"False.\",\"False.\",\"False.\",\"False.\",\"False.\",\"False.\",\"False.\",\"False.\",\"False.\",\"False.\",\"False.\",\"False.\",\"False.\",\"False.\",\"False.\",\"False.\",\"False.\",\"False.\",\"False.\",\"False.\",\"False.\",\"False.\",\"False.\",\"False.\",\"False.\",\"False.\",\"False.\",\"False.\",\"False.\",\"False.\",\"False.\",\"False.\",\"False.\",\"False.\",\"False.\",\"False.\",\"False.\",\"False.\",\"False.\",\"False.\",\"False.\",\"False.\",\"False.\",\"False.\",\"False.\",\"False.\",\"False.\",\"False.\",\"False.\",\"False.\",\"False.\",\"False.\",\"False.\",\"False.\",\"False.\",\"False.\",\"False.\",\"False.\",\"False.\",\"False.\",\"False.\",\"False.\",\"False.\",\"False.\",\"False.\",\"False.\",\"False.\",\"False.\",\"False.\",\"False.\",\"False.\",\"False.\",\"False.\",\"False.\",\"False.\",\"False.\",\"False.\",\"False.\",\"False.\",\"False.\",\"False.\",\"False.\",\"False.\",\"False.\",\"False.\",\"False.\",\"False.\",\"False.\",\"False.\",\"False.\",\"False.\",\"False.\",\"False.\",\"False.\",\"False.\",\"False.\",\"False.\",\"False.\",\"False.\",\"False.\",\"False.\",\"False.\",\"False.\",\"False.\",\"False.\",\"False.\",\"False.\",\"False.\",\"False.\",\"False.\",\"False.\",\"False.\",\"False.\",\"False.\",\"False.\",\"False.\",\"False.\",\"False.\",\"False.\",\"False.\",\"False.\",\"False.\",\"False.\",\"False.\",\"False.\",\"False.\",\"False.\",\"False.\",\"False.\",\"False.\",\"False.\",\"False.\",\"False.\",\"False.\",\"False.\",\"False.\",\"False.\",\"False.\",\"False.\",\"False.\",\"False.\",\"False.\",\"False.\",\"False.\",\"False.\",\"False.\",\"False.\",\"False.\",\"False.\",\"False.\",\"False.\",\"False.\",\"False.\",\"False.\",\"False.\",\"False.\",\"False.\",\"False.\",\"False.\",\"False.\",\"False.\",\"False.\",\"False.\",\"False.\",\"False.\",\"False.\",\"False.\",\"False.\",\"False.\",\"False.\",\"False.\",\"False.\",\"False.\",\"False.\",\"False.\",\"False.\",\"False.\",\"False.\",\"False.\",\"False.\",\"False.\",\"False.\",\"False.\",\"False.\",\"False.\",\"False.\",\"False.\",\"False.\",\"False.\",\"False.\",\"False.\",\"False.\",\"False.\",\"False.\",\"False.\",\"False.\",\"False.\",\"False.\",\"False.\",\"False.\",\"False.\",\"False.\",\"False.\",\"False.\",\"False.\",\"False.\",\"False.\",\"False.\",\"False.\",\"False.\",\"False.\",\"False.\",\"False.\",\"False.\",\"False.\",\"False.\",\"False.\",\"False.\",\"False.\",\"False.\",\"False.\",\"False.\",\"False.\",\"False.\",\"False.\",\"False.\",\"False.\",\"False.\",\"False.\",\"False.\",\"False.\",\"False.\",\"False.\",\"False.\",\"False.\",\"False.\",\"False.\",\"False.\",\"False.\",\"False.\",\"False.\",\"False.\",\"False.\",\"False.\",\"False.\",\"False.\",\"False.\",\"False.\",\"False.\",\"False.\",\"False.\",\"False.\",\"False.\",\"False.\",\"False.\",\"False.\",\"False.\",\"False.\",\"False.\",\"False.\",\"False.\",\"False.\",\"False.\",\"False.\",\"False.\",\"False.\",\"False.\",\"False.\",\"False.\",\"False.\",\"False.\",\"False.\",\"False.\",\"False.\",\"False.\",\"False.\",\"False.\",\"False.\",\"False.\",\"False.\",\"False.\",\"False.\",\"False.\",\"False.\",\"False.\",\"False.\",\"False.\",\"False.\",\"False.\",\"False.\",\"False.\",\"False.\",\"False.\",\"False.\",\"False.\",\"False.\",\"False.\",\"False.\",\"False.\",\"False.\",\"False.\",\"False.\",\"False.\",\"False.\",\"False.\",\"False.\",\"False.\",\"False.\",\"False.\",\"False.\",\"False.\",\"False.\",\"False.\",\"False.\",\"False.\",\"False.\",\"False.\",\"False.\",\"False.\",\"False.\",\"False.\",\"False.\",\"False.\",\"False.\",\"False.\",\"False.\",\"False.\",\"False.\",\"False.\",\"False.\",\"False.\",\"False.\",\"False.\",\"False.\",\"False.\",\"False.\",\"False.\",\"False.\",\"False.\",\"False.\",\"False.\",\"False.\",\"False.\",\"False.\",\"False.\",\"False.\",\"False.\",\"False.\",\"False.\",\"False.\",\"False.\",\"False.\",\"False.\",\"False.\",\"False.\",\"False.\",\"False.\",\"False.\",\"False.\",\"False.\",\"False.\",\"False.\",\"False.\",\"False.\",\"False.\",\"False.\",\"False.\",\"False.\",\"False.\",\"False.\",\"False.\",\"False.\",\"False.\",\"False.\",\"False.\",\"False.\",\"False.\",\"False.\",\"False.\",\"False.\",\"False.\",\"False.\",\"False.\",\"False.\",\"False.\",\"False.\",\"False.\",\"False.\",\"False.\",\"False.\",\"False.\",\"False.\",\"False.\",\"False.\",\"False.\",\"False.\",\"False.\",\"False.\",\"False.\",\"False.\",\"False.\",\"False.\",\"False.\",\"False.\",\"False.\",\"False.\",\"False.\",\"False.\",\"False.\",\"False.\",\"False.\",\"False.\",\"False.\",\"False.\",\"False.\",\"False.\",\"False.\",\"False.\",\"False.\",\"False.\",\"False.\",\"False.\",\"False.\",\"False.\",\"False.\",\"False.\",\"False.\",\"False.\",\"False.\",\"False.\",\"False.\",\"False.\",\"False.\",\"False.\",\"False.\",\"False.\",\"False.\",\"False.\",\"False.\",\"False.\",\"False.\",\"False.\",\"False.\",\"False.\",\"False.\",\"False.\",\"False.\",\"False.\",\"False.\",\"False.\",\"False.\",\"False.\",\"False.\",\"False.\",\"False.\",\"False.\",\"False.\",\"False.\",\"False.\",\"False.\",\"False.\",\"False.\",\"False.\",\"False.\",\"False.\",\"False.\",\"False.\",\"False.\",\"False.\",\"False.\",\"False.\",\"False.\",\"False.\",\"False.\",\"False.\",\"False.\",\"False.\",\"False.\",\"False.\",\"False.\",\"False.\",\"False.\",\"False.\",\"False.\",\"False.\",\"False.\",\"False.\",\"False.\",\"False.\",\"False.\",\"False.\",\"False.\",\"False.\",\"False.\",\"False.\",\"False.\",\"False.\",\"False.\",\"False.\",\"False.\",\"False.\",\"False.\",\"False.\",\"False.\",\"False.\",\"False.\",\"False.\",\"False.\",\"False.\",\"False.\",\"False.\",\"False.\",\"False.\",\"False.\",\"False.\",\"False.\",\"False.\",\"False.\",\"False.\",\"False.\",\"False.\",\"False.\",\"False.\",\"False.\",\"False.\",\"False.\",\"False.\",\"False.\",\"False.\",\"False.\",\"False.\",\"False.\",\"False.\",\"False.\",\"False.\",\"False.\",\"False.\",\"False.\",\"False.\",\"False.\",\"False.\",\"False.\",\"False.\",\"False.\",\"False.\",\"False.\",\"False.\",\"False.\",\"False.\",\"False.\",\"False.\",\"False.\",\"False.\",\"False.\",\"False.\",\"False.\",\"False.\",\"False.\",\"False.\",\"False.\",\"False.\",\"False.\",\"False.\",\"False.\",\"False.\",\"False.\",\"False.\",\"False.\",\"False.\",\"False.\",\"False.\",\"False.\",\"False.\",\"False.\",\"False.\",\"False.\",\"False.\",\"False.\",\"False.\",\"False.\",\"False.\",\"False.\",\"False.\",\"False.\",\"False.\",\"False.\",\"False.\",\"False.\",\"False.\",\"False.\",\"False.\",\"False.\",\"False.\",\"False.\",\"False.\",\"False.\",\"False.\",\"False.\",\"False.\",\"False.\",\"False.\",\"False.\",\"False.\",\"False.\",\"False.\",\"False.\",\"False.\",\"False.\",\"False.\",\"False.\",\"False.\",\"False.\",\"False.\",\"False.\",\"False.\",\"False.\",\"False.\",\"False.\",\"False.\",\"False.\",\"False.\",\"False.\",\"False.\",\"False.\",\"False.\",\"False.\",\"False.\",\"False.\",\"False.\",\"False.\",\"False.\",\"False.\",\"False.\",\"False.\",\"False.\",\"False.\",\"False.\",\"False.\",\"False.\",\"False.\",\"False.\",\"False.\",\"False.\",\"False.\",\"False.\",\"False.\",\"False.\",\"False.\",\"False.\",\"False.\",\"False.\",\"False.\",\"False.\",\"False.\",\"False.\",\"False.\",\"False.\",\"False.\",\"False.\",\"False.\",\"False.\",\"False.\",\"False.\",\"False.\",\"False.\",\"False.\",\"False.\",\"False.\",\"False.\",\"False.\",\"False.\",\"False.\",\"False.\",\"False.\",\"False.\",\"False.\",\"False.\",\"False.\",\"False.\",\"False.\",\"False.\",\"False.\",\"False.\",\"False.\",\"False.\",\"False.\",\"False.\",\"False.\",\"False.\",\"False.\",\"False.\",\"False.\",\"False.\",\"False.\",\"False.\",\"False.\",\"False.\",\"False.\",\"False.\",\"False.\",\"False.\",\"False.\",\"False.\",\"False.\",\"False.\",\"False.\",\"False.\",\"False.\",\"False.\",\"False.\",\"False.\",\"False.\",\"False.\",\"False.\",\"False.\",\"False.\",\"False.\",\"False.\",\"False.\",\"False.\",\"False.\",\"False.\",\"False.\",\"False.\",\"False.\",\"False.\",\"False.\",\"False.\",\"False.\",\"False.\",\"False.\",\"False.\",\"False.\",\"False.\",\"False.\",\"False.\",\"False.\",\"False.\",\"False.\",\"False.\",\"False.\",\"False.\",\"False.\",\"False.\",\"False.\",\"False.\",\"False.\",\"False.\",\"False.\",\"False.\",\"False.\",\"False.\",\"False.\",\"False.\",\"False.\",\"False.\",\"False.\",\"False.\",\"False.\",\"False.\",\"False.\",\"False.\",\"False.\",\"False.\",\"False.\",\"False.\",\"False.\",\"False.\",\"False.\",\"False.\",\"False.\",\"False.\",\"False.\",\"False.\",\"False.\",\"False.\",\"False.\",\"False.\",\"False.\",\"False.\",\"False.\",\"False.\",\"False.\",\"False.\",\"False.\",\"False.\",\"False.\",\"False.\",\"False.\",\"False.\",\"False.\",\"False.\",\"False.\",\"False.\",\"False.\",\"False.\",\"False.\",\"False.\",\"False.\",\"False.\",\"False.\",\"False.\",\"False.\",\"False.\",\"False.\",\"False.\",\"False.\",\"False.\",\"False.\",\"False.\",\"False.\",\"False.\",\"False.\",\"False.\",\"False.\",\"False.\",\"False.\",\"False.\",\"False.\",\"False.\",\"False.\",\"False.\",\"False.\",\"False.\",\"False.\",\"False.\",\"False.\",\"False.\",\"False.\",\"False.\",\"False.\",\"False.\",\"False.\",\"False.\",\"False.\",\"False.\",\"False.\",\"False.\",\"False.\",\"False.\",\"False.\",\"False.\",\"False.\",\"False.\",\"False.\",\"False.\",\"False.\",\"False.\",\"False.\",\"False.\",\"False.\",\"False.\",\"False.\",\"False.\",\"False.\",\"False.\",\"False.\",\"False.\",\"False.\",\"False.\",\"False.\",\"False.\",\"False.\",\"False.\",\"False.\",\"False.\",\"False.\",\"False.\",\"False.\",\"False.\",\"False.\",\"False.\",\"False.\",\"False.\",\"False.\",\"False.\",\"False.\",\"False.\",\"False.\",\"False.\",\"False.\",\"False.\",\"False.\",\"False.\",\"False.\",\"False.\",\"False.\",\"False.\",\"False.\",\"False.\",\"False.\",\"False.\",\"False.\",\"False.\",\"False.\",\"False.\",\"False.\",\"False.\",\"False.\",\"False.\",\"False.\",\"False.\",\"False.\",\"False.\",\"False.\",\"False.\",\"False.\",\"False.\",\"False.\",\"False.\",\"False.\",\"False.\",\"False.\",\"False.\",\"False.\",\"False.\",\"False.\",\"False.\",\"False.\",\"False.\",\"False.\",\"False.\",\"False.\",\"False.\",\"False.\",\"False.\",\"False.\",\"False.\",\"False.\",\"False.\",\"False.\",\"False.\",\"False.\",\"False.\",\"False.\",\"False.\",\"False.\",\"False.\",\"False.\",\"False.\",\"False.\",\"False.\",\"False.\",\"False.\",\"False.\",\"False.\",\"False.\",\"False.\",\"False.\",\"False.\",\"False.\",\"False.\",\"False.\",\"False.\",\"False.\",\"False.\",\"False.\",\"False.\",\"False.\",\"False.\",\"False.\",\"False.\",\"False.\",\"False.\",\"False.\",\"False.\",\"False.\",\"False.\",\"False.\",\"False.\",\"False.\",\"False.\",\"False.\",\"False.\",\"False.\",\"False.\",\"False.\",\"False.\",\"False.\",\"False.\",\"False.\",\"False.\",\"False.\",\"False.\",\"False.\",\"False.\",\"False.\",\"False.\",\"False.\",\"False.\",\"False.\",\"False.\",\"False.\",\"False.\",\"False.\",\"False.\",\"False.\",\"False.\",\"False.\",\"False.\",\"False.\",\"False.\",\"False.\",\"False.\",\"False.\",\"False.\",\"False.\",\"False.\",\"False.\",\"False.\",\"False.\",\"False.\",\"False.\",\"False.\",\"False.\",\"False.\",\"False.\",\"False.\",\"False.\",\"False.\",\"False.\",\"False.\",\"False.\",\"False.\",\"False.\",\"False.\",\"False.\",\"False.\",\"False.\",\"False.\",\"False.\",\"False.\",\"False.\",\"False.\",\"False.\",\"False.\",\"False.\",\"False.\",\"False.\",\"False.\",\"False.\",\"False.\",\"False.\",\"False.\",\"False.\",\"False.\",\"False.\",\"False.\",\"False.\",\"False.\",\"False.\",\"False.\",\"False.\",\"False.\",\"False.\",\"False.\",\"False.\",\"False.\",\"False.\",\"False.\",\"False.\",\"False.\",\"False.\",\"False.\",\"False.\",\"False.\",\"False.\",\"False.\",\"False.\",\"False.\",\"False.\",\"False.\",\"False.\",\"False.\",\"False.\",\"False.\",\"False.\",\"False.\",\"False.\",\"False.\",\"False.\",\"False.\",\"False.\",\"False.\",\"False.\",\"False.\",\"False.\",\"False.\",\"False.\",\"False.\",\"False.\",\"False.\",\"False.\",\"False.\",\"False.\",\"False.\",\"False.\",\"False.\",\"False.\",\"False.\",\"False.\",\"False.\",\"False.\",\"False.\",\"False.\",\"False.\",\"False.\",\"False.\",\"False.\",\"False.\",\"False.\",\"False.\",\"False.\",\"False.\",\"False.\",\"False.\",\"False.\",\"False.\",\"False.\",\"False.\",\"False.\",\"False.\",\"False.\",\"False.\",\"False.\",\"False.\",\"False.\",\"False.\",\"False.\",\"False.\",\"False.\",\"False.\",\"False.\",\"False.\",\"False.\",\"False.\",\"False.\",\"False.\",\"False.\",\"False.\",\"False.\",\"False.\",\"False.\",\"False.\",\"False.\",\"False.\",\"False.\",\"False.\",\"False.\",\"False.\",\"False.\",\"False.\",\"False.\",\"False.\",\"False.\",\"False.\",\"False.\",\"False.\",\"False.\",\"False.\",\"False.\",\"False.\",\"False.\",\"False.\",\"False.\",\"False.\",\"False.\",\"False.\",\"False.\",\"False.\",\"False.\",\"False.\",\"False.\",\"False.\",\"False.\",\"False.\",\"False.\",\"False.\",\"False.\",\"False.\",\"False.\",\"False.\",\"False.\",\"False.\",\"False.\",\"False.\",\"False.\",\"False.\",\"False.\",\"False.\",\"False.\",\"False.\",\"False.\",\"False.\",\"False.\",\"False.\",\"False.\",\"False.\",\"False.\",\"False.\",\"False.\",\"False.\",\"False.\",\"False.\",\"False.\",\"False.\",\"False.\",\"False.\",\"False.\",\"False.\",\"False.\",\"False.\",\"False.\",\"False.\",\"False.\",\"False.\",\"False.\",\"False.\",\"False.\",\"False.\",\"False.\",\"False.\",\"False.\",\"False.\",\"False.\",\"False.\",\"False.\",\"False.\",\"False.\",\"False.\",\"False.\",\"False.\",\"False.\",\"False.\",\"False.\",\"False.\",\"False.\",\"False.\",\"False.\",\"False.\",\"False.\",\"False.\",\"False.\",\"False.\",\"False.\",\"False.\",\"False.\",\"False.\",\"False.\",\"False.\",\"False.\",\"False.\",\"False.\",\"False.\",\"False.\",\"False.\",\"False.\",\"False.\",\"False.\",\"False.\",\"False.\",\"False.\",\"False.\",\"False.\",\"False.\",\"False.\",\"False.\",\"False.\",\"False.\",\"False.\",\"False.\",\"False.\",\"False.\",\"False.\",\"False.\",\"False.\",\"False.\",\"False.\",\"False.\",\"False.\",\"False.\",\"False.\",\"False.\",\"False.\",\"False.\",\"False.\",\"False.\",\"False.\",\"False.\",\"False.\",\"False.\",\"False.\",\"False.\",\"False.\",\"False.\",\"False.\",\"False.\",\"False.\",\"False.\",\"False.\",\"False.\",\"False.\",\"False.\",\"False.\",\"False.\",\"False.\",\"False.\",\"False.\",\"False.\",\"False.\",\"False.\",\"False.\",\"False.\",\"False.\",\"False.\",\"False.\",\"False.\",\"False.\",\"False.\",\"False.\",\"False.\",\"False.\",\"False.\",\"False.\",\"False.\",\"False.\",\"False.\",\"False.\",\"False.\",\"False.\",\"False.\",\"False.\",\"False.\",\"False.\",\"False.\",\"False.\",\"False.\",\"False.\",\"False.\",\"False.\",\"False.\",\"False.\",\"False.\",\"False.\",\"False.\",\"False.\",\"False.\",\"False.\",\"False.\",\"False.\",\"False.\",\"False.\",\"False.\",\"False.\",\"False.\",\"False.\",\"False.\",\"False.\",\"False.\",\"False.\",\"False.\",\"False.\",\"False.\",\"False.\",\"False.\",\"False.\",\"False.\",\"False.\",\"False.\",\"False.\",\"False.\",\"False.\",\"False.\",\"False.\",\"False.\",\"False.\",\"False.\",\"False.\",\"False.\",\"False.\",\"False.\",\"False.\",\"False.\",\"False.\",\"False.\",\"False.\",\"False.\",\"False.\",\"False.\",\"False.\",\"False.\",\"False.\",\"False.\",\"False.\",\"False.\",\"False.\",\"False.\",\"False.\",\"False.\",\"False.\",\"False.\",\"False.\",\"False.\",\"False.\",\"False.\",\"False.\",\"False.\",\"False.\",\"False.\",\"False.\",\"False.\",\"False.\",\"False.\",\"False.\",\"False.\",\"False.\",\"False.\",\"False.\",\"False.\",\"False.\",\"False.\",\"False.\",\"False.\",\"False.\",\"False.\",\"False.\",\"False.\",\"False.\",\"False.\",\"False.\",\"False.\",\"False.\",\"False.\",\"False.\",\"False.\",\"False.\",\"False.\",\"False.\",\"False.\",\"False.\",\"False.\",\"False.\",\"False.\",\"False.\",\"False.\",\"False.\",\"False.\",\"False.\",\"False.\",\"False.\",\"False.\",\"False.\",\"False.\",\"False.\",\"False.\",\"False.\",\"False.\",\"False.\",\"False.\",\"False.\",\"False.\",\"False.\",\"False.\",\"False.\",\"False.\",\"False.\",\"False.\",\"False.\",\"False.\",\"False.\",\"False.\",\"False.\",\"False.\",\"False.\",\"False.\",\"False.\",\"False.\",\"False.\",\"False.\",\"False.\",\"False.\",\"False.\",\"False.\",\"False.\",\"False.\",\"False.\",\"False.\",\"False.\",\"False.\",\"False.\",\"False.\",\"False.\",\"False.\",\"False.\",\"False.\",\"False.\",\"False.\",\"False.\",\"False.\",\"False.\",\"False.\",\"False.\",\"False.\",\"False.\",\"False.\",\"False.\",\"False.\",\"False.\",\"False.\",\"False.\",\"False.\",\"False.\",\"False.\",\"False.\",\"False.\",\"False.\",\"False.\",\"False.\",\"False.\",\"False.\",\"False.\",\"False.\",\"False.\",\"False.\",\"False.\",\"False.\",\"False.\",\"False.\",\"False.\",\"False.\",\"False.\",\"False.\",\"False.\",\"False.\",\"False.\",\"False.\",\"False.\",\"False.\",\"False.\",\"False.\",\"False.\",\"False.\",\"False.\",\"False.\",\"False.\",\"False.\",\"False.\",\"False.\",\"False.\",\"False.\",\"False.\",\"False.\",\"False.\",\"False.\",\"False.\",\"False.\",\"False.\",\"False.\",\"False.\",\"False.\",\"False.\",\"False.\",\"False.\",\"False.\",\"False.\",\"False.\",\"False.\",\"False.\",\"False.\",\"False.\",\"False.\",\"False.\",\"False.\",\"False.\",\"False.\",\"False.\",\"False.\",\"False.\",\"False.\",\"False.\",\"False.\",\"False.\",\"False.\",\"False.\",\"False.\",\"False.\",\"False.\",\"False.\",\"False.\",\"False.\",\"False.\",\"False.\",\"False.\",\"False.\",\"False.\",\"False.\",\"False.\",\"False.\",\"False.\",\"False.\",\"False.\",\"False.\",\"False.\",\"False.\",\"False.\",\"False.\",\"False.\",\"False.\",\"False.\",\"False.\",\"False.\",\"False.\",\"False.\",\"False.\",\"False.\",\"False.\",\"False.\",\"False.\",\"False.\",\"False.\",\"False.\",\"False.\",\"False.\",\"False.\",\"False.\",\"False.\",\"False.\",\"False.\",\"False.\",\"False.\",\"False.\",\"False.\",\"False.\",\"False.\",\"False.\",\"False.\",\"False.\",\"False.\",\"False.\",\"False.\",\"False.\",\"False.\",\"False.\",\"False.\",\"False.\",\"False.\",\"False.\",\"False.\",\"False.\",\"False.\",\"False.\",\"False.\",\"False.\",\"False.\",\"False.\",\"False.\",\"False.\",\"False.\",\"False.\",\"False.\",\"False.\",\"False.\",\"False.\",\"False.\",\"False.\",\"False.\",\"False.\",\"False.\",\"False.\",\"False.\",\"False.\",\"False.\",\"False.\",\"False.\",\"False.\",\"False.\",\"False.\",\"False.\",\"False.\",\"False.\",\"False.\",\"False.\",\"False.\",\"False.\",\"False.\",\"False.\",\"False.\",\"False.\",\"False.\",\"False.\",\"False.\",\"False.\",\"False.\",\"False.\",\"False.\",\"False.\",\"False.\",\"False.\",\"False.\",\"False.\",\"False.\",\"False.\",\"False.\",\"False.\",\"False.\",\"False.\",\"False.\",\"False.\",\"False.\",\"False.\",\"False.\",\"False.\",\"False.\",\"False.\",\"False.\",\"False.\",\"False.\",\"False.\",\"False.\",\"False.\",\"False.\",\"False.\",\"False.\",\"False.\",\"False.\",\"False.\",\"False.\",\"False.\",\"False.\",\"False.\",\"False.\",\"False.\",\"False.\",\"False.\",\"False.\",\"False.\",\"False.\",\"False.\",\"False.\",\"False.\",\"False.\",\"False.\",\"False.\",\"False.\",\"False.\",\"False.\",\"False.\",\"False.\",\"False.\",\"False.\",\"False.\",\"False.\",\"False.\",\"False.\",\"False.\",\"False.\",\"False.\",\"False.\",\"False.\",\"False.\",\"False.\",\"False.\",\"False.\",\"False.\",\"False.\",\"False.\",\"False.\",\"False.\",\"False.\",\"False.\",\"False.\",\"False.\",\"False.\",\"False.\",\"False.\",\"False.\",\"False.\",\"False.\",\"False.\",\"False.\",\"False.\",\"False.\",\"False.\",\"False.\",\"False.\",\"False.\",\"False.\",\"False.\",\"False.\",\"False.\",\"False.\",\"False.\",\"False.\",\"False.\",\"False.\",\"False.\",\"False.\",\"False.\",\"False.\",\"False.\",\"False.\",\"False.\",\"False.\",\"False.\",\"False.\",\"False.\",\"False.\",\"False.\",\"False.\",\"False.\",\"False.\",\"False.\",\"False.\",\"False.\",\"False.\",\"False.\",\"False.\",\"False.\",\"False.\",\"False.\",\"False.\",\"False.\",\"False.\",\"False.\",\"False.\",\"False.\",\"False.\",\"False.\",\"False.\",\"False.\",\"False.\",\"False.\",\"False.\",\"False.\",\"False.\",\"False.\",\"False.\",\"False.\",\"False.\",\"False.\",\"False.\",\"False.\",\"False.\",\"False.\",\"False.\",\"False.\",\"False.\",\"False.\",\"False.\",\"False.\",\"False.\",\"False.\",\"False.\",\"False.\",\"False.\",\"False.\",\"False.\",\"False.\",\"False.\",\"False.\",\"False.\",\"False.\",\"False.\",\"False.\",\"False.\",\"False.\",\"False.\",\"False.\",\"False.\",\"False.\",\"False.\",\"False.\",\"False.\",\"False.\",\"False.\",\"False.\",\"False.\",\"False.\",\"False.\",\"False.\",\"False.\",\"False.\",\"False.\",\"False.\",\"False.\",\"False.\",\"False.\",\"False.\",\"False.\",\"False.\",\"False.\",\"False.\",\"False.\",\"False.\",\"False.\",\"False.\",\"False.\",\"False.\",\"False.\",\"False.\",\"False.\",\"False.\",\"False.\",\"False.\",\"False.\",\"False.\",\"False.\",\"False.\",\"False.\",\"False.\",\"False.\",\"False.\",\"False.\",\"False.\",\"False.\",\"False.\",\"False.\",\"False.\",\"False.\",\"False.\",\"False.\",\"False.\",\"False.\",\"False.\",\"False.\",\"False.\",\"False.\",\"False.\",\"False.\",\"False.\",\"False.\",\"False.\",\"False.\",\"False.\",\"False.\",\"False.\",\"False.\",\"False.\",\"False.\",\"False.\",\"False.\",\"False.\",\"False.\",\"False.\",\"False.\",\"False.\",\"False.\",\"False.\",\"False.\",\"False.\",\"False.\",\"False.\",\"False.\",\"False.\",\"False.\",\"False.\",\"False.\",\"False.\",\"False.\",\"False.\",\"False.\",\"False.\",\"False.\",\"False.\",\"False.\",\"False.\",\"False.\",\"False.\",\"False.\",\"False.\",\"False.\",\"False.\",\"False.\",\"False.\",\"False.\",\"False.\",\"False.\",\"False.\",\"False.\",\"False.\",\"False.\",\"False.\",\"False.\",\"False.\",\"False.\",\"False.\",\"False.\",\"False.\",\"False.\",\"False.\",\"False.\",\"False.\",\"False.\",\"False.\",\"False.\",\"False.\",\"False.\",\"False.\",\"False.\",\"False.\",\"False.\",\"False.\",\"False.\",\"False.\",\"False.\",\"False.\",\"False.\",\"False.\",\"False.\",\"False.\",\"False.\",\"False.\",\"False.\",\"False.\",\"False.\",\"False.\",\"False.\",\"False.\",\"False.\",\"False.\",\"False.\",\"False.\",\"False.\",\"False.\",\"False.\",\"False.\",\"False.\",\"False.\",\"False.\",\"False.\",\"False.\",\"False.\",\"False.\",\"False.\",\"False.\",\"False.\",\"False.\",\"False.\",\"False.\",\"False.\",\"False.\",\"False.\",\"False.\",\"False.\",\"False.\",\"False.\",\"False.\",\"False.\",\"False.\",\"False.\",\"False.\",\"False.\",\"False.\",\"False.\",\"False.\",\"False.\",\"False.\",\"False.\",\"False.\",\"False.\",\"False.\",\"False.\",\"False.\",\"False.\",\"False.\",\"False.\",\"False.\",\"False.\",\"False.\",\"False.\",\"False.\",\"False.\",\"False.\",\"False.\",\"False.\",\"False.\",\"False.\",\"False.\",\"False.\",\"False.\",\"False.\",\"False.\",\"False.\",\"False.\",\"False.\",\"False.\",\"False.\",\"False.\",\"False.\",\"False.\",\"False.\",\"False.\",\"False.\",\"False.\",\"False.\",\"False.\",\"False.\",\"False.\",\"False.\",\"False.\",\"False.\",\"False.\",\"False.\",\"False.\",\"False.\",\"False.\",\"False.\",\"False.\",\"False.\",\"False.\",\"False.\",\"False.\",\"False.\",\"False.\",\"False.\",\"False.\",\"False.\",\"False.\",\"False.\",\"False.\",\"False.\",\"False.\",\"False.\",\"False.\",\"False.\",\"False.\",\"False.\",\"False.\",\"False.\",\"False.\",\"False.\",\"False.\",\"False.\",\"False.\",\"False.\",\"False.\",\"False.\",\"False.\",\"False.\",\"False.\",\"False.\",\"False.\",\"False.\",\"False.\",\"False.\",\"False.\",\"False.\",\"False.\",\"False.\",\"False.\",\"False.\",\"False.\",\"False.\",\"False.\",\"False.\",\"False.\",\"False.\",\"False.\",\"False.\",\"False.\",\"False.\",\"False.\",\"False.\",\"False.\",\"False.\",\"False.\",\"False.\",\"False.\",\"False.\",\"False.\",\"False.\",\"False.\",\"False.\",\"False.\",\"False.\",\"False.\",\"False.\",\"False.\",\"False.\",\"False.\",\"False.\",\"False.\",\"False.\",\"False.\",\"False.\",\"False.\",\"False.\",\"False.\",\"False.\",\"False.\",\"False.\",\"False.\",\"False.\",\"False.\",\"False.\",\"False.\",\"False.\",\"False.\",\"False.\",\"False.\",\"False.\",\"False.\",\"False.\",\"False.\",\"False.\",\"False.\",\"False.\",\"False.\",\"False.\",\"False.\",\"False.\",\"False.\",\"False.\",\"False.\",\"False.\",\"False.\",\"False.\",\"False.\",\"False.\",\"False.\",\"False.\",\"False.\",\"False.\",\"False.\",\"False.\",\"False.\",\"False.\",\"False.\",\"False.\",\"False.\",\"False.\",\"False.\",\"False.\",\"False.\",\"False.\",\"False.\",\"False.\",\"False.\",\"False.\",\"False.\",\"False.\",\"False.\",\"False.\",\"False.\",\"False.\",\"False.\",\"False.\",\"False.\",\"False.\",\"False.\",\"False.\",\"False.\",\"False.\",\"False.\",\"False.\",\"False.\",\"False.\",\"False.\",\"False.\",\"False.\",\"False.\",\"False.\",\"False.\",\"False.\",\"False.\",\"False.\",\"False.\",\"False.\",\"False.\",\"False.\",\"False.\",\"False.\",\"False.\",\"False.\",\"False.\",\"False.\",\"False.\",\"False.\",\"False.\",\"False.\",\"False.\",\"False.\",\"False.\",\"False.\",\"False.\",\"False.\",\"False.\",\"False.\",\"False.\",\"False.\",\"False.\",\"False.\",\"False.\",\"False.\",\"False.\",\"False.\",\"False.\",\"False.\",\"False.\",\"False.\",\"False.\",\"False.\",\"False.\",\"False.\",\"False.\",\"False.\",\"False.\",\"False.\",\"False.\",\"False.\",\"False.\",\"False.\",\"False.\",\"False.\",\"False.\",\"False.\",\"False.\",\"False.\",\"False.\",\"False.\",\"False.\",\"False.\",\"False.\",\"False.\",\"False.\",\"False.\",\"False.\",\"False.\",\"False.\",\"False.\",\"False.\",\"False.\",\"False.\",\"False.\",\"False.\",\"False.\",\"False.\",\"False.\",\"False.\",\"False.\",\"False.\",\"False.\",\"False.\",\"False.\",\"False.\",\"False.\",\"False.\",\"False.\",\"False.\",\"False.\",\"False.\",\"False.\",\"False.\",\"False.\",\"False.\",\"False.\",\"False.\",\"False.\",\"False.\",\"False.\",\"False.\",\"False.\",\"False.\",\"False.\",\"False.\",\"False.\",\"False.\",\"False.\",\"False.\",\"False.\",\"False.\",\"False.\",\"False.\",\"False.\",\"False.\",\"False.\",\"False.\",\"False.\",\"False.\",\"False.\",\"False.\",\"False.\",\"False.\",\"False.\",\"False.\",\"False.\",\"False.\",\"False.\",\"False.\",\"False.\",\"False.\",\"False.\",\"False.\",\"False.\",\"False.\",\"False.\",\"False.\",\"False.\",\"False.\",\"False.\",\"False.\",\"False.\",\"False.\",\"False.\",\"False.\",\"False.\",\"False.\",\"False.\",\"False.\",\"False.\",\"False.\",\"False.\",\"False.\",\"False.\",\"False.\",\"False.\",\"False.\",\"False.\",\"False.\",\"False.\",\"False.\",\"False.\",\"False.\",\"False.\",\"False.\",\"False.\",\"False.\",\"False.\",\"False.\",\"False.\",\"False.\",\"False.\",\"False.\",\"False.\",\"False.\",\"False.\",\"False.\",\"False.\",\"False.\",\"False.\",\"False.\",\"False.\",\"False.\",\"False.\",\"False.\",\"False.\",\"False.\",\"False.\",\"False.\",\"False.\",\"False.\",\"False.\",\"False.\",\"False.\",\"False.\",\"False.\",\"False.\",\"False.\",\"False.\",\"False.\",\"False.\",\"False.\",\"False.\",\"False.\",\"False.\",\"False.\",\"False.\",\"False.\",\"False.\",\"False.\",\"False.\",\"False.\",\"False.\",\"False.\",\"False.\",\"False.\",\"False.\",\"False.\",\"False.\",\"False.\",\"False.\",\"False.\",\"False.\",\"False.\",\"False.\",\"False.\",\"False.\",\"False.\",\"False.\",\"False.\",\"False.\",\"False.\",\"False.\",\"False.\",\"False.\",\"False.\",\"False.\",\"False.\",\"False.\",\"False.\",\"False.\",\"False.\",\"False.\",\"False.\",\"False.\",\"False.\",\"False.\",\"False.\",\"False.\",\"False.\",\"False.\",\"False.\",\"False.\",\"False.\",\"False.\",\"False.\",\"False.\",\"False.\",\"False.\",\"False.\",\"False.\",\"False.\",\"False.\",\"False.\",\"False.\",\"False.\",\"False.\",\"False.\",\"False.\",\"False.\",\"False.\",\"False.\",\"False.\",\"False.\",\"False.\",\"False.\",\"False.\",\"False.\",\"False.\",\"False.\",\"False.\",\"False.\",\"False.\",\"False.\",\"False.\",\"False.\",\"False.\",\"False.\",\"False.\",\"False.\",\"False.\",\"False.\",\"False.\",\"False.\",\"False.\",\"False.\",\"False.\",\"False.\",\"False.\",\"False.\",\"False.\",\"False.\",\"False.\",\"False.\",\"False.\",\"False.\",\"False.\",\"False.\",\"False.\",\"False.\",\"False.\",\"False.\",\"False.\",\"False.\",\"False.\",\"False.\",\"False.\",\"False.\",\"False.\",\"False.\",\"False.\",\"False.\",\"False.\",\"False.\",\"False.\",\"False.\",\"False.\",\"False.\",\"False.\",\"False.\",\"False.\",\"False.\",\"False.\",\"False.\",\"False.\",\"False.\",\"False.\",\"False.\",\"False.\",\"False.\",\"False.\",\"False.\",\"False.\",\"False.\",\"False.\",\"False.\",\"False.\",\"False.\",\"False.\",\"False.\",\"False.\",\"False.\",\"False.\",\"False.\",\"False.\",\"False.\",\"False.\",\"False.\",\"False.\",\"False.\",\"False.\",\"False.\",\"False.\",\"False.\",\"False.\",\"False.\",\"False.\",\"False.\",\"False.\",\"False.\",\"False.\",\"False.\",\"False.\",\"False.\",\"False.\",\"False.\",\"False.\",\"False.\",\"False.\",\"False.\",\"False.\",\"False.\",\"False.\",\"False.\",\"False.\",\"False.\",\"False.\",\"False.\",\"False.\",\"False.\",\"False.\",\"False.\",\"False.\",\"False.\",\"False.\",\"False.\",\"False.\",\"False.\",\"False.\",\"False.\",\"False.\",\"False.\",\"False.\",\"False.\",\"False.\",\"False.\",\"False.\",\"False.\",\"False.\",\"False.\",\"False.\",\"False.\",\"False.\",\"False.\",\"False.\",\"False.\",\"False.\",\"False.\",\"False.\",\"False.\",\"False.\",\"False.\",\"False.\",\"False.\",\"False.\",\"False.\",\"False.\",\"False.\",\"False.\",\"False.\",\"False.\",\"False.\",\"False.\",\"False.\",\"False.\",\"False.\",\"False.\",\"False.\",\"False.\",\"False.\",\"False.\",\"False.\",\"False.\",\"False.\",\"False.\",\"False.\",\"False.\",\"False.\",\"False.\",\"False.\",\"False.\",\"False.\",\"False.\",\"False.\",\"False.\",\"False.\",\"False.\",\"False.\",\"False.\",\"False.\",\"False.\",\"False.\",\"False.\",\"False.\",\"False.\",\"False.\",\"False.\",\"False.\",\"False.\",\"False.\",\"False.\",\"False.\",\"False.\",\"False.\",\"False.\",\"False.\",\"False.\",\"False.\",\"False.\",\"False.\",\"False.\",\"False.\",\"False.\",\"False.\",\"False.\",\"False.\",\"False.\",\"False.\",\"False.\",\"False.\",\"False.\",\"False.\",\"False.\",\"False.\",\"False.\",\"False.\",\"False.\",\"False.\",\"False.\",\"False.\",\"False.\",\"False.\",\"False.\",\"False.\",\"False.\",\"False.\",\"False.\",\"False.\",\"False.\",\"False.\",\"False.\",\"False.\",\"False.\",\"False.\",\"False.\",\"False.\",\"False.\",\"False.\",\"False.\",\"False.\",\"False.\",\"False.\",\"False.\",\"False.\",\"False.\",\"False.\",\"False.\",\"False.\",\"False.\",\"False.\",\"False.\",\"False.\",\"False.\",\"False.\",\"False.\",\"False.\",\"False.\",\"False.\",\"False.\",\"False.\",\"False.\",\"False.\",\"False.\",\"False.\",\"False.\",\"False.\",\"False.\",\"False.\",\"False.\",\"False.\",\"False.\",\"False.\",\"False.\",\"False.\",\"False.\",\"False.\",\"False.\",\"False.\",\"False.\",\"False.\",\"False.\",\"False.\",\"False.\",\"False.\",\"False.\",\"False.\",\"False.\",\"False.\",\"False.\",\"False.\",\"False.\",\"False.\",\"False.\",\"False.\",\"False.\",\"False.\",\"False.\",\"False.\",\"False.\",\"False.\"],\"x0\":\" \",\"xaxis\":\"x\",\"y\":[25,26,0,0,0,0,24,0,0,37,0,0,0,0,27,0,33,0,0,0,0,0,0,39,0,0,0,0,0,0,25,37,30,0,33,0,0,0,0,0,28,0,0,24,0,0,0,0,0,0,0,0,0,34,33,28,0,41,0,0,0,0,46,0,0,0,0,0,0,0,0,25,24,29,0,35,0,0,0,0,0,0,0,21,0,0,0,0,0,29,21,32,0,0,0,0,0,0,0,36,0,0,22,0,0,0,0,0,36,0,0,0,0,0,0,21,0,36,23,0,39,28,0,0,0,0,0,43,0,0,0,0,0,0,23,0,24,0,0,36,0,0,33,31,0,38,0,0,27,0,0,0,0,0,0,0,0,23,36,0,0,0,0,0,0,0,0,0,0,0,23,23,0,0,24,0,0,0,0,36,0,0,0,0,0,0,24,31,0,0,0,0,0,22,0,0,0,0,0,27,23,22,36,0,0,0,40,0,0,0,0,0,0,0,37,0,0,23,0,0,41,0,32,0,0,0,25,0,0,0,0,30,28,0,48,0,0,0,28,0,28,0,0,25,0,0,0,37,28,0,24,0,0,0,34,0,0,18,0,0,0,0,0,0,0,0,0,0,0,38,0,0,0,0,28,29,21,0,32,0,0,0,30,35,33,0,0,0,0,0,17,0,0,0,0,0,34,21,37,0,33,0,41,0,38,0,0,0,0,23,39,29,0,36,0,0,0,0,0,0,0,0,0,0,21,0,0,0,0,0,0,22,0,0,0,0,0,0,0,0,0,0,22,0,0,31,0,26,0,0,0,0,0,0,0,0,0,0,0,0,34,0,28,0,0,45,16,0,0,40,0,0,0,0,0,31,29,0,0,0,27,0,29,0,0,0,0,0,0,21,0,23,0,20,0,0,28,0,0,0,18,0,23,0,32,34,0,0,0,20,0,0,23,0,0,0,0,0,0,0,16,0,0,0,0,0,33,0,0,36,0,0,23,28,26,0,0,31,24,17,0,0,30,14,0,0,0,0,0,27,0,0,0,0,22,0,0,37,0,38,36,0,0,40,22,0,0,28,29,0,31,27,31,31,0,0,0,25,0,20,0,0,18,28,0,29,0,37,0,0,0,26,0,31,36,0,0,30,21,25,0,0,0,0,0,14,0,0,0,29,0,28,0,0,0,46,0,0,0,0,0,29,0,0,0,0,0,37,43,35,0,0,0,0,33,0,0,0,0,0,0,0,22,34,0,27,0,19,31,0,0,0,0,0,24,22,28,0,39,0,0,39,22,31,0,0,0,0,31,0,0,0,22,0,0,0,33,26,36,0,0,0,0,0,0,0,0,0,38,0,0,32,0,0,21,0,0,0,0,29,0,0,0,0,0,0,0,0,0,23,0,0,0,42,32,0,0,0,0,0,22,30,0,0,0,38,0,0,36,0,0,0,39,26,0,0,37,20,0,0,0,20,0,17,0,0,26,0,0,0,0,32,29,23,0,0,0,0,0,30,21,0,0,0,35,31,0,26,0,0,0,0,0,0,20,24,26,0,0,0,27,0,22,0,0,0,0,45,0,0,0,0,32,22,26,27,0,0,0,0,0,0,30,16,17,0,0,0,0,41,0,0,0,0,16,0,0,24,0,0,0,0,0,0,0,0,0,0,31,33,28,17,0,0,0,0,19,51,31,0,0,0,0,0,24,0,0,0,37,0,0,38,0,0,0,27,0,0,0,0,43,0,0,15,0,0,0,33,0,0,0,0,0,26,31,0,0,0,0,0,0,0,0,35,0,32,29,0,0,0,24,0,25,32,0,24,0,0,0,0,0,0,0,0,0,0,0,0,24,24,0,0,0,0,0,0,37,0,0,0,0,0,0,0,0,28,0,0,0,0,0,39,0,34,23,0,23,0,0,0,0,30,31,0,0,0,0,0,0,0,31,0,0,0,24,33,0,0,15,0,0,31,35,26,0,33,0,0,0,0,0,0,32,38,27,0,0,0,42,0,0,0,0,0,0,0,0,0,0,33,0,0,0,0,11,28,0,0,0,0,0,0,0,32,0,0,0,38,24,0,0,0,0,0,0,0,25,0,0,0,0,0,0,38,0,0,0,31,26,0,30,29,25,0,0,0,0,0,25,0,0,0,27,0,0,19,0,0,0,0,0,0,42,0,0,0,0,0,0,0,0,29,0,0,35,0,0,0,0,29,0,0,0,0,0,0,15,0,0,0,0,0,24,0,0,19,19,31,0,0,25,37,0,33,34,0,0,39,0,29,0,0,0,32,0,0,24,0,0,26,0,0,0,0,28,0,0,30,32,26,0,0,0,0,0,0,0,0,39,32,0,0,36,23,0,35,32,0,0,12,26,0,28,0,0,0,0,0,0,26,33,25,35,0,39,0,25,25,0,35,0,0,0,0,0,0,0,31,28,0,0,0,0,31,0,0,0,33,37,0,0,0,0,0,0,0,24,0,0,0,35,38,0,0,0,0,0,0,0,0,0,0,0,0,0,20,22,0,0,0,39,0,0,0,0,37,0,0,27,24,0,0,0,0,46,14,0,0,0,0,30,0,0,0,0,0,31,22,0,0,0,0,0,0,0,0,0,0,0,0,0,0,29,0,0,31,0,0,0,0,0,0,29,0,32,30,0,0,0,0,28,24,0,0,0,22,0,16,0,0,31,0,0,0,0,0,0,31,0,0,0,0,0,0,0,0,32,42,34,43,0,0,0,39,21,0,0,35,0,0,0,0,29,0,0,0,27,0,19,0,0,0,0,0,39,0,0,30,0,0,24,20,0,0,0,0,37,0,20,31,28,0,0,30,0,0,38,34,0,0,0,37,26,34,0,0,0,47,0,0,8,28,0,0,0,0,33,0,40,0,33,0,0,0,0,0,0,0,0,0,0,27,27,41,0,0,0,0,35,0,0,16,0,34,0,0,0,0,44,0,0,0,0,0,0,32,36,0,0,0,0,0,40,17,0,0,0,0,0,40,0,0,14,0,0,0,0,0,0,35,0,0,0,19,0,23,0,0,0,0,0,0,36,0,0,0,38,0,0,0,0,0,0,0,0,22,0,32,34,0,0,0,0,39,0,0,38,0,27,31,0,0,0,14,40,35,0,0,0,38,29,34,0,25,0,0,0,0,0,39,29,0,31,0,49,0,29,0,26,44,33,0,0,0,19,25,0,0,20,0,0,0,0,0,39,35,21,0,0,0,38,0,0,0,0,0,0,0,0,0,29,0,0,0,0,0,0,0,36,0,0,0,31,23,12,0,28,0,0,36,0,38,0,33,31,0,0,0,35,24,0,0,0,0,0,0,0,0,0,29,30,0,0,40,0,0,39,15,27,0,0,0,0,0,32,26,29,0,23,0,0,17,0,0,36,25,0,0,0,0,0,0,0,0,0,0,23,36,0,43,0,0,0,0,25,31,0,0,0,26,0,0,23,0,0,0,15,39,0,0,35,0,28,0,42,0,14,0,0,39,0,40,0,24,0,39,0,0,21,0,29,29,0,31,34,0,0,0,0,0,29,0,47,0,0,0,0,36,0,0,0,0,0,0,0,0,0,0,0,42,0,0,0,17,0,39,0,23,26,0,0,0,0,25,0,42,0,0,29,37,17,26,0,22,21,0,43,39,0,25,0,0,0,0,0,0,0,0,0,25,0,0,0,0,25,0,0,0,0,0,33,28,12,0,0,0,0,0,0,21,0,29,40,0,0,0,0,39,28,45,36,0,0,0,25,0,0,0,0,0,0,0,0,0,0,0,0,0,0,0,0,0,0,33,30,0,0,0,0,30,0,0,0,0,0,26,0,0,0,30,0,0,31,0,0,0,0,0,0,0,0,20,0,32,0,21,0,27,0,0,0,0,4,16,0,0,0,30,0,0,0,0,0,35,0,0,0,0,0,0,0,0,0,27,0,33,0,0,0,0,0,0,0,0,39,22,30,0,26,0,0,23,0,0,36,37,0,0,0,0,0,0,21,15,34,26,0,30,0,0,0,27,27,0,0,0,0,0,0,0,16,0,25,34,0,0,0,0,26,0,0,0,0,0,0,0,28,0,0,0,0,0,23,0,24,0,0,0,0,0,37,0,0,0,0,0,28,0,0,30,0,0,0,0,0,19,25,0,0,0,0,0,0,27,0,0,27,0,0,26,23,0,31,0,31,0,0,0,0,0,0,29,0,0,0,0,0,33,0,26,0,0,0,0,0,0,35,0,0,0,0,0,0,0,0,0,0,0,0,0,0,24,0,29,37,0,31,0,0,0,27,0,0,0,29,34,10,0,0,0,0,0,16,0,0,0,0,0,0,27,36,0,0,22,28,0,0,24,0,0,0,0,0,0,25,0,33,0,0,0,13,0,0,0,29,0,0,0,29,0,0,20,0,0,0,0,0,28,0,0,33,31,25,0,35,26,0,31,37,16,37,0,0,0,0,31,0,0,0,0,0,25,38,0,0,0,42,0,0,23,0,0,31,0,0,0,0,0,27,0,0,0,0,32,0,0,33,0,0,25,0,0,0,35,0,0,0,0,30,0,0,35,0,0,0,0,0,34,0,0,0,37,0,0,0,17,0,0,0,0,0,20,0,0,0,0,0,0,0,31,0,0,0,0,33,29,45,0,0,0,0,0,0,0,0,0,0,22,0,30,0,0,0,19,0,25,0,0,0,0,0,39,0,0,0,0,8,0,0,0,0,0,0,0,36,0,15,28,0,0,21,40,31,0,0,23,0,0,0,0,13,34,0,31,0,0,0,0,0,0,0,38,0,0,0,45,23,0,0,0,0,11,32,0,38,0,0,0,23,40,22,0,0,0,34,0,0,0,30,39,17,0,0,0,0,0,0,21,0,22,32,0,0,41,0,0,0,0,0,0,0,20,0,0,0,42,0,0,19,0,0,0,28,0,0,0,0,0,0,0,0,0,0,0,0,0,0,24,0,28,0,0,0,0,21,0,0,0,0,0,0,0,0,0,0,29,0,33,0,0,0,0,0,0,0,43,0,0,33,0,0,0,0,0,0,0,0,0,0,37,0,30,0,0,0,0,0,0,30,13,0,38,0,46,24,37,0,0,0,0,33,0,27,0,35,16,0,0,27,0,0,0,22,35,0,0,0,0,0,0,33,24,39,21,0,0,0,23,0,0,0,0,30,0,0,0,0,0,0,0,0,0,27,21,0,12,0,0,0,0,0,0,28,0,0,0,0,44,0,0,0,0,0,0,0,41,0,0,0,20,0,0,0,0,0,31,0,0,24,30,28,50,38,0,19,0,0,0,24,0,0,0,0,0,27,0,30,27,0,0,9,0,0,31,0,0,0,0,0,0,0,39,0,23,0,0,0,0,0,0,0,19,23,0,0,9,44,0,30,31,24,30,0,0,0,0,0,0,17,0,0,27,27,0,0,27,0,0,0,0,0,0,0,0,0,28,0,0,25,0,42,0,33,0,0,23,0,0,27,0,0,0,0,0,26,0,0,0,0,0,33,0,0,35,41,0,20,0,0,0,0,32,0,0,0,0,0,21,0,0,0,0,28,0,0,19,24,0,0,0,0,20,0,0,0,0,32,0,0,19,26,0,20,0,0,0,50,36,0,0,34,27,0,0,0,32,0,36,15,32,0,0,19,0,0,0,0,0,0,34,0,0,0,0,0,0,0,0,0,23,0,0,0,0,0,0,0,40,0,0,0,31,19,0,0,19,0,0,0,0,0,0,0,20,0,0,30,0,0,20,0,22,0,0,0,0,0,0,0,0,0,0,0,12,0,28,0,24,0,31,34,30,0,0,0,0,0,0,0,0,0,31,39,0,37,0,0,0,25,0,0,0,23,0,33,0,22,32,28,0,34,0,0,0,0,42,0,0,28,0,0,0,0,0,0,0,0,0,0,0,0,0,0,0,0,0,0,35,0,0,31,25,29,0,0,21,26,34,38,0,40,0,29,0,0,0,0,0,0,0,0,0,29,30,0,0,0,0,27,36,0,0,0,0,32,32,0,13,0,26,0,30,0,28,32,0,0,0,0,33,0,21,0,0,17,24,0,0,16,25,0,0,0,0,36,0,0,0,0,31,0,0,0,0,0,0,14,0,0,47,0,0,0,0,0,0,0,30,0,44,0,0,0,0,0,43,28,0,41,0,0,0,0,0,0,0,0,0,39,0,37,0,41,29,0,0,32,0,0,32,0,40,0,0,22,0,0,0,38,0,0,31,24,30,18,35,12,0,29,0,0,0,0,0,0,27,0,0,28,25,34,0,33,0,30,0,0,0,0,0,0,0,24,30,0,0,0,0,0,0,0,0,24,33,0,0,0,0,0,0,27,22,0,0,43,0,31,0,27,0,30,0,0,0,0,0,0,0,0,33,0,0,21,0,26,22,29,0,0,0,0,0,0,0,0,18,29,0,0,0,0,0,0,0,0,36,0,0,0,25],\"y0\":\" \",\"yaxis\":\"y\",\"type\":\"box\"},{\"alignmentgroup\":\"True\",\"hovertemplate\":\"Churn=%{x}\\u003cbr\\u003eNumber of Voicemail Messages=%{y}\\u003cextra\\u003e\\u003c\\u002fextra\\u003e\",\"legendgroup\":\"True.\",\"marker\":{\"color\":\"#EF553B\"},\"name\":\"True.\",\"notched\":false,\"offsetgroup\":\"True.\",\"orientation\":\"v\",\"showlegend\":true,\"x\":[\"True.\",\"True.\",\"True.\",\"True.\",\"True.\",\"True.\",\"True.\",\"True.\",\"True.\",\"True.\",\"True.\",\"True.\",\"True.\",\"True.\",\"True.\",\"True.\",\"True.\",\"True.\",\"True.\",\"True.\",\"True.\",\"True.\",\"True.\",\"True.\",\"True.\",\"True.\",\"True.\",\"True.\",\"True.\",\"True.\",\"True.\",\"True.\",\"True.\",\"True.\",\"True.\",\"True.\",\"True.\",\"True.\",\"True.\",\"True.\",\"True.\",\"True.\",\"True.\",\"True.\",\"True.\",\"True.\",\"True.\",\"True.\",\"True.\",\"True.\",\"True.\",\"True.\",\"True.\",\"True.\",\"True.\",\"True.\",\"True.\",\"True.\",\"True.\",\"True.\",\"True.\",\"True.\",\"True.\",\"True.\",\"True.\",\"True.\",\"True.\",\"True.\",\"True.\",\"True.\",\"True.\",\"True.\",\"True.\",\"True.\",\"True.\",\"True.\",\"True.\",\"True.\",\"True.\",\"True.\",\"True.\",\"True.\",\"True.\",\"True.\",\"True.\",\"True.\",\"True.\",\"True.\",\"True.\",\"True.\",\"True.\",\"True.\",\"True.\",\"True.\",\"True.\",\"True.\",\"True.\",\"True.\",\"True.\",\"True.\",\"True.\",\"True.\",\"True.\",\"True.\",\"True.\",\"True.\",\"True.\",\"True.\",\"True.\",\"True.\",\"True.\",\"True.\",\"True.\",\"True.\",\"True.\",\"True.\",\"True.\",\"True.\",\"True.\",\"True.\",\"True.\",\"True.\",\"True.\",\"True.\",\"True.\",\"True.\",\"True.\",\"True.\",\"True.\",\"True.\",\"True.\",\"True.\",\"True.\",\"True.\",\"True.\",\"True.\",\"True.\",\"True.\",\"True.\",\"True.\",\"True.\",\"True.\",\"True.\",\"True.\",\"True.\",\"True.\",\"True.\",\"True.\",\"True.\",\"True.\",\"True.\",\"True.\",\"True.\",\"True.\",\"True.\",\"True.\",\"True.\",\"True.\",\"True.\",\"True.\",\"True.\",\"True.\",\"True.\",\"True.\",\"True.\",\"True.\",\"True.\",\"True.\",\"True.\",\"True.\",\"True.\",\"True.\",\"True.\",\"True.\",\"True.\",\"True.\",\"True.\",\"True.\",\"True.\",\"True.\",\"True.\",\"True.\",\"True.\",\"True.\",\"True.\",\"True.\",\"True.\",\"True.\",\"True.\",\"True.\",\"True.\",\"True.\",\"True.\",\"True.\",\"True.\",\"True.\",\"True.\",\"True.\",\"True.\",\"True.\",\"True.\",\"True.\",\"True.\",\"True.\",\"True.\",\"True.\",\"True.\",\"True.\",\"True.\",\"True.\",\"True.\",\"True.\",\"True.\",\"True.\",\"True.\",\"True.\",\"True.\",\"True.\",\"True.\",\"True.\",\"True.\",\"True.\",\"True.\",\"True.\",\"True.\",\"True.\",\"True.\",\"True.\",\"True.\",\"True.\",\"True.\",\"True.\",\"True.\",\"True.\",\"True.\",\"True.\",\"True.\",\"True.\",\"True.\",\"True.\",\"True.\",\"True.\",\"True.\",\"True.\",\"True.\",\"True.\",\"True.\",\"True.\",\"True.\",\"True.\",\"True.\",\"True.\",\"True.\",\"True.\",\"True.\",\"True.\",\"True.\",\"True.\",\"True.\",\"True.\",\"True.\",\"True.\",\"True.\",\"True.\",\"True.\",\"True.\",\"True.\",\"True.\",\"True.\",\"True.\",\"True.\",\"True.\",\"True.\",\"True.\",\"True.\",\"True.\",\"True.\",\"True.\",\"True.\",\"True.\",\"True.\",\"True.\",\"True.\",\"True.\",\"True.\",\"True.\",\"True.\",\"True.\",\"True.\",\"True.\",\"True.\",\"True.\",\"True.\",\"True.\",\"True.\",\"True.\",\"True.\",\"True.\",\"True.\",\"True.\",\"True.\",\"True.\",\"True.\",\"True.\",\"True.\",\"True.\",\"True.\",\"True.\",\"True.\",\"True.\",\"True.\",\"True.\",\"True.\",\"True.\",\"True.\",\"True.\",\"True.\",\"True.\",\"True.\",\"True.\",\"True.\",\"True.\",\"True.\",\"True.\",\"True.\",\"True.\",\"True.\",\"True.\",\"True.\",\"True.\",\"True.\",\"True.\",\"True.\",\"True.\",\"True.\",\"True.\",\"True.\",\"True.\",\"True.\",\"True.\",\"True.\",\"True.\",\"True.\",\"True.\",\"True.\",\"True.\",\"True.\",\"True.\",\"True.\",\"True.\",\"True.\",\"True.\",\"True.\",\"True.\",\"True.\",\"True.\",\"True.\",\"True.\",\"True.\",\"True.\",\"True.\",\"True.\",\"True.\",\"True.\",\"True.\",\"True.\",\"True.\",\"True.\",\"True.\",\"True.\",\"True.\",\"True.\",\"True.\",\"True.\",\"True.\",\"True.\",\"True.\",\"True.\",\"True.\",\"True.\",\"True.\",\"True.\",\"True.\",\"True.\",\"True.\",\"True.\",\"True.\",\"True.\",\"True.\",\"True.\",\"True.\",\"True.\",\"True.\",\"True.\",\"True.\",\"True.\",\"True.\",\"True.\",\"True.\",\"True.\",\"True.\",\"True.\",\"True.\",\"True.\",\"True.\",\"True.\",\"True.\",\"True.\",\"True.\",\"True.\",\"True.\",\"True.\",\"True.\",\"True.\",\"True.\",\"True.\",\"True.\",\"True.\",\"True.\",\"True.\",\"True.\",\"True.\",\"True.\",\"True.\",\"True.\",\"True.\",\"True.\",\"True.\",\"True.\",\"True.\",\"True.\",\"True.\",\"True.\",\"True.\",\"True.\",\"True.\",\"True.\",\"True.\",\"True.\",\"True.\",\"True.\",\"True.\",\"True.\",\"True.\",\"True.\",\"True.\",\"True.\",\"True.\",\"True.\",\"True.\",\"True.\",\"True.\",\"True.\",\"True.\",\"True.\",\"True.\",\"True.\",\"True.\",\"True.\",\"True.\",\"True.\",\"True.\",\"True.\",\"True.\",\"True.\",\"True.\",\"True.\",\"True.\",\"True.\",\"True.\",\"True.\",\"True.\",\"True.\",\"True.\",\"True.\",\"True.\",\"True.\",\"True.\",\"True.\",\"True.\",\"True.\",\"True.\",\"True.\"],\"x0\":\" \",\"xaxis\":\"x\",\"y\":[0,0,0,0,41,0,0,30,0,0,0,0,0,0,0,0,0,42,0,0,27,0,0,0,0,26,0,0,0,0,0,0,29,0,48,0,37,0,0,0,0,0,32,0,0,0,0,0,0,0,0,0,0,0,0,0,0,0,0,0,0,0,0,36,33,0,0,0,0,0,26,29,0,20,0,41,0,0,0,32,0,0,0,0,0,0,29,0,37,0,0,0,0,0,0,36,0,0,0,0,28,0,0,33,0,0,0,0,0,0,0,0,27,0,0,0,0,0,0,0,28,0,22,33,0,21,0,0,27,0,0,0,42,0,0,0,0,28,0,0,0,0,26,0,0,0,0,0,15,0,0,0,34,33,31,45,0,0,0,0,0,0,0,0,0,0,31,0,0,0,0,0,0,0,0,0,0,0,0,0,0,31,0,19,0,44,35,0,0,30,0,0,0,0,18,0,0,21,0,0,0,0,0,0,0,0,0,0,0,0,0,0,0,0,0,0,0,0,0,0,0,0,0,0,0,0,0,0,0,0,0,0,0,0,0,0,0,0,28,0,0,26,0,0,16,0,0,0,0,0,0,0,28,0,0,0,0,38,33,0,0,0,0,42,0,0,0,0,20,0,0,0,0,0,0,0,0,0,0,0,0,0,18,0,0,0,0,0,0,0,0,0,0,0,0,0,0,0,0,0,0,0,0,0,0,0,0,0,0,0,0,0,0,0,0,0,29,0,0,0,0,0,36,0,0,32,0,0,0,0,33,29,31,0,0,0,0,0,0,0,31,0,41,0,29,0,0,0,0,0,0,0,28,0,0,0,0,0,0,0,0,0,0,0,0,0,35,0,32,0,0,0,0,26,0,0,0,0,0,29,0,0,0,0,0,0,0,0,26,40,0,0,0,34,32,0,0,29,0,0,0,0,0,0,0,0,32,0,0,0,0,0,0,17,0,0,0,0,0,0,0,0,0,0,0,0,36,0,0,0,35,0,0,0,0,0,0,0,35,0,0,0,0,0,0,0,0,0,0,0,0,0,0,0,0,0,0,0,0,0,0,0,0,24,0,0,0,0,0,44,0,0,0,0,0,0,42,22,0,0,0,0,0],\"y0\":\" \",\"yaxis\":\"y\",\"type\":\"box\"}],                        {\"template\":{\"data\":{\"histogram2dcontour\":[{\"type\":\"histogram2dcontour\",\"colorbar\":{\"outlinewidth\":0,\"ticks\":\"\"},\"colorscale\":[[0.0,\"#0d0887\"],[0.1111111111111111,\"#46039f\"],[0.2222222222222222,\"#7201a8\"],[0.3333333333333333,\"#9c179e\"],[0.4444444444444444,\"#bd3786\"],[0.5555555555555556,\"#d8576b\"],[0.6666666666666666,\"#ed7953\"],[0.7777777777777778,\"#fb9f3a\"],[0.8888888888888888,\"#fdca26\"],[1.0,\"#f0f921\"]]}],\"choropleth\":[{\"type\":\"choropleth\",\"colorbar\":{\"outlinewidth\":0,\"ticks\":\"\"}}],\"histogram2d\":[{\"type\":\"histogram2d\",\"colorbar\":{\"outlinewidth\":0,\"ticks\":\"\"},\"colorscale\":[[0.0,\"#0d0887\"],[0.1111111111111111,\"#46039f\"],[0.2222222222222222,\"#7201a8\"],[0.3333333333333333,\"#9c179e\"],[0.4444444444444444,\"#bd3786\"],[0.5555555555555556,\"#d8576b\"],[0.6666666666666666,\"#ed7953\"],[0.7777777777777778,\"#fb9f3a\"],[0.8888888888888888,\"#fdca26\"],[1.0,\"#f0f921\"]]}],\"heatmap\":[{\"type\":\"heatmap\",\"colorbar\":{\"outlinewidth\":0,\"ticks\":\"\"},\"colorscale\":[[0.0,\"#0d0887\"],[0.1111111111111111,\"#46039f\"],[0.2222222222222222,\"#7201a8\"],[0.3333333333333333,\"#9c179e\"],[0.4444444444444444,\"#bd3786\"],[0.5555555555555556,\"#d8576b\"],[0.6666666666666666,\"#ed7953\"],[0.7777777777777778,\"#fb9f3a\"],[0.8888888888888888,\"#fdca26\"],[1.0,\"#f0f921\"]]}],\"heatmapgl\":[{\"type\":\"heatmapgl\",\"colorbar\":{\"outlinewidth\":0,\"ticks\":\"\"},\"colorscale\":[[0.0,\"#0d0887\"],[0.1111111111111111,\"#46039f\"],[0.2222222222222222,\"#7201a8\"],[0.3333333333333333,\"#9c179e\"],[0.4444444444444444,\"#bd3786\"],[0.5555555555555556,\"#d8576b\"],[0.6666666666666666,\"#ed7953\"],[0.7777777777777778,\"#fb9f3a\"],[0.8888888888888888,\"#fdca26\"],[1.0,\"#f0f921\"]]}],\"contourcarpet\":[{\"type\":\"contourcarpet\",\"colorbar\":{\"outlinewidth\":0,\"ticks\":\"\"}}],\"contour\":[{\"type\":\"contour\",\"colorbar\":{\"outlinewidth\":0,\"ticks\":\"\"},\"colorscale\":[[0.0,\"#0d0887\"],[0.1111111111111111,\"#46039f\"],[0.2222222222222222,\"#7201a8\"],[0.3333333333333333,\"#9c179e\"],[0.4444444444444444,\"#bd3786\"],[0.5555555555555556,\"#d8576b\"],[0.6666666666666666,\"#ed7953\"],[0.7777777777777778,\"#fb9f3a\"],[0.8888888888888888,\"#fdca26\"],[1.0,\"#f0f921\"]]}],\"surface\":[{\"type\":\"surface\",\"colorbar\":{\"outlinewidth\":0,\"ticks\":\"\"},\"colorscale\":[[0.0,\"#0d0887\"],[0.1111111111111111,\"#46039f\"],[0.2222222222222222,\"#7201a8\"],[0.3333333333333333,\"#9c179e\"],[0.4444444444444444,\"#bd3786\"],[0.5555555555555556,\"#d8576b\"],[0.6666666666666666,\"#ed7953\"],[0.7777777777777778,\"#fb9f3a\"],[0.8888888888888888,\"#fdca26\"],[1.0,\"#f0f921\"]]}],\"mesh3d\":[{\"type\":\"mesh3d\",\"colorbar\":{\"outlinewidth\":0,\"ticks\":\"\"}}],\"scatter\":[{\"fillpattern\":{\"fillmode\":\"overlay\",\"size\":10,\"solidity\":0.2},\"type\":\"scatter\"}],\"parcoords\":[{\"type\":\"parcoords\",\"line\":{\"colorbar\":{\"outlinewidth\":0,\"ticks\":\"\"}}}],\"scatterpolargl\":[{\"type\":\"scatterpolargl\",\"marker\":{\"colorbar\":{\"outlinewidth\":0,\"ticks\":\"\"}}}],\"bar\":[{\"error_x\":{\"color\":\"#2a3f5f\"},\"error_y\":{\"color\":\"#2a3f5f\"},\"marker\":{\"line\":{\"color\":\"#E5ECF6\",\"width\":0.5},\"pattern\":{\"fillmode\":\"overlay\",\"size\":10,\"solidity\":0.2}},\"type\":\"bar\"}],\"scattergeo\":[{\"type\":\"scattergeo\",\"marker\":{\"colorbar\":{\"outlinewidth\":0,\"ticks\":\"\"}}}],\"scatterpolar\":[{\"type\":\"scatterpolar\",\"marker\":{\"colorbar\":{\"outlinewidth\":0,\"ticks\":\"\"}}}],\"histogram\":[{\"marker\":{\"pattern\":{\"fillmode\":\"overlay\",\"size\":10,\"solidity\":0.2}},\"type\":\"histogram\"}],\"scattergl\":[{\"type\":\"scattergl\",\"marker\":{\"colorbar\":{\"outlinewidth\":0,\"ticks\":\"\"}}}],\"scatter3d\":[{\"type\":\"scatter3d\",\"line\":{\"colorbar\":{\"outlinewidth\":0,\"ticks\":\"\"}},\"marker\":{\"colorbar\":{\"outlinewidth\":0,\"ticks\":\"\"}}}],\"scattermapbox\":[{\"type\":\"scattermapbox\",\"marker\":{\"colorbar\":{\"outlinewidth\":0,\"ticks\":\"\"}}}],\"scatterternary\":[{\"type\":\"scatterternary\",\"marker\":{\"colorbar\":{\"outlinewidth\":0,\"ticks\":\"\"}}}],\"scattercarpet\":[{\"type\":\"scattercarpet\",\"marker\":{\"colorbar\":{\"outlinewidth\":0,\"ticks\":\"\"}}}],\"carpet\":[{\"aaxis\":{\"endlinecolor\":\"#2a3f5f\",\"gridcolor\":\"white\",\"linecolor\":\"white\",\"minorgridcolor\":\"white\",\"startlinecolor\":\"#2a3f5f\"},\"baxis\":{\"endlinecolor\":\"#2a3f5f\",\"gridcolor\":\"white\",\"linecolor\":\"white\",\"minorgridcolor\":\"white\",\"startlinecolor\":\"#2a3f5f\"},\"type\":\"carpet\"}],\"table\":[{\"cells\":{\"fill\":{\"color\":\"#EBF0F8\"},\"line\":{\"color\":\"white\"}},\"header\":{\"fill\":{\"color\":\"#C8D4E3\"},\"line\":{\"color\":\"white\"}},\"type\":\"table\"}],\"barpolar\":[{\"marker\":{\"line\":{\"color\":\"#E5ECF6\",\"width\":0.5},\"pattern\":{\"fillmode\":\"overlay\",\"size\":10,\"solidity\":0.2}},\"type\":\"barpolar\"}],\"pie\":[{\"automargin\":true,\"type\":\"pie\"}]},\"layout\":{\"autotypenumbers\":\"strict\",\"colorway\":[\"#636efa\",\"#EF553B\",\"#00cc96\",\"#ab63fa\",\"#FFA15A\",\"#19d3f3\",\"#FF6692\",\"#B6E880\",\"#FF97FF\",\"#FECB52\"],\"font\":{\"color\":\"#2a3f5f\"},\"hovermode\":\"closest\",\"hoverlabel\":{\"align\":\"left\"},\"paper_bgcolor\":\"white\",\"plot_bgcolor\":\"#E5ECF6\",\"polar\":{\"bgcolor\":\"#E5ECF6\",\"angularaxis\":{\"gridcolor\":\"white\",\"linecolor\":\"white\",\"ticks\":\"\"},\"radialaxis\":{\"gridcolor\":\"white\",\"linecolor\":\"white\",\"ticks\":\"\"}},\"ternary\":{\"bgcolor\":\"#E5ECF6\",\"aaxis\":{\"gridcolor\":\"white\",\"linecolor\":\"white\",\"ticks\":\"\"},\"baxis\":{\"gridcolor\":\"white\",\"linecolor\":\"white\",\"ticks\":\"\"},\"caxis\":{\"gridcolor\":\"white\",\"linecolor\":\"white\",\"ticks\":\"\"}},\"coloraxis\":{\"colorbar\":{\"outlinewidth\":0,\"ticks\":\"\"}},\"colorscale\":{\"sequential\":[[0.0,\"#0d0887\"],[0.1111111111111111,\"#46039f\"],[0.2222222222222222,\"#7201a8\"],[0.3333333333333333,\"#9c179e\"],[0.4444444444444444,\"#bd3786\"],[0.5555555555555556,\"#d8576b\"],[0.6666666666666666,\"#ed7953\"],[0.7777777777777778,\"#fb9f3a\"],[0.8888888888888888,\"#fdca26\"],[1.0,\"#f0f921\"]],\"sequentialminus\":[[0.0,\"#0d0887\"],[0.1111111111111111,\"#46039f\"],[0.2222222222222222,\"#7201a8\"],[0.3333333333333333,\"#9c179e\"],[0.4444444444444444,\"#bd3786\"],[0.5555555555555556,\"#d8576b\"],[0.6666666666666666,\"#ed7953\"],[0.7777777777777778,\"#fb9f3a\"],[0.8888888888888888,\"#fdca26\"],[1.0,\"#f0f921\"]],\"diverging\":[[0,\"#8e0152\"],[0.1,\"#c51b7d\"],[0.2,\"#de77ae\"],[0.3,\"#f1b6da\"],[0.4,\"#fde0ef\"],[0.5,\"#f7f7f7\"],[0.6,\"#e6f5d0\"],[0.7,\"#b8e186\"],[0.8,\"#7fbc41\"],[0.9,\"#4d9221\"],[1,\"#276419\"]]},\"xaxis\":{\"gridcolor\":\"white\",\"linecolor\":\"white\",\"ticks\":\"\",\"title\":{\"standoff\":15},\"zerolinecolor\":\"white\",\"automargin\":true,\"zerolinewidth\":2},\"yaxis\":{\"gridcolor\":\"white\",\"linecolor\":\"white\",\"ticks\":\"\",\"title\":{\"standoff\":15},\"zerolinecolor\":\"white\",\"automargin\":true,\"zerolinewidth\":2},\"scene\":{\"xaxis\":{\"backgroundcolor\":\"#E5ECF6\",\"gridcolor\":\"white\",\"linecolor\":\"white\",\"showbackground\":true,\"ticks\":\"\",\"zerolinecolor\":\"white\",\"gridwidth\":2},\"yaxis\":{\"backgroundcolor\":\"#E5ECF6\",\"gridcolor\":\"white\",\"linecolor\":\"white\",\"showbackground\":true,\"ticks\":\"\",\"zerolinecolor\":\"white\",\"gridwidth\":2},\"zaxis\":{\"backgroundcolor\":\"#E5ECF6\",\"gridcolor\":\"white\",\"linecolor\":\"white\",\"showbackground\":true,\"ticks\":\"\",\"zerolinecolor\":\"white\",\"gridwidth\":2}},\"shapedefaults\":{\"line\":{\"color\":\"#2a3f5f\"}},\"annotationdefaults\":{\"arrowcolor\":\"#2a3f5f\",\"arrowhead\":0,\"arrowwidth\":1},\"geo\":{\"bgcolor\":\"white\",\"landcolor\":\"#E5ECF6\",\"subunitcolor\":\"white\",\"showland\":true,\"showlakes\":true,\"lakecolor\":\"white\"},\"title\":{\"x\":0.05},\"mapbox\":{\"style\":\"light\"}}},\"xaxis\":{\"anchor\":\"y\",\"domain\":[0.0,1.0],\"title\":{\"text\":\"Churn\"},\"categoryorder\":\"array\",\"categoryarray\":[\"False.\",\"True.\"]},\"yaxis\":{\"anchor\":\"x\",\"domain\":[0.0,1.0],\"title\":{\"text\":\"Number of Voicemail Messages\"}},\"legend\":{\"title\":{\"text\":\"Churn\"},\"tracegroupgap\":0},\"title\":{\"text\":\"Box plot of VMail_Message for each category of Churn\"},\"boxmode\":\"overlay\"},                        {\"responsive\": true}                    ).then(function(){\n",
              "                            \n",
              "var gd = document.getElementById('b3a1114f-3ebd-40b0-a018-dbee779d23e9');\n",
              "var x = new MutationObserver(function (mutations, observer) {{\n",
              "        var display = window.getComputedStyle(gd).display;\n",
              "        if (!display || display === 'none') {{\n",
              "            console.log([gd, 'removed!']);\n",
              "            Plotly.purge(gd);\n",
              "            observer.disconnect();\n",
              "        }}\n",
              "}});\n",
              "\n",
              "// Listen for the removal of the full notebook cells\n",
              "var notebookContainer = gd.closest('#notebook-container');\n",
              "if (notebookContainer) {{\n",
              "    x.observe(notebookContainer, {childList: true});\n",
              "}}\n",
              "\n",
              "// Listen for the clearing of the current output cell\n",
              "var outputEl = gd.closest('.output');\n",
              "if (outputEl) {{\n",
              "    x.observe(outputEl, {childList: true});\n",
              "}}\n",
              "\n",
              "                        })                };                            </script>        </div>\n",
              "</body>\n",
              "</html>"
            ]
          },
          "metadata": {},
          "output_type": "display_data"
        }
      ],
      "source": [
        "chart"
      ]
    },
    {
      "cell_type": "markdown",
      "metadata": {
        "id": "HpT4iJbLy-IM"
      },
      "source": [
        "### Visualization Explainer"
      ]
    },
    {
      "cell_type": "code",
      "execution_count": 49,
      "metadata": {
        "id": "sgMQJHXTzFJK"
      },
      "outputs": [],
      "source": [
        "explainer_system_prompt = \"\"\"\n",
        "You are a helpful assistant highly skilled in providing helpful, structured explanations of visualization of the plot(data: pd.DataFrame) method in the provided code. You divide the code into sections and provide a description of each section and an explanation. The first section should be named \"accessibility\" and describe the physical appearance of the chart (colors, chart type etc), the goal of the chart, as well the main insights from the chart.\n",
        "You can explain code across the following 3 dimensions:\n",
        "1. accessibility: the physical appearance of the chart (colors, chart type etc), the goal of the chart, as well the main insights from the chart.\n",
        "2. transformation: This should describe the section of the code that applies any kind of data transformation (filtering, aggregation, grouping, null value handling etc)\n",
        "3. visualization: step by step description of the code that creates or modifies the presented visualization.\n",
        "\"\"\"\n",
        "\n",
        "explainer_format_instructions = \"\"\"\n",
        "Your output MUST be perfect JSON in THE FORM OF A VALID LIST of JSON OBJECTS WITH PROPERLY ESCAPED SPECIAL CHARACTERS e.g.,\n",
        "\n",
        "```[\n",
        "    {\"section\": \"accessibility\", \"code\": \"None\", \"explanation\": \"..\"}  , {\"section\": \"transformation\", \"code\": \"..\", \"explanation\": \"..\"}  ,  {\"section\": \"visualization\", \"code\": \"..\", \"explanation\": \"..\"}\n",
        "    ] ```\n",
        "\n",
        "The code part of the dictionary must come from the supplied code and should cover the explanation. The explanation part of the dictionary must be a string. The section part of the dictionary must be one of \"accessibility\", \"transformation\", \"visualization\" with no repetition. THE LIST MUST HAVE EXACTLY 3 JSON OBJECTS [{}, {}, {}].  THE GENERATED JSON  MUST BE A LIST IE START AND END WITH A SQUARE BRACKET.\n",
        "\"\"\"\n",
        "\n",
        "explainer_chat_template = ChatPromptTemplate.from_messages(\n",
        "    [\n",
        "        (\"system\", \"{system_prompt}\"),\n",
        "        (\"assistant\", \"The code to be explained is {code}.\\n=======\\n\"),\n",
        "        (\"human\", \"{format_instructions}.\\n\\n. The structured explanation for the code above is \\n\\n\")\n",
        "    ]\n",
        ")\n",
        "\n",
        "explainer_messages = explainer_chat_template.format_messages(\n",
        "    system_prompt=explainer_system_prompt,\n",
        "    format_instructions=explainer_format_instructions,\n",
        "    code=code\n",
        ")"
      ]
    },
    {
      "cell_type": "code",
      "execution_count": 50,
      "metadata": {
        "id": "6GVAsBPd0RI6"
      },
      "outputs": [],
      "source": [
        "explainer_res = chat_llm.invoke(explainer_messages)"
      ]
    },
    {
      "cell_type": "code",
      "execution_count": 69,
      "metadata": {
        "colab": {
          "base_uri": "https://localhost:8080/",
          "height": 122
        },
        "id": "EfVXmzsz0Xvj",
        "outputId": "564e1d2d-6dac-4aab-81fb-7574560e651c"
      },
      "outputs": [
        {
          "data": {
            "application/vnd.google.colaboratory.intrinsic+json": {
              "type": "string"
            },
            "text/plain": [
              "'```[\\n    {\"section\": \"accessibility\", \"code\": \"fig = px.box(data, x=\\'Churn_\\', y=\\'VMail_Message\\', color=\\'Churn_\\', labels={\\'Churn_\\':\\'Churn\\', \\'VMail_Message\\':\\'Number of Voicemail Messages\\'}, title=\\'Box plot of VMail_Message for each category of Churn\\')\", \"explanation\": \"The code generates a box plot, which is a standardized way of displaying the distribution of data based on a five number summary (\\'minimum\\', first quartile (Q1), median, third quartile (Q3), and \\'maximum\\'). The color of the boxes is determined by the \\'Churn_\\' column. The x-axis represents the \\'Churn_\\' categories and the y-axis represents the \\'VMail_Message\\' values. The labels are customized to be more descriptive. The goal of the chart is to visualize the distribution of the \\'VMail_Message\\' for each category of \\'Churn_\\'.\"}, \\n    {\"section\": \"transformation\", \"code\": \"None\", \"explanation\": \"There is no data transformation in the provided code. The function takes a pandas DataFrame as input and directly uses it for plotting without any filtering, aggregation, grouping, or null value handling.\"}, \\n    {\"section\": \"visualization\", \"code\": \"import plotly.express as px\\\\nimport pandas as pd\\\\ndef plot(data: pd.DataFrame):\\\\n    fig = px.box(data, x=\\'Churn_\\', y=\\'VMail_Message\\', color=\\'Churn_\\', labels={\\'Churn_\\':\\'Churn\\', \\'VMail_Message\\':\\'Number of Voicemail Messages\\'}, title=\\'Box plot of VMail_Message for each category of Churn\\')\\\\n    return fig\\\\nchart = plot(data)\", \"explanation\": \"The code starts by importing the necessary libraries, plotly.express and pandas. Then, it defines a function named \\'plot\\' that takes a pandas DataFrame as an argument. Inside this function, it uses the \\'box\\' function from plotly.express to create a box plot. The \\'box\\' function takes several arguments: the data to be plotted, the columns to be used for the x and y axes, the column to be used for coloring the boxes, the labels for the axes, and the title of the plot. Finally, the function returns the created figure. Outside the function, the \\'plot\\' function is called with the \\'data\\' DataFrame as an argument, and the returned figure is stored in the \\'chart\\' variable.\"}\\n]```'"
            ]
          },
          "execution_count": 69,
          "metadata": {},
          "output_type": "execute_result"
        }
      ],
      "source": [
        "explainer_res.content"
      ]
    },
    {
      "cell_type": "code",
      "execution_count": 72,
      "metadata": {
        "id": "Oa4EeI8Q3ycm"
      },
      "outputs": [],
      "source": [
        "explanation = clean_code_snippet(explainer_res.content)"
      ]
    },
    {
      "cell_type": "code",
      "execution_count": 73,
      "metadata": {
        "id": "jcGVm_1b3Vzl"
      },
      "outputs": [],
      "source": [
        "try:\n",
        "  exp = json.loads(explanation)\n",
        "except Exception as e:\n",
        "  print(\"Error parsing completion\", explainer_res.content, str(e))"
      ]
    },
    {
      "cell_type": "code",
      "execution_count": 78,
      "metadata": {
        "colab": {
          "base_uri": "https://localhost:8080/"
        },
        "id": "N3-sCiqA388z",
        "outputId": "27b53b74-9e78-4dac-94db-2f489a73547d"
      },
      "outputs": [
        {
          "name": "stdout",
          "output_type": "stream",
          "text": [
            "The code generates a box plot, which is a standardized way of displaying the distribution of data based on a five number summary ('minimum', first quartile (Q1), median, third quartile (Q3), and 'maximum'). The color of the boxes is determined by the 'Churn_' column. The x-axis represents the 'Churn_' categories and the y-axis represents the 'VMail_Message' values. The labels are customized to be more descriptive. The goal of the chart is to visualize the distribution of the 'VMail_Message' for each category of 'Churn_'.\n",
            "There is no data transformation in the provided code. The function takes a pandas DataFrame as input and directly uses it for plotting without any filtering, aggregation, grouping, or null value handling.\n",
            "The code starts by importing the necessary libraries, plotly.express and pandas. Then, it defines a function named 'plot' that takes a pandas DataFrame as an argument. Inside this function, it uses the 'box' function from plotly.express to create a box plot. The 'box' function takes several arguments: the data to be plotted, the columns to be used for the x and y axes, the column to be used for coloring the boxes, the labels for the axes, and the title of the plot. Finally, the function returns the created figure. Outside the function, the 'plot' function is called with the 'data' DataFrame as an argument, and the returned figure is stored in the 'chart' variable.\n"
          ]
        }
      ],
      "source": [
        "for e in exp:\n",
        "  print(e['explanation'])"
      ]
    }
  ],
  "metadata": {
    "colab": {
      "provenance": []
    },
    "kernelspec": {
      "display_name": "Python 3",
      "name": "python3"
    },
    "language_info": {
      "name": "python"
    }
  },
  "nbformat": 4,
  "nbformat_minor": 0
}
