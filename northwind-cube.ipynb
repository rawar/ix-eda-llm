{
 "cells": [
  {
   "cell_type": "code",
   "execution_count": null,
   "id": "7a9e9b93-72ce-40ee-9070-6aa7a4c8ffa0",
   "metadata": {},
   "outputs": [],
   "source": [
    "import os\n",
    "import getpass\n",
    "import pickle\n",
    "import jwt\n",
    "import psycopg2\n",
    "from langchain.vectorstores import FAISS\n",
    "from langchain.document_loaders import CubeSemanticLoader\n",
    "from langchain.embeddings.azure_openai import AzureOpenAIEmbeddings\n",
    "from langchain_openai import AzureChatOpenAI\n",
    "from langchain.llms import AzureOpenAI\n",
    "from langchain.prompts.chat import ChatPromptTemplate\n",
    "from langchain.prompts import PromptTemplate"
   ]
  },
  {
   "cell_type": "code",
   "execution_count": null,
   "id": "20412f56-e4fd-4de6-8b70-8ebcbbee4fdd",
   "metadata": {},
   "outputs": [],
   "source": [
    "print('Enter AZURE_OPENAI_API_KEY:')\n",
    "os.environ[\"AZURE_OPENAI_API_KEY\"] = getpass.getpass()"
   ]
  },
  {
   "cell_type": "code",
   "execution_count": null,
   "id": "f2513bce-7f68-4a37-aebe-eb5c8ca1cab3",
   "metadata": {},
   "outputs": [],
   "source": [
    "print('Enter AZURE_OPENAI_ENDPOINT:')\n",
    "os.environ[\"AZURE_OPENAI_ENDPOINT\"] = getpass.getpass()"
   ]
  },
  {
   "cell_type": "code",
   "execution_count": null,
   "id": "2cb50c8f-c713-4815-a5cf-989586c84558",
   "metadata": {},
   "outputs": [],
   "source": [
    "print('Enter CUBE_API_SECRET:')\n",
    "os.environ[\"CUBE_API_SECRET\"] = getpass.getpass()"
   ]
  },
  {
   "cell_type": "code",
   "execution_count": null,
   "id": "21f127c0-7862-4c30-9972-1d233fc396eb",
   "metadata": {},
   "outputs": [],
   "source": [
    "chat_llm = AzureChatOpenAI(\n",
    "    temperature=0,\n",
    "    openai_api_version=\"2023-05-15\",\n",
    "    deployment_name=\"gpt-4\",\n",
    "    verbose=True\n",
    ")"
   ]
  },
  {
   "cell_type": "code",
   "execution_count": null,
   "id": "164c6c02-b843-4667-8b49-3931ebccc243",
   "metadata": {},
   "outputs": [],
   "source": [
    "embeddings = AzureOpenAIEmbeddings(\n",
    "    azure_deployment=\"text-embeddings-ada-002\",\n",
    "    openai_api_version=\"2023-05-15\",\n",
    ")"
   ]
  },
  {
   "cell_type": "code",
   "execution_count": null,
   "id": "4425441d-a931-4029-b1ed-ab2ce100bc42",
   "metadata": {},
   "outputs": [],
   "source": [
    "CUBE_SQL_API_PROMPT = PromptTemplate(\n",
    "    input_variables=[\n",
    "        \"input_question\",\n",
    "        \"table_info\",\n",
    "        \"columns_info\",\n",
    "        \"top_k\",\n",
    "        \"no_answer_text\",\n",
    "    ],\n",
    "    template=_postgres_prompt,\n",
    ")"
   ]
  },
  {
   "cell_type": "code",
   "execution_count": null,
   "id": "5d1e7d7a-e55b-4296-8d83-9996bf03dfc2",
   "metadata": {},
   "outputs": [],
   "source": [
    "def call_sql_api(sql_query: str):\n",
    "    load_dotenv()\n",
    "    CONN_STR = os.environ[\"DATABASE_URL\"]\n",
    "\n",
    "    # Initializing Cube SQL API connection)\n",
    "    connection = psycopg2.connect(CONN_STR)\n",
    "    \n",
    "    cursor = connection.cursor()\n",
    "    cursor.execute(sql_query)\n",
    "\n",
    "    columns = [desc[0] for desc in cursor.description]\n",
    "    rows = cursor.fetchall()\n",
    "\n",
    "    cursor.close()\n",
    "    connection.close()\n",
    "\n",
    "    return columns, rows"
   ]
  },
  {
   "cell_type": "code",
   "execution_count": null,
   "id": "243d3a09-54d6-4e78-a7cd-36a7cf0bc647",
   "metadata": {},
   "outputs": [],
   "source": [
    "security_context = {}\n",
    "token = jwt.encode(security_context, os.environ[\"CUBE_API_SECRET\"], algorithm=\"HS256\")"
   ]
  },
  {
   "cell_type": "code",
   "execution_count": null,
   "id": "918b6a74-0b54-4312-8b87-1c1193112e49",
   "metadata": {},
   "outputs": [],
   "source": [
    "loader = CubeSemanticLoader(\"http://localhost:4000/cubejs-api/v1\", token)"
   ]
  },
  {
   "cell_type": "code",
   "execution_count": null,
   "id": "2edcbe48-3aa5-45ad-ae3d-f6b1d0f6db11",
   "metadata": {},
   "outputs": [],
   "source": [
    "documents = loader.load()"
   ]
  },
  {
   "cell_type": "code",
   "execution_count": null,
   "id": "5b928ab8-79e1-4817-9534-6e055f97cd14",
   "metadata": {},
   "outputs": [],
   "source": [
    "vectorstore = FAISS.from_documents(documents, embeddings)"
   ]
  },
  {
   "cell_type": "code",
   "execution_count": null,
   "id": "298000b6-1408-4c2e-8b8f-246fdaa30401",
   "metadata": {},
   "outputs": [],
   "source": [
    "with open(\"vectorstore.pkl\", \"wb\") as f:\n",
    "    pickle.dump(vectorstore, f)"
   ]
  },
  {
   "cell_type": "code",
   "execution_count": null,
   "id": "3c4ab222-e3f1-422a-8a45-a2ffdcca5e62",
   "metadata": {},
   "outputs": [],
   "source": [
    "question = \"how many orders?\""
   ]
  },
  {
   "cell_type": "code",
   "execution_count": null,
   "id": "3ac6c22d-9cb6-4758-958f-203d8c416df3",
   "metadata": {},
   "outputs": [],
   "source": [
    "docs = vectorstore.similarity_search(question)"
   ]
  },
  {
   "cell_type": "code",
   "execution_count": null,
   "id": "1d695311-3e8a-4274-9c8e-8739f1683062",
   "metadata": {},
   "outputs": [],
   "source": [
    "# take the first document as the best guess\n",
    "table_name = docs[0].metadata[\"table_name\"]"
   ]
  },
  {
   "cell_type": "code",
   "execution_count": null,
   "id": "9506aab0-2920-4551-9134-f8e707e07688",
   "metadata": {},
   "outputs": [],
   "source": [
    "columns_question = \"All available columns\"\n",
    "column_docs = vectorstore.similarity_search(\n",
    "    columns_question, filter=dict(table_name=table_name), k=15\n",
    ")"
   ]
  },
  {
   "cell_type": "code",
   "execution_count": null,
   "id": "7a0703a7-51e6-4962-8349-2bbf48212510",
   "metadata": {},
   "outputs": [],
   "source": [
    "lines = []\n",
    "for column_doc in column_docs:\n",
    "    column_title = column_doc.metadata[\"column_title\"]\n",
    "    column_name = column_doc.metadata[\"column_name\"]\n",
    "    column_data_type = column_doc.metadata[\"column_data_type\"]\n",
    "    print(column_name)\n",
    "    lines.append(\n",
    "        f\"title: {column_title}, column name: {column_name}, datatype: {column_data_type}, member type: {column_doc.metadata['column_member_type']}\"\n",
    "    )\n",
    "columns = \"\\n\\n\".join(lines)"
   ]
  },
  {
   "cell_type": "code",
   "execution_count": null,
   "id": "c0759b2b-b17a-4ec4-8986-309fb4a88f19",
   "metadata": {},
   "outputs": [],
   "source": [
    "prompt = CUBE_SQL_API_PROMPT.format(\n",
    "    input_question=question,\n",
    "    table_info=table_name,\n",
    "    columns_info=columns,\n",
    "    top_k=1000,\n",
    "    no_answer_text=_NO_ANSWER_TEXT,\n",
    ")"
   ]
  },
  {
   "cell_type": "code",
   "execution_count": null,
   "id": "7b34a03e-1d6f-4b76-908c-25caf840e3e0",
   "metadata": {},
   "outputs": [],
   "source": [
    "llm_answer = llm(prompt)\n",
    "bare_llm_answer = re.sub(r\"(?i)Answer:\\s*\", \"\", llm_answer)"
   ]
  },
  {
   "cell_type": "code",
   "execution_count": null,
   "id": "aadbbfac-2410-4d69-a83f-c2367fbd7429",
   "metadata": {},
   "outputs": [],
   "source": [
    "sql_query = llm_answer\n",
    "columns, rows = call_sql_api(sql_query)"
   ]
  }
 ],
 "metadata": {
  "kernelspec": {
   "display_name": "Python 3 (ipykernel)",
   "language": "python",
   "name": "python3"
  },
  "language_info": {
   "codemirror_mode": {
    "name": "ipython",
    "version": 3
   },
   "file_extension": ".py",
   "mimetype": "text/x-python",
   "name": "python",
   "nbconvert_exporter": "python",
   "pygments_lexer": "ipython3",
   "version": "3.9.10"
  }
 },
 "nbformat": 4,
 "nbformat_minor": 5
}
