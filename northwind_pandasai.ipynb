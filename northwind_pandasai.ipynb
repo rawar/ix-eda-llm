{
  "nbformat": 4,
  "nbformat_minor": 0,
  "metadata": {
    "colab": {
      "provenance": []
    },
    "kernelspec": {
      "name": "python3",
      "display_name": "Python 3"
    },
    "language_info": {
      "name": "python"
    }
  },
  "cells": [
    {
      "cell_type": "markdown",
      "source": [
        "# Using large language models for exploratory data analysis\n",
        "\n",
        "The following Google Colab notebook implements an simple exploratory data analysis with Pandas.AI, Azure's OpenAI GPT-4 on a SQLite3's northwind database."
      ],
      "metadata": {
        "id": "zZYaNiyqMZls"
      }
    },
    {
      "cell_type": "markdown",
      "source": [
        "### Install Libraries"
      ],
      "metadata": {
        "id": "D0mLkcp2MzUu"
      }
    },
    {
      "cell_type": "code",
      "source": [
        "!pip3 --quiet install pandasai"
      ],
      "metadata": {
        "id": "_XR3B8XsMz8S"
      },
      "execution_count": null,
      "outputs": []
    },
    {
      "cell_type": "markdown",
      "source": [
        "### Download the Northwind database for SQLite3"
      ],
      "metadata": {
        "id": "908O6Ui1NL_S"
      }
    },
    {
      "cell_type": "code",
      "source": [
        "!wget https://tdmdal.github.io/mma-sql-2021/data/northwind.sqlite3"
      ],
      "metadata": {
        "id": "efgS55V2QbFv"
      },
      "execution_count": null,
      "outputs": []
    },
    {
      "cell_type": "markdown",
      "source": [
        "### Load the SQL magic extension\n",
        "\n",
        "[this extension](https://github.com/catherinedevlin/ipython-sql) allows us to connect to DBs and issue SQL command"
      ],
      "metadata": {
        "id": "9TljpG4NQf9M"
      }
    },
    {
      "cell_type": "code",
      "source": [
        "%load_ext sql"
      ],
      "metadata": {
        "id": "ba_FtbgdQevV"
      },
      "execution_count": 3,
      "outputs": []
    },
    {
      "cell_type": "code",
      "execution_count": 17,
      "metadata": {
        "id": "D_UTKeBzMXzS"
      },
      "outputs": [],
      "source": [
        "from pandasai import SmartDataframe\n",
        "from pandasai.connectors import SqliteConnector\n",
        "from pandasai.llm.azure_openai import AzureOpenAI\n",
        "import getpass\n",
        "import os"
      ]
    },
    {
      "cell_type": "markdown",
      "source": [
        "### Enter Azure OpenAI credentials"
      ],
      "metadata": {
        "id": "qFoy8Q_OQ_QP"
      }
    },
    {
      "cell_type": "code",
      "source": [
        "print('Enter AZURE_OPENAI_API_KEY:')\n",
        "AZURE_OPENAI_API_KEY = getpass.getpass()"
      ],
      "metadata": {
        "colab": {
          "base_uri": "https://localhost:8080/"
        },
        "id": "z_ioqTUOQ_17",
        "outputId": "49208d8c-d015-4068-dc22-fb38891345c7"
      },
      "execution_count": 6,
      "outputs": [
        {
          "name": "stdout",
          "output_type": "stream",
          "text": [
            "Enter AZURE_OPENAI_API_KEY:\n",
            "··········\n"
          ]
        }
      ]
    },
    {
      "cell_type": "code",
      "source": [
        "print('Enter AZURE_OPENAI_ENDPOINT:')\n",
        "AZURE_OPENAI_API_ENDPOINT = getpass.getpass()"
      ],
      "metadata": {
        "colab": {
          "base_uri": "https://localhost:8080/"
        },
        "id": "RqeHbMWLRCin",
        "outputId": "6d9a5441-cc83-42d6-88b7-3231d8cffc53"
      },
      "execution_count": 9,
      "outputs": [
        {
          "name": "stdout",
          "output_type": "stream",
          "text": [
            "Enter AZURE_OPENAI_ENDPOINT:\n",
            "··········\n"
          ]
        }
      ]
    },
    {
      "cell_type": "code",
      "source": [
        "chat_llm = AzureOpenAI(\n",
        "    deployment_name=\"gpt-4\",\n",
        "    model_name=\"gpt-4\",\n",
        "    api_token=AZURE_OPENAI_API_KEY,\n",
        "    azure_endpoint=AZURE_OPENAI_API_ENDPOINT,\n",
        "    api_version='2023-05-15'\n",
        ")"
      ],
      "metadata": {
        "id": "H33QMfVGQ0Nt"
      },
      "execution_count": 15,
      "outputs": []
    },
    {
      "cell_type": "code",
      "source": [
        "odbc_str = \"northwind.sqlite3\"\n",
        "connector = SqliteConnector(config={\n",
        "    \"database\" : odbc_str,\n",
        "    \"table\" : \"Orders\",\n",
        "})"
      ],
      "metadata": {
        "id": "RbN9TrEMRpbT"
      },
      "execution_count": 13,
      "outputs": []
    },
    {
      "cell_type": "code",
      "source": [
        "df = SmartDataframe(connector, config={\"llm\": chat_llm})\n",
        "df.chat('How many orders are there ?')"
      ],
      "metadata": {
        "colab": {
          "base_uri": "https://localhost:8080/"
        },
        "id": "Gj_fmejbSopP",
        "outputId": "308dafa0-b24e-44c3-a4de-255534adfc1c"
      },
      "execution_count": 26,
      "outputs": [
        {
          "output_type": "execute_result",
          "data": {
            "text/plain": [
              "830"
            ]
          },
          "metadata": {},
          "execution_count": 26
        }
      ]
    },
    {
      "cell_type": "markdown",
      "source": [
        "### Plotting"
      ],
      "metadata": {
        "id": "9f7edVkfT0Wc"
      }
    },
    {
      "cell_type": "code",
      "source": [
        "user_defined_path = os.getcwd()\n",
        "df = SmartDataframe(connector, config={\n",
        "    \"save_charts\": True,\n",
        "    \"save_charts_path\": user_defined_path,\n",
        "    \"llm\": chat_llm\n",
        "    }\n",
        ")"
      ],
      "metadata": {
        "id": "eUJd1R44T2ZJ"
      },
      "execution_count": 24,
      "outputs": []
    },
    {
      "cell_type": "code",
      "source": [
        "response = df.chat(\n",
        "    \"Plot the histogram of Products showing for each year, using different colors for each bar\"\n",
        ")"
      ],
      "metadata": {
        "colab": {
          "base_uri": "https://localhost:8080/",
          "height": 513
        },
        "id": "XQZ1R25cUIeF",
        "outputId": "010af4c0-3cff-4f10-a8a8-d4d8102eb9d4"
      },
      "execution_count": 25,
      "outputs": [
        {
          "output_type": "display_data",
          "data": {
            "text/plain": [
              "<Figure size 640x480 with 1 Axes>"
            ],
            "image/png": "[encoded data removed]"
          },
          "metadata": {}
        }
      ]
    },
    {
      "cell_type": "code",
      "source": [
        "response = df.chat(\n",
        "    \"Plot the top 10 customers for 2016 by their order quantity, using different blue colors for each bar\"\n",
        ")"
      ],
      "metadata": {
        "colab": {
          "base_uri": "https://localhost:8080/",
          "height": 824
        },
        "id": "V_Ebie7rXp52",
        "outputId": "328f4376-b178-4505-cc59-610da5dcce2c"
      },
      "execution_count": 31,
      "outputs": [
        {
          "output_type": "stream",
          "name": "stderr",
          "text": [
            "WARNING:pandasai.helpers.logger:Failed to execute code with a correction framework [retry number: 1]\n",
            "ERROR:pandasai.helpers.logger:Failed with error: Traceback (most recent call last):\n",
            "  File \"/usr/local/lib/python3.10/dist-packages/pandasai/pipelines/smart_datalake_chat/code_execution.py\", line 53, in execute\n",
            "    result = pipeline_context.query_exec_tracker.execute_func(\n",
            "  File \"/usr/local/lib/python3.10/dist-packages/pandasai/helpers/query_exec_tracker.py\", line 128, in execute_func\n",
            "    result = function(*args, **kwargs)\n",
            "  File \"/usr/local/lib/python3.10/dist-packages/pandasai/helpers/code_manager.py\", line 212, in execute_code\n",
            "    exec(code_to_run, environment)\n",
            "  File \"<string>\", line 6, in <module>\n",
            "NameError: name 'np' is not defined\n",
            ". Retrying\n"
          ]
        },
        {
          "output_type": "display_data",
          "data": {
            "text/plain": [
              "<Figure size 1000x600 with 0 Axes>"
            ]
          },
          "metadata": {}
        },
        {
          "output_type": "display_data",
          "data": {
            "text/plain": [
              "<Figure size 1000x600 with 1 Axes>"
            ],
            "image/png": "[encoded data removed]"
          },
          "metadata": {}
        }
      ]
    },
    {
      "cell_type": "code",
      "source": [
        "print(response)"
      ],
      "metadata": {
        "colab": {
          "base_uri": "https://localhost:8080/"
        },
        "id": "_v5ofktfUKCV",
        "outputId": "bca63f08-d88f-4f0a-8135-6ea029984ff2"
      },
      "execution_count": 21,
      "outputs": [
        {
          "output_type": "stream",
          "name": "stdout",
          "text": [
            "/content/f5055380-1684-48a3-ba2b-50a27869119b.png\n"
          ]
        }
      ]
    }
  ]
}