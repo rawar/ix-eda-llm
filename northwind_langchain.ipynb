{
  "nbformat": 4,
  "nbformat_minor": 0,
  "metadata": {
    "colab": {
      "provenance": [],
      "toc_visible": true
    },
    "kernelspec": {
      "name": "python3",
      "display_name": "Python 3"
    },
    "language_info": {
      "name": "python"
    }
  },
  "cells": [
    {
      "cell_type": "markdown",
      "source": [
        "# Using large language models for exploratory data analysis\n",
        "\n",
        "The following Google Colab notebook implements an simple exploratory data analysis with Langchain, Azure's OpenAI GPT-4 on a SQLite3's northwind database."
      ],
      "metadata": {
        "id": "Ijr7HRQOJ28z"
      }
    },
    {
      "cell_type": "markdown",
      "source": [
        "### Install Libraries"
      ],
      "metadata": {
        "id": "z6_DCARSKXdw"
      }
    },
    {
      "cell_type": "code",
      "source": [
        "!pip3 install --quiet langchain openai langchain_experimental langchain-openai SQLAlchemy\n"
      ],
      "metadata": {
        "id": "1MICTiKgJ18w"
      },
      "execution_count": 1,
      "outputs": []
    },
    {
      "cell_type": "markdown",
      "source": [
        "### Download the Northwind database for SQLite3"
      ],
      "metadata": {
        "id": "5vIb2E5Ek8ik"
      }
    },
    {
      "cell_type": "code",
      "execution_count": 2,
      "metadata": {
        "colab": {
          "base_uri": "https://localhost:8080/"
        },
        "id": "bkk8V7YheYG2",
        "outputId": "f1f16381-fb06-40b6-8513-db310e51fa35"
      },
      "outputs": [
        {
          "output_type": "stream",
          "name": "stdout",
          "text": [
            "--2024-01-21 13:22:35--  https://tdmdal.github.io/mma-sql-2021/data/northwind.sqlite3\n",
            "Resolving tdmdal.github.io (tdmdal.github.io)... 185.199.108.153, 185.199.109.153, 185.199.110.153, ...\n",
            "Connecting to tdmdal.github.io (tdmdal.github.io)|185.199.108.153|:443... connected.\n",
            "HTTP request sent, awaiting response... 200 OK\n",
            "Length: 804864 (786K) [application/octet-stream]\n",
            "Saving to: ‘northwind.sqlite3.1’\n",
            "\n",
            "\rnorthwind.sqlite3.1   0%[                    ]       0  --.-KB/s               \rnorthwind.sqlite3.1 100%[===================>] 786.00K  --.-KB/s    in 0.05s   \n",
            "\n",
            "2024-01-21 13:22:35 (15.4 MB/s) - ‘northwind.sqlite3.1’ saved [804864/804864]\n",
            "\n"
          ]
        }
      ],
      "source": [
        "!wget https://tdmdal.github.io/mma-sql-2021/data/northwind.sqlite3"
      ]
    },
    {
      "cell_type": "markdown",
      "source": [
        "### Load the SQL magic extension\n",
        "\n",
        "[this extension](https://github.com/catherinedevlin/ipython-sql) allows us to connect to DBs and issue SQL command\n"
      ],
      "metadata": {
        "id": "Nnv_VS2QKwWC"
      }
    },
    {
      "cell_type": "code",
      "source": [
        "%load_ext sql"
      ],
      "metadata": {
        "id": "ePPT4oD5gnVb"
      },
      "execution_count": 3,
      "outputs": []
    },
    {
      "cell_type": "markdown",
      "source": [
        "### Load and test the database"
      ],
      "metadata": {
        "id": "K4P5gj1dLBtR"
      }
    },
    {
      "cell_type": "code",
      "source": [
        "%sql sqlite:///northwind.sqlite3"
      ],
      "metadata": {
        "id": "KAcS-BO6gprr"
      },
      "execution_count": 4,
      "outputs": []
    },
    {
      "cell_type": "code",
      "source": [
        "%%sql\n",
        "SELECT COUNT(OrderID) FROM Orders WHERE type='table' AND name NOT LIKE 'sqlite_%';"
      ],
      "metadata": {
        "colab": {
          "base_uri": "https://localhost:8080/"
        },
        "id": "JaB20Doogqqa",
        "outputId": "c4654064-aad0-41d8-dad9-c7d899982652"
      },
      "execution_count": 5,
      "outputs": [
        {
          "output_type": "stream",
          "name": "stdout",
          "text": [
            " * sqlite:///northwind.sqlite3\n",
            "(sqlite3.OperationalError) no such column: type\n",
            "[SQL: SELECT COUNT(OrderID) FROM Orders WHERE type='table' AND name NOT LIKE 'sqlite_%';]\n",
            "(Background on this error at: https://sqlalche.me/e/20/e3q8)\n"
          ]
        }
      ]
    },
    {
      "cell_type": "code",
      "source": [
        "import os\n",
        "import logging\n",
        "import sys\n",
        "import textwrap\n",
        "import pprint\n",
        "import pandas as pd\n",
        "from langchain.docstore.document import Document\n",
        "from langchain.document_loaders import TextLoader\n",
        "from langchain.embeddings.azure_openai import AzureOpenAIEmbeddings\n",
        "from langchain_openai import AzureChatOpenAI\n",
        "from langchain.llms import AzureOpenAI\n",
        "from langchain.prompts.chat import ChatPromptTemplate\n",
        "from langchain.prompts import PromptTemplate\n",
        "from langchain.schema import HumanMessage\n",
        "from langchain_community.utilities import SQLDatabase\n",
        "from langchain_experimental.sql import SQLDatabaseChain\n",
        "from langchain.agents import AgentType, create_sql_agent\n",
        "from langchain.sql_database import SQLDatabase\n",
        "from langchain.agents.agent_toolkits.sql.toolkit import SQLDatabaseToolkit\n",
        "from sqlalchemy import create_engine\n",
        "import getpass\n",
        "import json\n",
        "import re\n",
        "import warnings\n",
        "import importlib\n",
        "import ast\n",
        "import matplotlib.pyplot as plt"
      ],
      "metadata": {
        "id": "HkpTYkgyjNGo"
      },
      "execution_count": 6,
      "outputs": []
    },
    {
      "cell_type": "markdown",
      "source": [
        "### Enter Azure OpenAI credentials"
      ],
      "metadata": {
        "id": "s0JWPkyDLfiT"
      }
    },
    {
      "cell_type": "code",
      "source": [
        "print('Enter AZURE_OPENAI_API_KEY:')\n",
        "os.environ[\"AZURE_OPENAI_API_KEY\"] = getpass.getpass()"
      ],
      "metadata": {
        "colab": {
          "base_uri": "https://localhost:8080/"
        },
        "id": "436NcDvAkEzr",
        "outputId": "f16696d6-4fd4-4da9-a512-81faf3c3f1e7"
      },
      "execution_count": 7,
      "outputs": [
        {
          "name": "stdout",
          "output_type": "stream",
          "text": [
            "Enter AZURE_OPENAI_API_KEY:\n",
            "··········\n"
          ]
        }
      ]
    },
    {
      "cell_type": "code",
      "source": [
        "print('Enter AZURE_OPENAI_ENDPOINT:')\n",
        "os.environ[\"AZURE_OPENAI_ENDPOINT\"] = getpass.getpass()"
      ],
      "metadata": {
        "colab": {
          "base_uri": "https://localhost:8080/"
        },
        "id": "H7YtJzF6kO5g",
        "outputId": "b0873a9b-ffaf-4025-86ca-1317972ca962"
      },
      "execution_count": 8,
      "outputs": [
        {
          "name": "stdout",
          "output_type": "stream",
          "text": [
            "Enter AZURE_OPENAI_ENDPOINT:\n",
            "··········\n"
          ]
        }
      ]
    },
    {
      "cell_type": "markdown",
      "source": [
        "### Ask the database"
      ],
      "metadata": {
        "id": "m1HZ-TDILk4M"
      }
    },
    {
      "cell_type": "code",
      "source": [
        "chat_llm = AzureChatOpenAI(\n",
        "    temperature=0,\n",
        "    openai_api_version=\"2023-05-15\",\n",
        "    deployment_name=\"gpt-4\",\n",
        ")"
      ],
      "metadata": {
        "id": "x64FCNlekVjd"
      },
      "execution_count": 9,
      "outputs": []
    },
    {
      "cell_type": "code",
      "source": [
        "odbc_str = \"sqlite:///northwind.sqlite3\"\n",
        "db_engine = create_engine(odbc_str)"
      ],
      "metadata": {
        "id": "wHXJM3zzocWS"
      },
      "execution_count": 10,
      "outputs": []
    },
    {
      "cell_type": "code",
      "source": [
        "final_prompt = ChatPromptTemplate.from_messages(\n",
        "    [\n",
        "        (\"system\",\n",
        "         \"\"\"\n",
        "          You are a helpful AI assistant expert in querying SQL Database to find answers to user's question about Categories, Products and Orders.\n",
        "         \"\"\"\n",
        "         ),\n",
        "        (\"user\", \"{question}\\n ai: \"),\n",
        "    ]\n",
        ")"
      ],
      "metadata": {
        "id": "wsNqWUAQokeV"
      },
      "execution_count": 11,
      "outputs": []
    },
    {
      "cell_type": "code",
      "source": [
        "db = SQLDatabase(db_engine)\n",
        "\n",
        "sql_toolkit = SQLDatabaseToolkit(db=db, llm=chat_llm)\n",
        "sql_toolkit.get_tools()\n",
        "\n",
        "sqldb_agent = create_sql_agent(\n",
        "    llm=chat_llm,\n",
        "    toolkit=sql_toolkit,\n",
        "    agent_type=AgentType.ZERO_SHOT_REACT_DESCRIPTION,\n",
        "    verbose=True\n",
        ")"
      ],
      "metadata": {
        "id": "AH-hPEPjooxS"
      },
      "execution_count": 12,
      "outputs": []
    },
    {
      "cell_type": "code",
      "source": [
        "sqldb_agent.run(final_prompt.format(\n",
        "        question=\"How many Orders are there?\"\n",
        "  ))"
      ],
      "metadata": {
        "colab": {
          "base_uri": "https://localhost:8080/",
          "height": 929
        },
        "id": "1HaAeZZ_ovq-",
        "outputId": "7c52f1cc-0cb6-4eff-d73d-e407ba8f2289"
      },
      "execution_count": 13,
      "outputs": [
        {
          "output_type": "stream",
          "name": "stderr",
          "text": [
            "/usr/local/lib/python3.10/dist-packages/langchain_core/_api/deprecation.py:117: LangChainDeprecationWarning: The function `run` was deprecated in LangChain 0.1.0 and will be removed in 0.2.0. Use invoke instead.\n",
            "  warn_deprecated(\n"
          ]
        },
        {
          "output_type": "stream",
          "name": "stdout",
          "text": [
            "\n",
            "\n",
            "\u001b[1m> Entering new AgentExecutor chain...\u001b[0m\n",
            "\u001b[32;1m\u001b[1;3mAction: sql_db_list_tables\n",
            "Action Input: \"\"\u001b[0m\n",
            "Observation: \u001b[38;5;200m\u001b[1;3mCategories, Customers, Employees, OrderDetails, Orders, Products, Shippers, Suppliers\u001b[0m\n",
            "Thought:\u001b[32;1m\u001b[1;3mThe Orders table seems to be the most relevant for this query. I should check its schema to understand its structure.\n",
            "Action: sql_db_schema\n",
            "Action Input: \"Orders\" \u001b[0m\n",
            "Observation: \u001b[33;1m\u001b[1;3m\n",
            "CREATE TABLE \"Orders\" (\n",
            "\t\"OrderID\" INTEGER NOT NULL, \n",
            "\t\"CustomerID\" NCHAR(5) NOT NULL, \n",
            "\t\"EmployeeID\" INTEGER, \n",
            "\t\"OrderDate\" DATETIME, \n",
            "\t\"RequiredDate\" DATETIME, \n",
            "\t\"ShippedDate\" DATETIME, \n",
            "\t\"ShipVia\" INTEGER, \n",
            "\t\"Freight\" NUMERIC DEFAULT 0, \n",
            "\t\"ShipName\" NVARCHAR(40), \n",
            "\t\"ShipAddress\" NVARCHAR(60), \n",
            "\t\"ShipCity\" NVARCHAR(15), \n",
            "\t\"ShipRegion\" NVARCHAR(15), \n",
            "\t\"ShipPostalCode\" NVARCHAR(10), \n",
            "\t\"ShipCountry\" NVARCHAR(15), \n",
            "\tPRIMARY KEY (\"OrderID\"), \n",
            "\tFOREIGN KEY(\"ShipVia\") REFERENCES \"Shippers\" (\"ShipperID\"), \n",
            "\tFOREIGN KEY(\"EmployeeID\") REFERENCES \"Employees\" (\"EmployeeID\"), \n",
            "\tFOREIGN KEY(\"CustomerID\") REFERENCES \"Customers\" (\"CustomerID\")\n",
            ")\n",
            "\n",
            "/*\n",
            "3 rows from Orders table:\n",
            "OrderID\tCustomerID\tEmployeeID\tOrderDate\tRequiredDate\tShippedDate\tShipVia\tFreight\tShipName\tShipAddress\tShipCity\tShipRegion\tShipPostalCode\tShipCountry\n",
            "10248\tVINET\t5\t2014-07-04 08:00:00\t2014-08-01 00:00:00\t2014-07-16 00:00:00\t3\t32.3800000000\tVins et alcools Chevalier\t59 rue de l'Abbaye\tReims\tNone\t51100\tFrance\n",
            "10249\tTOMSP\t6\t2014-07-05 04:00:00\t2014-08-16 00:00:00\t2014-07-10 00:00:00\t1\t11.6100000000\tToms Spezialitäten\tLuisenstr. 48\tMünster\tNone\t44087\tGermany\n",
            "10250\tHANAR\t4\t2014-07-08 15:00:00\t2014-08-05 00:00:00\t2014-07-12 00:00:00\t2\t65.8300000000\tHanari Carnes\tRua do Paço, 67\tRio de Janeiro\tRJ\t05454-876\tBrazil\n",
            "*/\u001b[0m\n",
            "Thought:\u001b[32;1m\u001b[1;3mThe Orders table has a primary key \"OrderID\" which is unique for each order. I can count the number of unique OrderIDs to find out how many orders there are.\n",
            "Action: sql_db_query_checker\n",
            "Action Input: \"SELECT COUNT(OrderID) FROM Orders\"\u001b[0m\n",
            "Observation: \u001b[36;1m\u001b[1;3mSELECT COUNT(OrderID) FROM Orders\u001b[0m\n",
            "Thought:\u001b[32;1m\u001b[1;3mThe query is correct. Now I can execute it to get the number of orders.\n",
            "Action: sql_db_query\n",
            "Action Input: \"SELECT COUNT(OrderID) FROM Orders\"\u001b[0m\n",
            "Observation: \u001b[36;1m\u001b[1;3m[(830,)]\u001b[0m\n",
            "Thought:\u001b[32;1m\u001b[1;3mI now know the final answer\n",
            "Final Answer: There are 830 orders.\u001b[0m\n",
            "\n",
            "\u001b[1m> Finished chain.\u001b[0m\n"
          ]
        },
        {
          "output_type": "execute_result",
          "data": {
            "text/plain": [
              "'There are 830 orders.'"
            ],
            "application/vnd.google.colaboratory.intrinsic+json": {
              "type": "string"
            }
          },
          "metadata": {},
          "execution_count": 13
        }
      ]
    }
  ]
}